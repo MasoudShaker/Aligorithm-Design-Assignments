{
  "cells": [
    {
      "cell_type": "markdown",
      "metadata": {
        "id": "view-in-github",
        "colab_type": "text"
      },
      "source": [
        "<a href=\"https://colab.research.google.com/github/MasoudShaker/Aligorithm-Design-Assignments/blob/main/Copy_of_speech_command_classification_with_torchaudio_tutorial.ipynb\" target=\"_parent\"><img src=\"https://colab.research.google.com/assets/colab-badge.svg\" alt=\"Open In Colab\"/></a>"
      ]
    },
    {
      "cell_type": "code",
      "execution_count": 1,
      "metadata": {
        "id": "5gpdgWR-Evj_"
      },
      "outputs": [],
      "source": [
        "%matplotlib inline"
      ]
    },
    {
      "cell_type": "markdown",
      "metadata": {
        "id": "QtKhFEoAEvkB"
      },
      "source": [
        "\n",
        "# Speech Command Classification with torchaudio\n",
        "\n",
        "This tutorial will show you how to correctly format an audio dataset and\n",
        "then train/test an audio classifier network on the dataset.\n",
        "\n",
        "Colab has GPU option available. In the menu tabs, select “Runtime” then\n",
        "“Change runtime type”. In the pop-up that follows, you can choose GPU.\n",
        "After the change, your runtime should automatically restart (which means\n",
        "information from executed cells disappear).\n",
        "\n",
        "First, let’s import the common torch packages such as\n",
        "[torchaudio](https://github.com/pytorch/audio)_ that can be installed\n",
        "by following the instructions on the website.\n"
      ]
    },
    {
      "cell_type": "code",
      "source": [
        "!pip install pydub"
      ],
      "metadata": {
        "id": "f41NED06r4-7",
        "outputId": "2dfb2f27-873c-419f-e69a-9ffbc1b623ed",
        "colab": {
          "base_uri": "https://localhost:8080/"
        }
      },
      "execution_count": 3,
      "outputs": [
        {
          "output_type": "stream",
          "name": "stdout",
          "text": [
            "Collecting pydub\n",
            "  Downloading pydub-0.25.1-py2.py3-none-any.whl (32 kB)\n",
            "Installing collected packages: pydub\n",
            "Successfully installed pydub-0.25.1\n"
          ]
        }
      ]
    },
    {
      "cell_type": "code",
      "execution_count": 4,
      "metadata": {
        "id": "gYLZFvY7EvkB"
      },
      "outputs": [],
      "source": [
        "import torch\n",
        "import torch.nn as nn\n",
        "import torch.nn.functional as F\n",
        "import torch.optim as optim\n",
        "import torchaudio\n",
        "import sys\n",
        "\n",
        "import matplotlib.pyplot as plt\n",
        "import IPython.display as ipd\n",
        "\n",
        "from tqdm import tqdm\n",
        "import wave\n",
        "import os\n",
        "from pydub import AudioSegment"
      ]
    },
    {
      "cell_type": "markdown",
      "metadata": {
        "id": "iWhIze8vEvkD"
      },
      "source": [
        "Let’s check if a CUDA GPU is available and select our device. Running\n",
        "the network on a GPU will greatly decrease the training/testing runtime.\n",
        "\n",
        "\n"
      ]
    },
    {
      "cell_type": "code",
      "execution_count": 5,
      "metadata": {
        "colab": {
          "base_uri": "https://localhost:8080/"
        },
        "id": "YMMe1pnuEvkD",
        "outputId": "793cd212-805c-4ad0-adc9-3885c185fcf2"
      },
      "outputs": [
        {
          "output_type": "stream",
          "name": "stdout",
          "text": [
            "cuda\n"
          ]
        }
      ],
      "source": [
        "device = torch.device(\"cuda\" if torch.cuda.is_available() else \"cpu\")\n",
        "print(device)"
      ]
    },
    {
      "cell_type": "markdown",
      "metadata": {
        "id": "IXiA7M98Hw1K"
      },
      "source": [
        "# Connect to Google Drive"
      ]
    },
    {
      "cell_type": "code",
      "execution_count": 6,
      "metadata": {
        "colab": {
          "base_uri": "https://localhost:8080/"
        },
        "id": "bCmmmqYhHuPt",
        "outputId": "37ac32c5-7bc8-49fa-b231-47a09bf42ad1"
      },
      "outputs": [
        {
          "output_type": "stream",
          "name": "stdout",
          "text": [
            "Mounted at drive\n"
          ]
        }
      ],
      "source": [
        "######### Masoud cell #########\n",
        "from google.colab import drive\n",
        "drive.mount('drive')"
      ]
    },
    {
      "cell_type": "markdown",
      "metadata": {
        "id": "TuvjZS9EEvkE"
      },
      "source": [
        "## Importing the Dataset\n"
      ]
    },
    {
      "cell_type": "code",
      "execution_count": 9,
      "metadata": {
        "id": "Bips3O-yNXUD"
      },
      "outputs": [],
      "source": [
        "######### Masoud cell #########\n",
        "labels = []\n",
        "Bale_path = 'drive/MyDrive/Bale'\n",
        "folder_names = os.listdir(Bale_path)\n",
        "train_set_list = []\n",
        "test_set_list = []\n",
        "split_percentage = 0.9\n",
        "\n",
        "for idx, folder_name in enumerate(folder_names):\n",
        "\n",
        "  sample_list = []\n",
        "  label = folder_name[2:]\n",
        "  labels.append(label)\n",
        "\n",
        "  folder_path = os.path.join(Bale_path, folder_name)\n",
        "  file_names = os.listdir(folder_path)\n",
        "  # print(file_names)\n",
        "  num_files = len(file_names)\n",
        "\n",
        "  for i, file_name in enumerate(file_names):\n",
        "    file_path = os.path.join(folder_path, file_name)\n",
        "\n",
        "    stereo_audio = AudioSegment.from_file(\n",
        "    file_path,\n",
        "    format=\"wav\")\n",
        "    mono_audios = stereo_audio.split_to_mono()\n",
        "\n",
        "    file_idx = idx*10 + i\n",
        "\n",
        "    mono_left_path = f\"drive/MyDrive/mono_lefts/mono_left{file_idx}.wav\"\n",
        "    mono_right_path = f\"drive/MyDrive/mono_rights/mono_right{file_idx}.wav\"\n",
        "\n",
        "    mono_left = mono_audios[0].export(mono_left_path, format=\"wav\")\n",
        "\n",
        "    mono_right = mono_audios[1].export(mono_right_path, format=\"wav\")\n",
        "\n",
        "    # metadata_left = torchaudio.info(file_path_left)\n",
        "    waveform_left, sample_rate = torchaudio.load(mono_left_path)\n",
        "    # print(f'mono left \\n waveform: {waveform_left} \\n sample_rate:{sample_rate}')\n",
        "\n",
        "    # metadata_right = torchaudio.info(file_path_right)\n",
        "    waveform_right, sample_rate = torchaudio.load(mono_right_path)\n",
        "    # print(f'mono right \\n waveform: {waveform_right} \\n sample_rate:{sample_rate}')\n",
        "\n",
        "    waveform_mean = (waveform_left + waveform_right) / 2\n",
        "\n",
        "    sample_tuple = (waveform_mean, sample_rate, label, 'blah', 0)\n",
        "\n",
        "    if i < split_percentage*num_files:\n",
        "      train_set_list.append(sample_tuple)\n",
        "    else:\n",
        "      test_set_list.append(sample_tuple)"
      ]
    },
    {
      "cell_type": "code",
      "execution_count": 10,
      "metadata": {
        "colab": {
          "base_uri": "https://localhost:8080/"
        },
        "id": "wz2cfn2vd_iw",
        "outputId": "1fe756c9-5969-47c9-9bf2-d3e111c709b8"
      },
      "outputs": [
        {
          "output_type": "execute_result",
          "data": {
            "text/plain": [
              "(1298, 120)"
            ]
          },
          "metadata": {},
          "execution_count": 10
        }
      ],
      "source": [
        "len(train_set_list), len(test_set_list)"
      ]
    },
    {
      "cell_type": "code",
      "execution_count": 11,
      "metadata": {
        "colab": {
          "base_uri": "https://localhost:8080/"
        },
        "id": "C3ZlQZUtSWD3",
        "outputId": "d180b734-d024-479f-ea15-4622e5466160"
      },
      "outputs": [
        {
          "output_type": "execute_result",
          "data": {
            "text/plain": [
              "['baneshat',\n",
              " 'ghamgin',\n",
              " ' pakar',\n",
              " ' khasmane',\n",
              " ' mashkuk',\n",
              " ' delnegaran',\n",
              " ' las zadan',\n",
              " 'moshtagh',\n",
              " ' jeddi',\n",
              " ' alaghemand',\n",
              " ' motmaen',\n",
              " ' badgoman',\n",
              " 'semej',\n",
              " 'narahat',\n",
              " 'delsard',\n",
              " ' shakkak',\n",
              " 'delmashghul',\n",
              " ' pashiman',\n",
              " ' motevaghe',\n",
              " 'negaran',\n",
              " ' mohtat',\n",
              " 'khialardaz',\n",
              " ' bamolaheze',\n",
              " ' jasur',\n",
              " ' khungarm',\n",
              " ' dodel',\n",
              " ' mosammam',\n",
              " ' moraddad',\n",
              " ' motefakker',\n",
              " ' mottaham']"
            ]
          },
          "metadata": {},
          "execution_count": 11
        }
      ],
      "source": [
        "labels"
      ]
    },
    {
      "cell_type": "markdown",
      "metadata": {
        "id": "lvmLHRCQEvkI"
      },
      "source": [
        "## Formatting the Data\n",
        "\n",
        "This is a good place to apply transformations to the data. For the\n",
        "waveform, we downsample the audio for faster processing without losing\n",
        "too much of the classification power.\n",
        "\n",
        "We don’t need to apply other transformations here. It is common for some\n",
        "datasets though to have to reduce the number of channels (say from\n",
        "stereo to mono) by either taking the mean along the channel dimension,\n",
        "or simply keeping only one of the channels. Since SpeechCommands uses a\n",
        "single channel for audio, this is not needed here.\n",
        "\n",
        "\n"
      ]
    },
    {
      "cell_type": "code",
      "execution_count": 12,
      "metadata": {
        "colab": {
          "base_uri": "https://localhost:8080/",
          "height": 60
        },
        "id": "8uiZ9QTuEvkI",
        "outputId": "a9fd482b-0602-4d1f-b557-3250aafb3a38"
      },
      "outputs": [
        {
          "output_type": "execute_result",
          "data": {
            "text/plain": [
              "<IPython.lib.display.Audio object>"
            ],
            "text/html": [
              "\n",
              "                <audio  controls=\"controls\" >\n",
              "                    <source src=\"data:audio/wav;base64,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\" type=\"audio/wav\" />\n",
              "                    Your browser does not support the audio element.\n",
              "                </audio>\n",
              "              "
            ]
          },
          "metadata": {},
          "execution_count": 12
        }
      ],
      "source": [
        "new_sample_rate = 8000\n",
        "transform = torchaudio.transforms.Resample(orig_freq=sample_rate, new_freq=new_sample_rate)\n",
        "transformed = transform(waveform_mean)\n",
        "\n",
        "ipd.Audio(transformed.numpy(), rate=new_sample_rate)"
      ]
    },
    {
      "cell_type": "markdown",
      "metadata": {
        "id": "WqLDTA1jEvkJ"
      },
      "source": [
        "We are encoding each word using its index in the list of labels.\n",
        "\n",
        "\n"
      ]
    },
    {
      "cell_type": "code",
      "execution_count": 13,
      "metadata": {
        "colab": {
          "base_uri": "https://localhost:8080/"
        },
        "id": "hrhMfsKMEvkJ",
        "outputId": "ca14467f-ef87-4c17-dea0-95d369be367f"
      },
      "outputs": [
        {
          "output_type": "stream",
          "name": "stdout",
          "text": [
            "baneshat --> tensor(0) --> baneshat\n"
          ]
        }
      ],
      "source": [
        "######### Masoud cell #########\n",
        "def label_to_index(word):\n",
        "    # Return the position of the word in labels\n",
        "    return torch.tensor(labels.index(word))\n",
        "\n",
        "\n",
        "def index_to_label(index):\n",
        "    # Return the word corresponding to the index in labels\n",
        "    # This is the inverse of label_to_index\n",
        "    return labels[index]\n",
        "\n",
        "\n",
        "word_start = \"baneshat\"\n",
        "index = label_to_index(word_start)\n",
        "word_recovered = index_to_label(index)\n",
        "\n",
        "print(word_start, \"-->\", index, \"-->\", word_recovered)"
      ]
    },
    {
      "cell_type": "markdown",
      "metadata": {
        "id": "PHV6PQ0WEvkJ"
      },
      "source": [
        "To turn a list of data point made of audio recordings and utterances\n",
        "into two batched tensors for the model, we implement a collate function\n",
        "which is used by the PyTorch DataLoader that allows us to iterate over a\n",
        "dataset by batches. Please see [the\n",
        "documentation](https://pytorch.org/docs/stable/data.html#working-with-collate-fn)_\n",
        "for more information about working with a collate function.\n",
        "\n",
        "In the collate function, we also apply the resampling, and the text\n",
        "encoding.\n",
        "\n",
        "\n"
      ]
    },
    {
      "cell_type": "code",
      "execution_count": 14,
      "metadata": {
        "id": "WYYZXHI6EvkJ"
      },
      "outputs": [],
      "source": [
        "def pad_sequence(batch):\n",
        "    # Make all tensor in a batch the same length by padding with zeros\n",
        "    batch = [item.t() for item in batch]\n",
        "    batch = torch.nn.utils.rnn.pad_sequence(batch, batch_first=True, padding_value=0.)\n",
        "    return batch.permute(0, 2, 1)\n",
        "\n",
        "\n",
        "def collate_fn(batch):\n",
        "\n",
        "    # A data tuple has the form:\n",
        "    # waveform, sample_rate, label, speaker_id, utterance_number\n",
        "\n",
        "    tensors, targets = [], []\n",
        "\n",
        "    # Gather in lists, and encode labels as indices\n",
        "    for waveform, _, label, *_ in batch:\n",
        "        tensors += [waveform]\n",
        "        targets += [label_to_index(label)]\n",
        "\n",
        "    # Group the list of tensors into a batched tensor\n",
        "    tensors = pad_sequence(tensors)\n",
        "    targets = torch.stack(targets)\n",
        "\n",
        "    return tensors, targets\n",
        "\n",
        "\n",
        "batch_size = 256\n",
        "\n",
        "if device == \"cuda\":\n",
        "    num_workers = 1\n",
        "    pin_memory = True\n",
        "else:\n",
        "    num_workers = 0\n",
        "    pin_memory = False\n",
        "\n",
        "train_loader = torch.utils.data.DataLoader(\n",
        "    train_set_list,\n",
        "    batch_size=batch_size,\n",
        "    shuffle=True,\n",
        "    collate_fn=collate_fn,\n",
        "    num_workers=num_workers,\n",
        "    pin_memory=pin_memory,\n",
        ")\n",
        "test_loader = torch.utils.data.DataLoader(\n",
        "    test_set_list,\n",
        "    batch_size=batch_size,\n",
        "    shuffle=False,\n",
        "    drop_last=False,\n",
        "    collate_fn=collate_fn,\n",
        "    num_workers=num_workers,\n",
        "    pin_memory=pin_memory,\n",
        ")"
      ]
    },
    {
      "cell_type": "markdown",
      "metadata": {
        "id": "GJxGr998EvkK"
      },
      "source": [
        "## Define the Network\n",
        "\n",
        "For this tutorial we will use a convolutional neural network to process\n",
        "the raw audio data. Usually more advanced transforms are applied to the\n",
        "audio data, however CNNs can be used to accurately process the raw data.\n",
        "The specific architecture is modeled after the M5 network architecture\n",
        "described in [this paper](https://arxiv.org/pdf/1610.00087.pdf)_. An\n",
        "important aspect of models processing raw audio data is the receptive\n",
        "field of their first layer’s filters. Our model’s first filter is length\n",
        "80 so when processing audio sampled at 8kHz the receptive field is\n",
        "around 10ms (and at 4kHz, around 20 ms). This size is similar to speech\n",
        "processing applications that often use receptive fields ranging from\n",
        "20ms to 40ms.\n",
        "\n",
        "\n"
      ]
    },
    {
      "cell_type": "code",
      "execution_count": 15,
      "metadata": {
        "colab": {
          "base_uri": "https://localhost:8080/"
        },
        "id": "xgY0yytWEvkK",
        "outputId": "5b9e6109-198d-4590-d082-f89c85691e41"
      },
      "outputs": [
        {
          "output_type": "stream",
          "name": "stdout",
          "text": [
            "M5(\n",
            "  (conv1): Conv1d(1, 32, kernel_size=(80,), stride=(16,))\n",
            "  (bn1): BatchNorm1d(32, eps=1e-05, momentum=0.1, affine=True, track_running_stats=True)\n",
            "  (pool1): MaxPool1d(kernel_size=4, stride=4, padding=0, dilation=1, ceil_mode=False)\n",
            "  (conv2): Conv1d(32, 32, kernel_size=(3,), stride=(1,))\n",
            "  (bn2): BatchNorm1d(32, eps=1e-05, momentum=0.1, affine=True, track_running_stats=True)\n",
            "  (pool2): MaxPool1d(kernel_size=4, stride=4, padding=0, dilation=1, ceil_mode=False)\n",
            "  (conv3): Conv1d(32, 64, kernel_size=(3,), stride=(1,))\n",
            "  (bn3): BatchNorm1d(64, eps=1e-05, momentum=0.1, affine=True, track_running_stats=True)\n",
            "  (pool3): MaxPool1d(kernel_size=4, stride=4, padding=0, dilation=1, ceil_mode=False)\n",
            "  (conv4): Conv1d(64, 64, kernel_size=(3,), stride=(1,))\n",
            "  (bn4): BatchNorm1d(64, eps=1e-05, momentum=0.1, affine=True, track_running_stats=True)\n",
            "  (pool4): MaxPool1d(kernel_size=4, stride=4, padding=0, dilation=1, ceil_mode=False)\n",
            "  (fc1): Linear(in_features=64, out_features=30, bias=True)\n",
            ")\n",
            "Number of parameters: 26590\n"
          ]
        }
      ],
      "source": [
        "class M5(nn.Module):\n",
        "    def __init__(self, n_input=1, n_output=30, stride=16, n_channel=32):\n",
        "        super().__init__()\n",
        "        self.conv1 = nn.Conv1d(n_input, n_channel, kernel_size=80, stride=stride)\n",
        "        self.bn1 = nn.BatchNorm1d(n_channel)\n",
        "        self.pool1 = nn.MaxPool1d(4)\n",
        "        self.conv2 = nn.Conv1d(n_channel, n_channel, kernel_size=3)\n",
        "        self.bn2 = nn.BatchNorm1d(n_channel)\n",
        "        self.pool2 = nn.MaxPool1d(4)\n",
        "        self.conv3 = nn.Conv1d(n_channel, 2 * n_channel, kernel_size=3)\n",
        "        self.bn3 = nn.BatchNorm1d(2 * n_channel)\n",
        "        self.pool3 = nn.MaxPool1d(4)\n",
        "        self.conv4 = nn.Conv1d(2 * n_channel, 2 * n_channel, kernel_size=3)\n",
        "        self.bn4 = nn.BatchNorm1d(2 * n_channel)\n",
        "        self.pool4 = nn.MaxPool1d(4)\n",
        "        self.fc1 = nn.Linear(2 * n_channel, n_output)\n",
        "\n",
        "    def forward(self, x):\n",
        "        x = self.conv1(x)\n",
        "        x = F.relu(self.bn1(x))\n",
        "        x = self.pool1(x)\n",
        "        x = self.conv2(x)\n",
        "        x = F.relu(self.bn2(x))\n",
        "        x = self.pool2(x)\n",
        "        x = self.conv3(x)\n",
        "        x = F.relu(self.bn3(x))\n",
        "        x = self.pool3(x)\n",
        "        x = self.conv4(x)\n",
        "        x = F.relu(self.bn4(x))\n",
        "        x = self.pool4(x)\n",
        "        x = F.avg_pool1d(x, x.shape[-1])\n",
        "        x = x.permute(0, 2, 1)\n",
        "        x = self.fc1(x)\n",
        "        return F.log_softmax(x, dim=2)\n",
        "\n",
        "\n",
        "model = M5(n_input=transformed.shape[0], n_output=len(labels))\n",
        "model.to(device)\n",
        "print(model)\n",
        "\n",
        "\n",
        "def count_parameters(model):\n",
        "    return sum(p.numel() for p in model.parameters() if p.requires_grad)\n",
        "\n",
        "\n",
        "n = count_parameters(model)\n",
        "print(\"Number of parameters: %s\" % n)"
      ]
    },
    {
      "cell_type": "markdown",
      "metadata": {
        "id": "9Cx-Eb3TEvkK"
      },
      "source": [
        "We will use the same optimization technique used in the paper, an Adam\n",
        "optimizer with weight decay set to 0.0001. At first, we will train with\n",
        "a learning rate of 0.01, but we will use a ``scheduler`` to decrease it\n",
        "to 0.001 during training after 20 epochs.\n",
        "\n",
        "\n"
      ]
    },
    {
      "cell_type": "code",
      "execution_count": 16,
      "metadata": {
        "id": "O4hLQenOEvkL"
      },
      "outputs": [],
      "source": [
        "optimizer = optim.Adam(model.parameters(), lr=0.01, weight_decay=0.0001)\n",
        "scheduler = optim.lr_scheduler.StepLR(optimizer, step_size=20, gamma=0.1)  # reduce the learning after 20 epochs by a factor of 10"
      ]
    },
    {
      "cell_type": "markdown",
      "metadata": {
        "id": "H8C31FXgEvkL"
      },
      "source": [
        "## Training and Testing the Network\n",
        "\n",
        "Now let’s define a training function that will feed our training data\n",
        "into the model and perform the backward pass and optimization steps. For\n",
        "training, the loss we will use is the negative log-likelihood. The\n",
        "network will then be tested after each epoch to see how the accuracy\n",
        "varies during the training.\n",
        "\n",
        "\n"
      ]
    },
    {
      "cell_type": "code",
      "execution_count": 17,
      "metadata": {
        "id": "thGb1KkxEvkL"
      },
      "outputs": [],
      "source": [
        "def train(model, epoch, log_interval):\n",
        "    model.train()\n",
        "    for batch_idx, (data, target) in enumerate(train_loader):\n",
        "\n",
        "        data = data.to(device)\n",
        "        target = target.to(device)\n",
        "\n",
        "        # apply transform and model on whole batch directly on device\n",
        "        data = transform(data)\n",
        "        output = model(data)\n",
        "\n",
        "        # negative log-likelihood for a tensor of size (batch x 1 x n_output)\n",
        "        loss = F.nll_loss(output.squeeze(), target)\n",
        "\n",
        "        optimizer.zero_grad()\n",
        "        loss.backward()\n",
        "        optimizer.step()\n",
        "\n",
        "        # print training stats\n",
        "        if batch_idx % log_interval == 0:\n",
        "            print(f\"Train Epoch: {epoch} [{batch_idx * len(data)}/{len(train_loader.dataset)} ({100. * batch_idx / len(train_loader):.0f}%)]\\tLoss: {loss.item():.6f}\")\n",
        "\n",
        "        # update progress bar\n",
        "        pbar.update(pbar_update)\n",
        "        # record loss\n",
        "        losses.append(loss.item())"
      ]
    },
    {
      "cell_type": "markdown",
      "metadata": {
        "id": "2ai4veLaEvkL"
      },
      "source": [
        "Now that we have a training function, we need to make one for testing\n",
        "the networks accuracy. We will set the model to ``eval()`` mode and then\n",
        "run inference on the test dataset. Calling ``eval()`` sets the training\n",
        "variable in all modules in the network to false. Certain layers like\n",
        "batch normalization and dropout layers behave differently during\n",
        "training so this step is crucial for getting correct results.\n",
        "\n",
        "\n"
      ]
    },
    {
      "cell_type": "code",
      "execution_count": 18,
      "metadata": {
        "id": "MUfh84LJEvkM"
      },
      "outputs": [],
      "source": [
        "def number_of_correct(pred, target):\n",
        "    # count number of correct predictions\n",
        "    return pred.squeeze().eq(target).sum().item()\n",
        "\n",
        "\n",
        "def get_likely_index(tensor):\n",
        "    # find most likely label index for each element in the batch\n",
        "    return tensor.argmax(dim=-1)\n",
        "\n",
        "\n",
        "def test(model, epoch):\n",
        "    model.eval()\n",
        "    correct = 0\n",
        "    for data, target in test_loader:\n",
        "\n",
        "        data = data.to(device)\n",
        "        target = target.to(device)\n",
        "\n",
        "        # apply transform and model on whole batch directly on device\n",
        "        data = transform(data)\n",
        "        output = model(data)\n",
        "\n",
        "        pred = get_likely_index(output)\n",
        "        correct += number_of_correct(pred, target)\n",
        "\n",
        "        # update progress bar\n",
        "        pbar.update(pbar_update)\n",
        "\n",
        "    print(f\"\\nTest Epoch: {epoch}\\tAccuracy: {correct}/{len(test_loader.dataset)} ({100. * correct / len(test_loader.dataset):.0f}%)\\n\")"
      ]
    },
    {
      "cell_type": "markdown",
      "metadata": {
        "id": "KWT2OqW_EvkM"
      },
      "source": [
        "Finally, we can train and test the network. We will train the network\n",
        "for ten epochs then reduce the learn rate and train for ten more epochs.\n",
        "The network will be tested after each epoch to see how the accuracy\n",
        "varies during the training.\n",
        "\n",
        "\n"
      ]
    },
    {
      "cell_type": "code",
      "execution_count": 30,
      "metadata": {
        "colab": {
          "base_uri": "https://localhost:8080/"
        },
        "id": "KgX049jCEvkM",
        "outputId": "c38864ba-7fad-405d-b002-9e80dabf9520"
      },
      "outputs": [
        {
          "metadata": {
            "tags": null
          },
          "name": "stderr",
          "output_type": "stream",
          "text": [
            "  0%|          | 0.2857142857142857/400 [00:00<07:08,  1.07s/it] "
          ]
        },
        {
          "metadata": {
            "tags": null
          },
          "name": "stdout",
          "output_type": "stream",
          "text": [
            "Train Epoch: 1 [0/1298 (0%)]\tLoss: 2.753407\n"
          ]
        },
        {
          "metadata": {
            "tags": null
          },
          "name": "stderr",
          "output_type": "stream",
          "text": [
            "  0%|          | 1.1428571428571426/400 [00:01<05:41,  1.17it/s]"
          ]
        },
        {
          "metadata": {
            "tags": null
          },
          "name": "stdout",
          "output_type": "stream",
          "text": [
            "\n",
            "Test Epoch: 1\tAccuracy: 10/120 (8%)\n",
            "\n",
            "Train Epoch: 2 [0/1298 (0%)]\tLoss: 2.866411\n"
          ]
        },
        {
          "metadata": {
            "tags": null
          },
          "name": "stderr",
          "output_type": "stream",
          "text": [
            "  1%|          | 2.1428571428571423/400 [00:01<05:06,  1.30it/s]"
          ]
        },
        {
          "metadata": {
            "tags": null
          },
          "name": "stdout",
          "output_type": "stream",
          "text": [
            "\n",
            "Test Epoch: 2\tAccuracy: 10/120 (8%)\n",
            "\n",
            "Train Epoch: 3 [0/1298 (0%)]\tLoss: 2.706940\n"
          ]
        },
        {
          "metadata": {
            "tags": null
          },
          "name": "stderr",
          "output_type": "stream",
          "text": [
            "  1%|          | 3.142857142857142/400 [00:02<05:23,  1.23it/s] "
          ]
        },
        {
          "metadata": {
            "tags": null
          },
          "name": "stdout",
          "output_type": "stream",
          "text": [
            "\n",
            "Test Epoch: 3\tAccuracy: 9/120 (8%)\n",
            "\n",
            "Train Epoch: 4 [0/1298 (0%)]\tLoss: 2.800982\n"
          ]
        },
        {
          "metadata": {
            "tags": null
          },
          "name": "stderr",
          "output_type": "stream",
          "text": [
            "  1%|          | 4.1428571428571415/400 [00:03<05:19,  1.24it/s]"
          ]
        },
        {
          "metadata": {
            "tags": null
          },
          "name": "stdout",
          "output_type": "stream",
          "text": [
            "\n",
            "Test Epoch: 4\tAccuracy: 9/120 (8%)\n",
            "\n",
            "Train Epoch: 5 [0/1298 (0%)]\tLoss: 2.713501\n"
          ]
        },
        {
          "metadata": {
            "tags": null
          },
          "name": "stderr",
          "output_type": "stream",
          "text": [
            "  1%|▏         | 5.142857142857144/400 [00:04<05:18,  1.24it/s]"
          ]
        },
        {
          "metadata": {
            "tags": null
          },
          "name": "stdout",
          "output_type": "stream",
          "text": [
            "\n",
            "Test Epoch: 5\tAccuracy: 9/120 (8%)\n",
            "\n",
            "Train Epoch: 6 [0/1298 (0%)]\tLoss: 2.808670\n"
          ]
        },
        {
          "metadata": {
            "tags": null
          },
          "name": "stderr",
          "output_type": "stream",
          "text": [
            "  2%|▏         | 6.142857142857147/400 [00:05<05:20,  1.23it/s]"
          ]
        },
        {
          "metadata": {
            "tags": null
          },
          "name": "stdout",
          "output_type": "stream",
          "text": [
            "\n",
            "Test Epoch: 6\tAccuracy: 9/120 (8%)\n",
            "\n",
            "Train Epoch: 7 [0/1298 (0%)]\tLoss: 2.830625\n"
          ]
        },
        {
          "metadata": {
            "tags": null
          },
          "name": "stderr",
          "output_type": "stream",
          "text": [
            "  2%|▏         | 7.1428571428571495/400 [00:06<05:21,  1.22it/s]"
          ]
        },
        {
          "metadata": {
            "tags": null
          },
          "name": "stdout",
          "output_type": "stream",
          "text": [
            "\n",
            "Test Epoch: 7\tAccuracy: 9/120 (8%)\n",
            "\n",
            "Train Epoch: 8 [0/1298 (0%)]\tLoss: 2.873107\n"
          ]
        },
        {
          "metadata": {
            "tags": null
          },
          "name": "stderr",
          "output_type": "stream",
          "text": [
            "  2%|▏         | 8.142857142857151/400 [00:07<05:04,  1.29it/s]"
          ]
        },
        {
          "metadata": {
            "tags": null
          },
          "name": "stdout",
          "output_type": "stream",
          "text": [
            "\n",
            "Test Epoch: 8\tAccuracy: 12/120 (10%)\n",
            "\n",
            "Train Epoch: 9 [0/1298 (0%)]\tLoss: 2.742124\n"
          ]
        },
        {
          "metadata": {
            "tags": null
          },
          "name": "stderr",
          "output_type": "stream",
          "text": [
            "  2%|▏         | 9.142857142857148/400 [00:08<05:22,  1.21it/s]"
          ]
        },
        {
          "metadata": {
            "tags": null
          },
          "name": "stdout",
          "output_type": "stream",
          "text": [
            "\n",
            "Test Epoch: 9\tAccuracy: 11/120 (9%)\n",
            "\n",
            "Train Epoch: 10 [0/1298 (0%)]\tLoss: 2.833008\n"
          ]
        },
        {
          "metadata": {
            "tags": null
          },
          "name": "stderr",
          "output_type": "stream",
          "text": [
            "  3%|▎         | 10.000000000000002/400 [00:09<06:05,  1.07it/s]"
          ]
        },
        {
          "metadata": {
            "tags": null
          },
          "name": "stdout",
          "output_type": "stream",
          "text": [
            "\n",
            "Test Epoch: 10\tAccuracy: 10/120 (8%)\n",
            "\n"
          ]
        },
        {
          "metadata": {
            "tags": null
          },
          "name": "stderr",
          "output_type": "stream",
          "text": [
            "\r  3%|▎         | 10.142857142857144/400 [00:09<06:59,  1.08s/it]"
          ]
        },
        {
          "metadata": {
            "tags": null
          },
          "name": "stdout",
          "output_type": "stream",
          "text": [
            "Train Epoch: 11 [0/1298 (0%)]\tLoss: 2.809915\n"
          ]
        },
        {
          "metadata": {
            "tags": null
          },
          "name": "stderr",
          "output_type": "stream",
          "text": [
            "  3%|▎         | 10.999999999999998/400 [00:10<06:09,  1.05it/s]"
          ]
        },
        {
          "metadata": {
            "tags": null
          },
          "name": "stdout",
          "output_type": "stream",
          "text": [
            "\n",
            "Test Epoch: 11\tAccuracy: 12/120 (10%)\n",
            "\n"
          ]
        },
        {
          "metadata": {
            "tags": null
          },
          "name": "stderr",
          "output_type": "stream",
          "text": [
            "\r  3%|▎         | 11.14285714285714/400 [00:10<07:05,  1.09s/it] "
          ]
        },
        {
          "metadata": {
            "tags": null
          },
          "name": "stdout",
          "output_type": "stream",
          "text": [
            "Train Epoch: 12 [0/1298 (0%)]\tLoss: 2.765831\n"
          ]
        },
        {
          "metadata": {
            "tags": null
          },
          "name": "stderr",
          "output_type": "stream",
          "text": [
            "  3%|▎         | 11.999999999999995/400 [00:11<06:24,  1.01it/s]"
          ]
        },
        {
          "metadata": {
            "tags": null
          },
          "name": "stdout",
          "output_type": "stream",
          "text": [
            "\n",
            "Test Epoch: 12\tAccuracy: 10/120 (8%)\n",
            "\n",
            "Train Epoch: 13 [0/1298 (0%)]\tLoss: 2.784965"
          ]
        },
        {
          "metadata": {
            "tags": null
          },
          "name": "stderr",
          "output_type": "stream",
          "text": [
            "\r  3%|▎         | 12.142857142857137/400 [00:12<07:06,  1.10s/it]"
          ]
        },
        {
          "metadata": {
            "tags": null
          },
          "name": "stdout",
          "output_type": "stream",
          "text": [
            "\n"
          ]
        },
        {
          "metadata": {
            "tags": null
          },
          "name": "stderr",
          "output_type": "stream",
          "text": [
            "  3%|▎         | 12.999999999999991/400 [00:13<06:22,  1.01it/s]"
          ]
        },
        {
          "metadata": {
            "tags": null
          },
          "name": "stdout",
          "output_type": "stream",
          "text": [
            "\n",
            "Test Epoch: 13\tAccuracy: 10/120 (8%)\n",
            "\n"
          ]
        },
        {
          "metadata": {
            "tags": null
          },
          "name": "stderr",
          "output_type": "stream",
          "text": [
            "  3%|▎         | 13.285714285714276/400 [00:13<07:45,  1.20s/it]"
          ]
        },
        {
          "metadata": {
            "tags": null
          },
          "name": "stdout",
          "output_type": "stream",
          "text": [
            "Train Epoch: 14 [0/1298 (0%)]\tLoss: 2.914308\n"
          ]
        },
        {
          "metadata": {
            "tags": null
          },
          "name": "stderr",
          "output_type": "stream",
          "text": [
            "  4%|▎         | 14.14285714285713/400 [00:14<06:15,  1.03it/s] "
          ]
        },
        {
          "metadata": {
            "tags": null
          },
          "name": "stdout",
          "output_type": "stream",
          "text": [
            "\n",
            "Test Epoch: 14\tAccuracy: 10/120 (8%)\n",
            "\n",
            "Train Epoch: 15 [0/1298 (0%)]\tLoss: 2.806196\n"
          ]
        },
        {
          "metadata": {
            "tags": null
          },
          "name": "stderr",
          "output_type": "stream",
          "text": [
            "  4%|▍         | 15.142857142857126/400 [00:15<05:06,  1.26it/s]"
          ]
        },
        {
          "metadata": {
            "tags": null
          },
          "name": "stdout",
          "output_type": "stream",
          "text": [
            "\n",
            "Test Epoch: 15\tAccuracy: 10/120 (8%)\n",
            "\n",
            "Train Epoch: 16 [0/1298 (0%)]\tLoss: 2.757227\n"
          ]
        },
        {
          "metadata": {
            "tags": null
          },
          "name": "stderr",
          "output_type": "stream",
          "text": [
            "  4%|▍         | 16.142857142857125/400 [00:16<05:18,  1.20it/s]"
          ]
        },
        {
          "metadata": {
            "tags": null
          },
          "name": "stdout",
          "output_type": "stream",
          "text": [
            "\n",
            "Test Epoch: 16\tAccuracy: 11/120 (9%)\n",
            "\n",
            "Train Epoch: 17 [0/1298 (0%)]\tLoss: 2.868012\n"
          ]
        },
        {
          "metadata": {
            "tags": null
          },
          "name": "stderr",
          "output_type": "stream",
          "text": [
            "  4%|▍         | 17.14285714285712/400 [00:17<05:27,  1.17it/s] "
          ]
        },
        {
          "metadata": {
            "tags": null
          },
          "name": "stdout",
          "output_type": "stream",
          "text": [
            "\n",
            "Test Epoch: 17\tAccuracy: 11/120 (9%)\n",
            "\n",
            "Train Epoch: 18 [0/1298 (0%)]\tLoss: 2.797531\n"
          ]
        },
        {
          "metadata": {
            "tags": null
          },
          "name": "stderr",
          "output_type": "stream",
          "text": [
            "  5%|▍         | 18.142857142857117/400 [00:18<05:11,  1.23it/s]"
          ]
        },
        {
          "metadata": {
            "tags": null
          },
          "name": "stdout",
          "output_type": "stream",
          "text": [
            "\n",
            "Test Epoch: 18\tAccuracy: 11/120 (9%)\n",
            "\n",
            "Train Epoch: 19 [0/1298 (0%)]\tLoss: 2.810301\n"
          ]
        },
        {
          "metadata": {
            "tags": null
          },
          "name": "stderr",
          "output_type": "stream",
          "text": [
            "  5%|▍         | 19.142857142857114/400 [00:19<05:28,  1.16it/s]"
          ]
        },
        {
          "metadata": {
            "tags": null
          },
          "name": "stdout",
          "output_type": "stream",
          "text": [
            "\n",
            "Test Epoch: 19\tAccuracy: 11/120 (9%)\n",
            "\n",
            "Train Epoch: 20 [0/1298 (0%)]\tLoss: 2.866733\n"
          ]
        },
        {
          "metadata": {
            "tags": null
          },
          "name": "stderr",
          "output_type": "stream",
          "text": [
            "  5%|▌         | 20.14285714285711/400 [00:20<05:22,  1.18it/s] "
          ]
        },
        {
          "metadata": {
            "tags": null
          },
          "name": "stdout",
          "output_type": "stream",
          "text": [
            "\n",
            "Test Epoch: 20\tAccuracy: 11/120 (9%)\n",
            "\n",
            "Train Epoch: 21 [0/1298 (0%)]\tLoss: 2.812039\n"
          ]
        },
        {
          "metadata": {
            "tags": null
          },
          "name": "stderr",
          "output_type": "stream",
          "text": [
            "  5%|▌         | 21.142857142857107/400 [00:20<04:59,  1.27it/s]"
          ]
        },
        {
          "metadata": {
            "tags": null
          },
          "name": "stdout",
          "output_type": "stream",
          "text": [
            "\n",
            "Test Epoch: 21\tAccuracy: 8/120 (7%)\n",
            "\n",
            "Train Epoch: 22 [0/1298 (0%)]\tLoss: 2.793663\n"
          ]
        },
        {
          "metadata": {
            "tags": null
          },
          "name": "stderr",
          "output_type": "stream",
          "text": [
            "  6%|▌         | 22.142857142857103/400 [00:21<04:57,  1.27it/s]"
          ]
        },
        {
          "metadata": {
            "tags": null
          },
          "name": "stdout",
          "output_type": "stream",
          "text": [
            "\n",
            "Test Epoch: 22\tAccuracy: 10/120 (8%)\n",
            "\n",
            "Train Epoch: 23 [0/1298 (0%)]\tLoss: 2.785552\n"
          ]
        },
        {
          "metadata": {
            "tags": null
          },
          "name": "stderr",
          "output_type": "stream",
          "text": [
            "  6%|▌         | 23.1428571428571/400 [00:22<04:58,  1.26it/s]  "
          ]
        },
        {
          "metadata": {
            "tags": null
          },
          "name": "stdout",
          "output_type": "stream",
          "text": [
            "\n",
            "Test Epoch: 23\tAccuracy: 10/120 (8%)\n",
            "\n",
            "Train Epoch: 24 [0/1298 (0%)]\tLoss: 2.828530\n"
          ]
        },
        {
          "metadata": {
            "tags": null
          },
          "name": "stderr",
          "output_type": "stream",
          "text": [
            "  6%|▌         | 24.142857142857096/400 [00:23<05:04,  1.23it/s]"
          ]
        },
        {
          "metadata": {
            "tags": null
          },
          "name": "stdout",
          "output_type": "stream",
          "text": [
            "\n",
            "Test Epoch: 24\tAccuracy: 10/120 (8%)\n",
            "\n",
            "Train Epoch: 25 [0/1298 (0%)]\tLoss: 2.820007\n"
          ]
        },
        {
          "metadata": {
            "tags": null
          },
          "name": "stderr",
          "output_type": "stream",
          "text": [
            "  6%|▌         | 24.99999999999995/400 [00:24<05:14,  1.19it/s] "
          ]
        },
        {
          "metadata": {
            "tags": null
          },
          "name": "stdout",
          "output_type": "stream",
          "text": [
            "\n",
            "Test Epoch: 25\tAccuracy: 12/120 (10%)\n",
            "\n"
          ]
        },
        {
          "metadata": {
            "tags": null
          },
          "name": "stderr",
          "output_type": "stream",
          "text": [
            "\r  6%|▋         | 25.142857142857093/400 [00:24<06:18,  1.01s/it]"
          ]
        },
        {
          "metadata": {
            "tags": null
          },
          "name": "stdout",
          "output_type": "stream",
          "text": [
            "Train Epoch: 26 [0/1298 (0%)]\tLoss: 2.800793\n"
          ]
        },
        {
          "metadata": {
            "tags": null
          },
          "name": "stderr",
          "output_type": "stream",
          "text": [
            "  6%|▋         | 25.999999999999947/400 [00:25<05:48,  1.07it/s]"
          ]
        },
        {
          "metadata": {
            "tags": null
          },
          "name": "stdout",
          "output_type": "stream",
          "text": [
            "\n",
            "Test Epoch: 26\tAccuracy: 11/120 (9%)\n",
            "\n"
          ]
        },
        {
          "metadata": {
            "tags": null
          },
          "name": "stderr",
          "output_type": "stream",
          "text": [
            "\r  7%|▋         | 26.14285714285709/400 [00:25<06:54,  1.11s/it] "
          ]
        },
        {
          "metadata": {
            "tags": null
          },
          "name": "stdout",
          "output_type": "stream",
          "text": [
            "Train Epoch: 27 [0/1298 (0%)]\tLoss: 2.796915\n"
          ]
        },
        {
          "metadata": {
            "tags": null
          },
          "name": "stderr",
          "output_type": "stream",
          "text": [
            "  7%|▋         | 26.999999999999943/400 [00:26<06:10,  1.01it/s]"
          ]
        },
        {
          "metadata": {
            "tags": null
          },
          "name": "stdout",
          "output_type": "stream",
          "text": [
            "\n",
            "Test Epoch: 27\tAccuracy: 12/120 (10%)\n",
            "\n"
          ]
        },
        {
          "metadata": {
            "tags": null
          },
          "name": "stderr",
          "output_type": "stream",
          "text": [
            "\r  7%|▋         | 27.142857142857086/400 [00:27<07:22,  1.19s/it]"
          ]
        },
        {
          "metadata": {
            "tags": null
          },
          "name": "stdout",
          "output_type": "stream",
          "text": [
            "Train Epoch: 28 [0/1298 (0%)]\tLoss: 2.838046\n"
          ]
        },
        {
          "metadata": {
            "tags": null
          },
          "name": "stderr",
          "output_type": "stream",
          "text": [
            "  7%|▋         | 27.99999999999994/400 [00:28<05:56,  1.04it/s] "
          ]
        },
        {
          "metadata": {
            "tags": null
          },
          "name": "stdout",
          "output_type": "stream",
          "text": [
            "\n",
            "Test Epoch: 28\tAccuracy: 10/120 (8%)\n",
            "\n"
          ]
        },
        {
          "metadata": {
            "tags": null
          },
          "name": "stderr",
          "output_type": "stream",
          "text": [
            "\r  7%|▋         | 28.142857142857082/400 [00:28<06:54,  1.12s/it]"
          ]
        },
        {
          "metadata": {
            "tags": null
          },
          "name": "stdout",
          "output_type": "stream",
          "text": [
            "Train Epoch: 29 [0/1298 (0%)]\tLoss: 2.782751\n"
          ]
        },
        {
          "metadata": {
            "tags": null
          },
          "name": "stderr",
          "output_type": "stream",
          "text": [
            "  7%|▋         | 28.999999999999936/400 [00:29<05:53,  1.05it/s]"
          ]
        },
        {
          "metadata": {
            "tags": null
          },
          "name": "stdout",
          "output_type": "stream",
          "text": [
            "\n",
            "Test Epoch: 29\tAccuracy: 9/120 (8%)\n",
            "\n"
          ]
        },
        {
          "metadata": {
            "tags": null
          },
          "name": "stderr",
          "output_type": "stream",
          "text": [
            "  7%|▋         | 29.28571428571422/400 [00:29<07:19,  1.19s/it]"
          ]
        },
        {
          "metadata": {
            "tags": null
          },
          "name": "stdout",
          "output_type": "stream",
          "text": [
            "Train Epoch: 30 [0/1298 (0%)]\tLoss: 2.805945\n"
          ]
        },
        {
          "metadata": {
            "tags": null
          },
          "name": "stderr",
          "output_type": "stream",
          "text": [
            "  8%|▊         | 30.142857142857075/400 [00:30<05:19,  1.16it/s]"
          ]
        },
        {
          "metadata": {
            "tags": null
          },
          "name": "stdout",
          "output_type": "stream",
          "text": [
            "\n",
            "Test Epoch: 30\tAccuracy: 8/120 (7%)\n",
            "\n",
            "Train Epoch: 31 [0/1298 (0%)]\tLoss: 2.839062\n"
          ]
        },
        {
          "metadata": {
            "tags": null
          },
          "name": "stderr",
          "output_type": "stream",
          "text": [
            "  8%|▊         | 31.14285714285707/400 [00:31<05:04,  1.21it/s] "
          ]
        },
        {
          "metadata": {
            "tags": null
          },
          "name": "stdout",
          "output_type": "stream",
          "text": [
            "\n",
            "Test Epoch: 31\tAccuracy: 9/120 (8%)\n",
            "\n",
            "Train Epoch: 32 [0/1298 (0%)]\tLoss: 2.840899\n"
          ]
        },
        {
          "metadata": {
            "tags": null
          },
          "name": "stderr",
          "output_type": "stream",
          "text": [
            "  8%|▊         | 32.14285714285707/400 [00:32<04:56,  1.24it/s]"
          ]
        },
        {
          "metadata": {
            "tags": null
          },
          "name": "stdout",
          "output_type": "stream",
          "text": [
            "\n",
            "Test Epoch: 32\tAccuracy: 9/120 (8%)\n",
            "\n",
            "Train Epoch: 33 [0/1298 (0%)]\tLoss: 2.847452\n"
          ]
        },
        {
          "metadata": {
            "tags": null
          },
          "name": "stderr",
          "output_type": "stream",
          "text": [
            "  8%|▊         | 33.14285714285709/400 [00:33<05:03,  1.21it/s]"
          ]
        },
        {
          "metadata": {
            "tags": null
          },
          "name": "stdout",
          "output_type": "stream",
          "text": [
            "\n",
            "Test Epoch: 33\tAccuracy: 10/120 (8%)\n",
            "\n",
            "Train Epoch: 34 [0/1298 (0%)]\tLoss: 2.803534\n"
          ]
        },
        {
          "metadata": {
            "tags": null
          },
          "name": "stderr",
          "output_type": "stream",
          "text": [
            "  9%|▊         | 34.14285714285711/400 [00:34<04:57,  1.23it/s]"
          ]
        },
        {
          "metadata": {
            "tags": null
          },
          "name": "stdout",
          "output_type": "stream",
          "text": [
            "\n",
            "Test Epoch: 34\tAccuracy: 9/120 (8%)\n",
            "\n",
            "Train Epoch: 35 [0/1298 (0%)]\tLoss: 2.814216\n"
          ]
        },
        {
          "metadata": {
            "tags": null
          },
          "name": "stderr",
          "output_type": "stream",
          "text": [
            "  9%|▉         | 35.14285714285713/400 [00:35<04:48,  1.26it/s] "
          ]
        },
        {
          "metadata": {
            "tags": null
          },
          "name": "stdout",
          "output_type": "stream",
          "text": [
            "\n",
            "Test Epoch: 35\tAccuracy: 9/120 (8%)\n",
            "\n",
            "Train Epoch: 36 [0/1298 (0%)]\tLoss: 2.777503\n"
          ]
        },
        {
          "metadata": {
            "tags": null
          },
          "name": "stderr",
          "output_type": "stream",
          "text": [
            "  9%|▉         | 36.14285714285715/400 [00:36<04:50,  1.25it/s] "
          ]
        },
        {
          "metadata": {
            "tags": null
          },
          "name": "stdout",
          "output_type": "stream",
          "text": [
            "\n",
            "Test Epoch: 36\tAccuracy: 9/120 (8%)\n",
            "\n",
            "Train Epoch: 37 [0/1298 (0%)]\tLoss: 2.750484\n"
          ]
        },
        {
          "metadata": {
            "tags": null
          },
          "name": "stderr",
          "output_type": "stream",
          "text": [
            "  9%|▉         | 37.142857142857174/400 [00:37<04:59,  1.21it/s]"
          ]
        },
        {
          "metadata": {
            "tags": null
          },
          "name": "stdout",
          "output_type": "stream",
          "text": [
            "\n",
            "Test Epoch: 37\tAccuracy: 10/120 (8%)\n",
            "\n",
            "Train Epoch: 38 [0/1298 (0%)]\tLoss: 2.721023\n"
          ]
        },
        {
          "metadata": {
            "tags": null
          },
          "name": "stderr",
          "output_type": "stream",
          "text": [
            " 10%|▉         | 38.142857142857196/400 [00:37<04:45,  1.27it/s]"
          ]
        },
        {
          "metadata": {
            "tags": null
          },
          "name": "stdout",
          "output_type": "stream",
          "text": [
            "\n",
            "Test Epoch: 38\tAccuracy: 9/120 (8%)\n",
            "\n",
            "Train Epoch: 39 [0/1298 (0%)]\tLoss: 2.772297\n"
          ]
        },
        {
          "metadata": {
            "tags": null
          },
          "name": "stderr",
          "output_type": "stream",
          "text": [
            " 10%|▉         | 39.14285714285722/400 [00:38<04:47,  1.25it/s]"
          ]
        },
        {
          "metadata": {
            "tags": null
          },
          "name": "stdout",
          "output_type": "stream",
          "text": [
            "\n",
            "Test Epoch: 39\tAccuracy: 10/120 (8%)\n",
            "\n",
            "Train Epoch: 40 [0/1298 (0%)]\tLoss: 2.713200\n"
          ]
        },
        {
          "metadata": {
            "tags": null
          },
          "name": "stderr",
          "output_type": "stream",
          "text": [
            " 10%|█         | 40.14285714285724/400 [00:39<04:54,  1.22it/s]"
          ]
        },
        {
          "metadata": {
            "tags": null
          },
          "name": "stdout",
          "output_type": "stream",
          "text": [
            "\n",
            "Test Epoch: 40\tAccuracy: 11/120 (9%)\n",
            "\n",
            "Train Epoch: 41 [0/1298 (0%)]\tLoss: 2.878575\n"
          ]
        },
        {
          "metadata": {
            "tags": null
          },
          "name": "stderr",
          "output_type": "stream",
          "text": [
            " 10%|█         | 41.000000000000114/400 [00:40<05:17,  1.13it/s]"
          ]
        },
        {
          "metadata": {
            "tags": null
          },
          "name": "stdout",
          "output_type": "stream",
          "text": [
            "\n",
            "Test Epoch: 41\tAccuracy: 9/120 (8%)\n",
            "\n"
          ]
        },
        {
          "metadata": {
            "tags": null
          },
          "name": "stderr",
          "output_type": "stream",
          "text": [
            "\r 10%|█         | 41.14285714285726/400 [00:41<06:09,  1.03s/it] "
          ]
        },
        {
          "metadata": {
            "tags": null
          },
          "name": "stdout",
          "output_type": "stream",
          "text": [
            "Train Epoch: 42 [0/1298 (0%)]\tLoss: 2.731570\n"
          ]
        },
        {
          "metadata": {
            "tags": null
          },
          "name": "stderr",
          "output_type": "stream",
          "text": [
            " 11%|█         | 42.000000000000135/400 [00:42<06:02,  1.01s/it]"
          ]
        },
        {
          "metadata": {
            "tags": null
          },
          "name": "stdout",
          "output_type": "stream",
          "text": [
            "\n",
            "Test Epoch: 42\tAccuracy: 11/120 (9%)\n",
            "\n",
            "Train Epoch: 43 [0/1298 (0%)]\tLoss: 2.727971\n"
          ]
        },
        {
          "metadata": {
            "tags": null
          },
          "name": "stderr",
          "output_type": "stream",
          "text": [
            " 11%|█         | 43.000000000000156/400 [00:43<05:58,  1.01s/it]"
          ]
        },
        {
          "metadata": {
            "tags": null
          },
          "name": "stdout",
          "output_type": "stream",
          "text": [
            "\n",
            "Test Epoch: 43\tAccuracy: 10/120 (8%)\n",
            "\n"
          ]
        },
        {
          "metadata": {
            "tags": null
          },
          "name": "stderr",
          "output_type": "stream",
          "text": [
            "\r 11%|█         | 43.1428571428573/400 [00:43<06:57,  1.17s/it]  "
          ]
        },
        {
          "metadata": {
            "tags": null
          },
          "name": "stdout",
          "output_type": "stream",
          "text": [
            "Train Epoch: 44 [0/1298 (0%)]\tLoss: 2.829746\n"
          ]
        },
        {
          "metadata": {
            "tags": null
          },
          "name": "stderr",
          "output_type": "stream",
          "text": [
            " 11%|█         | 44.00000000000018/400 [00:44<05:45,  1.03it/s] "
          ]
        },
        {
          "metadata": {
            "tags": null
          },
          "name": "stdout",
          "output_type": "stream",
          "text": [
            "\n",
            "Test Epoch: 44\tAccuracy: 9/120 (8%)\n",
            "\n"
          ]
        },
        {
          "metadata": {
            "tags": null
          },
          "name": "stderr",
          "output_type": "stream",
          "text": [
            "\r 11%|█         | 44.14285714285732/400 [00:44<06:46,  1.14s/it]"
          ]
        },
        {
          "metadata": {
            "tags": null
          },
          "name": "stdout",
          "output_type": "stream",
          "text": [
            "Train Epoch: 45 [0/1298 (0%)]\tLoss: 2.825506\n"
          ]
        },
        {
          "metadata": {
            "tags": null
          },
          "name": "stderr",
          "output_type": "stream",
          "text": [
            " 11%|█▏        | 45.142857142857345/400 [00:45<05:51,  1.01it/s]"
          ]
        },
        {
          "metadata": {
            "tags": null
          },
          "name": "stdout",
          "output_type": "stream",
          "text": [
            "\n",
            "Test Epoch: 45\tAccuracy: 10/120 (8%)\n",
            "\n",
            "Train Epoch: 46 [0/1298 (0%)]\tLoss: 2.839940\n"
          ]
        },
        {
          "metadata": {
            "tags": null
          },
          "name": "stderr",
          "output_type": "stream",
          "text": [
            " 12%|█▏        | 46.142857142857366/400 [00:46<04:50,  1.22it/s]"
          ]
        },
        {
          "metadata": {
            "tags": null
          },
          "name": "stdout",
          "output_type": "stream",
          "text": [
            "\n",
            "Test Epoch: 46\tAccuracy: 9/120 (8%)\n",
            "\n",
            "Train Epoch: 47 [0/1298 (0%)]\tLoss: 2.750668\n"
          ]
        },
        {
          "metadata": {
            "tags": null
          },
          "name": "stderr",
          "output_type": "stream",
          "text": [
            " 12%|█▏        | 47.14285714285739/400 [00:47<04:51,  1.21it/s]"
          ]
        },
        {
          "metadata": {
            "tags": null
          },
          "name": "stdout",
          "output_type": "stream",
          "text": [
            "\n",
            "Test Epoch: 47\tAccuracy: 9/120 (8%)\n",
            "\n",
            "Train Epoch: 48 [0/1298 (0%)]\tLoss: 2.808461\n"
          ]
        },
        {
          "metadata": {
            "tags": null
          },
          "name": "stderr",
          "output_type": "stream",
          "text": [
            " 12%|█▏        | 48.14285714285741/400 [00:48<04:37,  1.27it/s]"
          ]
        },
        {
          "metadata": {
            "tags": null
          },
          "name": "stdout",
          "output_type": "stream",
          "text": [
            "\n",
            "Test Epoch: 48\tAccuracy: 11/120 (9%)\n",
            "\n",
            "Train Epoch: 49 [0/1298 (0%)]\tLoss: 2.789948\n"
          ]
        },
        {
          "metadata": {
            "tags": null
          },
          "name": "stderr",
          "output_type": "stream",
          "text": [
            " 12%|█▏        | 49.14285714285743/400 [00:49<04:52,  1.20it/s]"
          ]
        },
        {
          "metadata": {
            "tags": null
          },
          "name": "stdout",
          "output_type": "stream",
          "text": [
            "\n",
            "Test Epoch: 49\tAccuracy: 11/120 (9%)\n",
            "\n",
            "Train Epoch: 50 [0/1298 (0%)]\tLoss: 2.883588\n"
          ]
        },
        {
          "metadata": {
            "tags": null
          },
          "name": "stderr",
          "output_type": "stream",
          "text": [
            " 13%|█▎        | 50.14285714285745/400 [00:50<04:43,  1.23it/s] "
          ]
        },
        {
          "metadata": {
            "tags": null
          },
          "name": "stdout",
          "output_type": "stream",
          "text": [
            "\n",
            "Test Epoch: 50\tAccuracy: 9/120 (8%)\n",
            "\n",
            "Train Epoch: 51 [0/1298 (0%)]\tLoss: 2.775039\n"
          ]
        },
        {
          "metadata": {
            "tags": null
          },
          "name": "stderr",
          "output_type": "stream",
          "text": [
            " 13%|█▎        | 51.14285714285747/400 [00:51<04:35,  1.27it/s] "
          ]
        },
        {
          "metadata": {
            "tags": null
          },
          "name": "stdout",
          "output_type": "stream",
          "text": [
            "\n",
            "Test Epoch: 51\tAccuracy: 11/120 (9%)\n",
            "\n",
            "Train Epoch: 52 [0/1298 (0%)]\tLoss: 2.807623\n"
          ]
        },
        {
          "metadata": {
            "tags": null
          },
          "name": "stderr",
          "output_type": "stream",
          "text": [
            " 13%|█▎        | 52.142857142857494/400 [00:52<04:38,  1.25it/s]"
          ]
        },
        {
          "metadata": {
            "tags": null
          },
          "name": "stdout",
          "output_type": "stream",
          "text": [
            "\n",
            "Test Epoch: 52\tAccuracy: 10/120 (8%)\n",
            "\n",
            "Train Epoch: 53 [0/1298 (0%)]\tLoss: 2.744060\n"
          ]
        },
        {
          "metadata": {
            "tags": null
          },
          "name": "stderr",
          "output_type": "stream",
          "text": [
            " 13%|█▎        | 53.142857142857515/400 [00:53<04:54,  1.18it/s]"
          ]
        },
        {
          "metadata": {
            "tags": null
          },
          "name": "stdout",
          "output_type": "stream",
          "text": [
            "\n",
            "Test Epoch: 53\tAccuracy: 9/120 (8%)\n",
            "\n",
            "Train Epoch: 54 [0/1298 (0%)]\tLoss: 2.847770\n"
          ]
        },
        {
          "metadata": {
            "tags": null
          },
          "name": "stderr",
          "output_type": "stream",
          "text": [
            " 14%|█▎        | 54.14285714285754/400 [00:54<04:31,  1.27it/s]"
          ]
        },
        {
          "metadata": {
            "tags": null
          },
          "name": "stdout",
          "output_type": "stream",
          "text": [
            "\n",
            "Test Epoch: 54\tAccuracy: 10/120 (8%)\n",
            "\n",
            "Train Epoch: 55 [0/1298 (0%)]\tLoss: 2.794305\n"
          ]
        },
        {
          "metadata": {
            "tags": null
          },
          "name": "stderr",
          "output_type": "stream",
          "text": [
            " 14%|█▍        | 55.14285714285756/400 [00:55<04:43,  1.22it/s]"
          ]
        },
        {
          "metadata": {
            "tags": null
          },
          "name": "stdout",
          "output_type": "stream",
          "text": [
            "\n",
            "Test Epoch: 55\tAccuracy: 10/120 (8%)\n",
            "\n",
            "Train Epoch: 56 [0/1298 (0%)]\tLoss: 2.830908\n"
          ]
        },
        {
          "metadata": {
            "tags": null
          },
          "name": "stderr",
          "output_type": "stream",
          "text": [
            " 14%|█▍        | 56.00000000000043/400 [00:55<04:46,  1.20it/s]"
          ]
        },
        {
          "metadata": {
            "tags": null
          },
          "name": "stdout",
          "output_type": "stream",
          "text": [
            "\n",
            "Test Epoch: 56\tAccuracy: 10/120 (8%)\n",
            "\n"
          ]
        },
        {
          "metadata": {
            "tags": null
          },
          "name": "stderr",
          "output_type": "stream",
          "text": [
            " 14%|█▍        | 56.285714285714725/400 [00:56<06:27,  1.13s/it]"
          ]
        },
        {
          "metadata": {
            "tags": null
          },
          "name": "stdout",
          "output_type": "stream",
          "text": [
            "Train Epoch: 57 [0/1298 (0%)]\tLoss: 2.824170\n"
          ]
        },
        {
          "metadata": {
            "tags": null
          },
          "name": "stderr",
          "output_type": "stream",
          "text": [
            " 14%|█▍        | 57.000000000000455/400 [00:57<05:21,  1.07it/s]"
          ]
        },
        {
          "metadata": {
            "tags": null
          },
          "name": "stdout",
          "output_type": "stream",
          "text": [
            "\n",
            "Test Epoch: 57\tAccuracy: 10/120 (8%)\n",
            "\n"
          ]
        },
        {
          "metadata": {
            "tags": null
          },
          "name": "stderr",
          "output_type": "stream",
          "text": [
            "\r 14%|█▍        | 57.1428571428576/400 [00:57<06:25,  1.13s/it]  "
          ]
        },
        {
          "metadata": {
            "tags": null
          },
          "name": "stdout",
          "output_type": "stream",
          "text": [
            "Train Epoch: 58 [0/1298 (0%)]\tLoss: 2.813803\n"
          ]
        },
        {
          "metadata": {
            "tags": null
          },
          "name": "stderr",
          "output_type": "stream",
          "text": [
            " 15%|█▍        | 58.14285714285762/400 [00:58<06:15,  1.10s/it] "
          ]
        },
        {
          "metadata": {
            "tags": null
          },
          "name": "stdout",
          "output_type": "stream",
          "text": [
            "\n",
            "Test Epoch: 58\tAccuracy: 9/120 (8%)\n",
            "\n",
            "Train Epoch: 59 [0/1298 (0%)]\tLoss: 2.785865\n"
          ]
        },
        {
          "metadata": {
            "tags": null
          },
          "name": "stderr",
          "output_type": "stream",
          "text": [
            " 15%|█▍        | 59.14285714285764/400 [00:59<06:14,  1.10s/it]"
          ]
        },
        {
          "metadata": {
            "tags": null
          },
          "name": "stdout",
          "output_type": "stream",
          "text": [
            "\n",
            "Test Epoch: 59\tAccuracy: 8/120 (7%)\n",
            "\n",
            "Train Epoch: 60 [0/1298 (0%)]\tLoss: 2.715899\n"
          ]
        },
        {
          "metadata": {
            "tags": null
          },
          "name": "stderr",
          "output_type": "stream",
          "text": [
            " 15%|█▌        | 60.00000000000052/400 [01:00<05:45,  1.01s/it]"
          ]
        },
        {
          "metadata": {
            "tags": null
          },
          "name": "stdout",
          "output_type": "stream",
          "text": [
            "\n",
            "Test Epoch: 60\tAccuracy: 9/120 (8%)\n",
            "\n"
          ]
        },
        {
          "metadata": {
            "tags": null
          },
          "name": "stderr",
          "output_type": "stream",
          "text": [
            "\r 15%|█▌        | 60.142857142857665/400 [01:01<06:40,  1.18s/it]"
          ]
        },
        {
          "metadata": {
            "tags": null
          },
          "name": "stdout",
          "output_type": "stream",
          "text": [
            "Train Epoch: 61 [0/1298 (0%)]\tLoss: 2.871129\n"
          ]
        },
        {
          "metadata": {
            "tags": null
          },
          "name": "stderr",
          "output_type": "stream",
          "text": [
            " 15%|█▌        | 61.142857142857686/400 [01:02<04:40,  1.21it/s]"
          ]
        },
        {
          "metadata": {
            "tags": null
          },
          "name": "stdout",
          "output_type": "stream",
          "text": [
            "\n",
            "Test Epoch: 61\tAccuracy: 9/120 (8%)\n",
            "\n",
            "Train Epoch: 62 [0/1298 (0%)]\tLoss: 2.756976\n"
          ]
        },
        {
          "metadata": {
            "tags": null
          },
          "name": "stderr",
          "output_type": "stream",
          "text": [
            " 16%|█▌        | 62.14285714285771/400 [01:03<04:43,  1.19it/s]"
          ]
        },
        {
          "metadata": {
            "tags": null
          },
          "name": "stdout",
          "output_type": "stream",
          "text": [
            "\n",
            "Test Epoch: 62\tAccuracy: 11/120 (9%)\n",
            "\n",
            "Train Epoch: 63 [0/1298 (0%)]\tLoss: 2.808577\n"
          ]
        },
        {
          "metadata": {
            "tags": null
          },
          "name": "stderr",
          "output_type": "stream",
          "text": [
            " 16%|█▌        | 63.14285714285773/400 [01:03<04:33,  1.23it/s]"
          ]
        },
        {
          "metadata": {
            "tags": null
          },
          "name": "stdout",
          "output_type": "stream",
          "text": [
            "\n",
            "Test Epoch: 63\tAccuracy: 10/120 (8%)\n",
            "\n",
            "Train Epoch: 64 [0/1298 (0%)]\tLoss: 2.839489\n"
          ]
        },
        {
          "metadata": {
            "tags": null
          },
          "name": "stderr",
          "output_type": "stream",
          "text": [
            " 16%|█▌        | 64.14285714285774/400 [01:04<04:22,  1.28it/s]"
          ]
        },
        {
          "metadata": {
            "tags": null
          },
          "name": "stdout",
          "output_type": "stream",
          "text": [
            "\n",
            "Test Epoch: 64\tAccuracy: 10/120 (8%)\n",
            "\n",
            "Train Epoch: 65 [0/1298 (0%)]\tLoss: 2.782515\n"
          ]
        },
        {
          "metadata": {
            "tags": null
          },
          "name": "stderr",
          "output_type": "stream",
          "text": [
            " 16%|█▋        | 65.14285714285771/400 [01:05<04:39,  1.20it/s]"
          ]
        },
        {
          "metadata": {
            "tags": null
          },
          "name": "stdout",
          "output_type": "stream",
          "text": [
            "\n",
            "Test Epoch: 65\tAccuracy: 10/120 (8%)\n",
            "\n",
            "Train Epoch: 66 [0/1298 (0%)]\tLoss: 2.844853\n"
          ]
        },
        {
          "metadata": {
            "tags": null
          },
          "name": "stderr",
          "output_type": "stream",
          "text": [
            " 17%|█▋        | 66.14285714285768/400 [01:06<04:45,  1.17it/s]"
          ]
        },
        {
          "metadata": {
            "tags": null
          },
          "name": "stdout",
          "output_type": "stream",
          "text": [
            "\n",
            "Test Epoch: 66\tAccuracy: 11/120 (9%)\n",
            "\n",
            "Train Epoch: 67 [0/1298 (0%)]\tLoss: 2.802502\n"
          ]
        },
        {
          "metadata": {
            "tags": null
          },
          "name": "stderr",
          "output_type": "stream",
          "text": [
            " 17%|█▋        | 67.14285714285765/400 [01:07<04:22,  1.27it/s]"
          ]
        },
        {
          "metadata": {
            "tags": null
          },
          "name": "stdout",
          "output_type": "stream",
          "text": [
            "\n",
            "Test Epoch: 67\tAccuracy: 9/120 (8%)\n",
            "\n",
            "Train Epoch: 68 [0/1298 (0%)]\tLoss: 2.823769\n"
          ]
        },
        {
          "metadata": {
            "tags": null
          },
          "name": "stderr",
          "output_type": "stream",
          "text": [
            " 17%|█▋        | 68.14285714285762/400 [01:08<04:36,  1.20it/s]"
          ]
        },
        {
          "metadata": {
            "tags": null
          },
          "name": "stdout",
          "output_type": "stream",
          "text": [
            "\n",
            "Test Epoch: 68\tAccuracy: 10/120 (8%)\n",
            "\n",
            "Train Epoch: 69 [0/1298 (0%)]\tLoss: 2.813052\n"
          ]
        },
        {
          "metadata": {
            "tags": null
          },
          "name": "stderr",
          "output_type": "stream",
          "text": [
            " 17%|█▋        | 69.1428571428576/400 [01:09<04:23,  1.25it/s] "
          ]
        },
        {
          "metadata": {
            "tags": null
          },
          "name": "stdout",
          "output_type": "stream",
          "text": [
            "\n",
            "Test Epoch: 69\tAccuracy: 9/120 (8%)\n",
            "\n",
            "Train Epoch: 70 [0/1298 (0%)]\tLoss: 2.720143\n"
          ]
        },
        {
          "metadata": {
            "tags": null
          },
          "name": "stderr",
          "output_type": "stream",
          "text": [
            " 18%|█▊        | 70.14285714285757/400 [01:10<04:35,  1.20it/s]"
          ]
        },
        {
          "metadata": {
            "tags": null
          },
          "name": "stdout",
          "output_type": "stream",
          "text": [
            "\n",
            "Test Epoch: 70\tAccuracy: 9/120 (8%)\n",
            "\n",
            "Train Epoch: 71 [0/1298 (0%)]\tLoss: 2.867383\n"
          ]
        },
        {
          "metadata": {
            "tags": null
          },
          "name": "stderr",
          "output_type": "stream",
          "text": [
            " 18%|█▊        | 71.14285714285754/400 [01:11<04:40,  1.17it/s]"
          ]
        },
        {
          "metadata": {
            "tags": null
          },
          "name": "stdout",
          "output_type": "stream",
          "text": [
            "\n",
            "Test Epoch: 71\tAccuracy: 9/120 (8%)\n",
            "\n",
            "Train Epoch: 72 [0/1298 (0%)]\tLoss: 2.858909\n"
          ]
        },
        {
          "metadata": {
            "tags": null
          },
          "name": "stderr",
          "output_type": "stream",
          "text": [
            " 18%|█▊        | 72.00000000000037/400 [01:12<05:06,  1.07it/s]"
          ]
        },
        {
          "metadata": {
            "tags": null
          },
          "name": "stdout",
          "output_type": "stream",
          "text": [
            "\n",
            "Test Epoch: 72\tAccuracy: 9/120 (8%)\n",
            "\n"
          ]
        },
        {
          "metadata": {
            "tags": null
          },
          "name": "stderr",
          "output_type": "stream",
          "text": [
            "\r 18%|█▊        | 72.14285714285751/400 [01:12<06:04,  1.11s/it]"
          ]
        },
        {
          "metadata": {
            "tags": null
          },
          "name": "stdout",
          "output_type": "stream",
          "text": [
            "Train Epoch: 73 [0/1298 (0%)]\tLoss: 2.736402\n"
          ]
        },
        {
          "metadata": {
            "tags": null
          },
          "name": "stderr",
          "output_type": "stream",
          "text": [
            " 18%|█▊        | 73.00000000000034/400 [01:13<05:12,  1.05it/s]"
          ]
        },
        {
          "metadata": {
            "tags": null
          },
          "name": "stdout",
          "output_type": "stream",
          "text": [
            "\n",
            "Test Epoch: 73\tAccuracy: 11/120 (9%)\n",
            "\n"
          ]
        },
        {
          "metadata": {
            "tags": null
          },
          "name": "stderr",
          "output_type": "stream",
          "text": [
            "\r 18%|█▊        | 73.14285714285748/400 [01:13<06:11,  1.14s/it]"
          ]
        },
        {
          "metadata": {
            "tags": null
          },
          "name": "stdout",
          "output_type": "stream",
          "text": [
            "Train Epoch: 74 [0/1298 (0%)]\tLoss: 2.822494\n"
          ]
        },
        {
          "metadata": {
            "tags": null
          },
          "name": "stderr",
          "output_type": "stream",
          "text": [
            " 19%|█▊        | 74.00000000000031/400 [01:14<05:18,  1.02it/s]"
          ]
        },
        {
          "metadata": {
            "tags": null
          },
          "name": "stdout",
          "output_type": "stream",
          "text": [
            "\n",
            "Test Epoch: 74\tAccuracy: 9/120 (8%)\n",
            "\n"
          ]
        },
        {
          "metadata": {
            "tags": null
          },
          "name": "stderr",
          "output_type": "stream",
          "text": [
            "\r 19%|█▊        | 74.14285714285745/400 [01:15<06:20,  1.17s/it]"
          ]
        },
        {
          "metadata": {
            "tags": null
          },
          "name": "stdout",
          "output_type": "stream",
          "text": [
            "Train Epoch: 75 [0/1298 (0%)]\tLoss: 2.800677\n"
          ]
        },
        {
          "metadata": {
            "tags": null
          },
          "name": "stderr",
          "output_type": "stream",
          "text": [
            " 19%|█▉        | 75.14285714285742/400 [01:16<05:43,  1.06s/it]"
          ]
        },
        {
          "metadata": {
            "tags": null
          },
          "name": "stdout",
          "output_type": "stream",
          "text": [
            "\n",
            "Test Epoch: 75\tAccuracy: 9/120 (8%)\n",
            "\n",
            "Train Epoch: 76 [0/1298 (0%)]\tLoss: 2.718527\n"
          ]
        },
        {
          "metadata": {
            "tags": null
          },
          "name": "stderr",
          "output_type": "stream",
          "text": [
            " 19%|█▉        | 76.1428571428574/400 [01:17<05:08,  1.05it/s] "
          ]
        },
        {
          "metadata": {
            "tags": null
          },
          "name": "stdout",
          "output_type": "stream",
          "text": [
            "\n",
            "Test Epoch: 76\tAccuracy: 9/120 (8%)\n",
            "\n",
            "Train Epoch: 77 [0/1298 (0%)]\tLoss: 2.874201\n"
          ]
        },
        {
          "metadata": {
            "tags": null
          },
          "name": "stderr",
          "output_type": "stream",
          "text": [
            " 19%|█▉        | 77.14285714285737/400 [01:18<04:34,  1.18it/s]"
          ]
        },
        {
          "metadata": {
            "tags": null
          },
          "name": "stdout",
          "output_type": "stream",
          "text": [
            "\n",
            "Test Epoch: 77\tAccuracy: 11/120 (9%)\n",
            "\n",
            "Train Epoch: 78 [0/1298 (0%)]\tLoss: 2.765720\n"
          ]
        },
        {
          "metadata": {
            "tags": null
          },
          "name": "stderr",
          "output_type": "stream",
          "text": [
            " 20%|█▉        | 78.14285714285734/400 [01:19<04:25,  1.21it/s]"
          ]
        },
        {
          "metadata": {
            "tags": null
          },
          "name": "stdout",
          "output_type": "stream",
          "text": [
            "\n",
            "Test Epoch: 78\tAccuracy: 11/120 (9%)\n",
            "\n",
            "Train Epoch: 79 [0/1298 (0%)]\tLoss: 2.831122\n"
          ]
        },
        {
          "metadata": {
            "tags": null
          },
          "name": "stderr",
          "output_type": "stream",
          "text": [
            " 20%|█▉        | 79.14285714285731/400 [01:20<04:24,  1.21it/s]"
          ]
        },
        {
          "metadata": {
            "tags": null
          },
          "name": "stdout",
          "output_type": "stream",
          "text": [
            "\n",
            "Test Epoch: 79\tAccuracy: 10/120 (8%)\n",
            "\n",
            "Train Epoch: 80 [0/1298 (0%)]\tLoss: 2.811615\n"
          ]
        },
        {
          "metadata": {
            "tags": null
          },
          "name": "stderr",
          "output_type": "stream",
          "text": [
            " 20%|██        | 80.14285714285728/400 [01:21<04:26,  1.20it/s]"
          ]
        },
        {
          "metadata": {
            "tags": null
          },
          "name": "stdout",
          "output_type": "stream",
          "text": [
            "\n",
            "Test Epoch: 80\tAccuracy: 9/120 (8%)\n",
            "\n",
            "Train Epoch: 81 [0/1298 (0%)]\tLoss: 2.739495\n"
          ]
        },
        {
          "metadata": {
            "tags": null
          },
          "name": "stderr",
          "output_type": "stream",
          "text": [
            " 20%|██        | 81.14285714285725/400 [01:22<04:08,  1.28it/s]"
          ]
        },
        {
          "metadata": {
            "tags": null
          },
          "name": "stdout",
          "output_type": "stream",
          "text": [
            "\n",
            "Test Epoch: 81\tAccuracy: 9/120 (8%)\n",
            "\n",
            "Train Epoch: 82 [0/1298 (0%)]\tLoss: 2.746348\n"
          ]
        },
        {
          "metadata": {
            "tags": null
          },
          "name": "stderr",
          "output_type": "stream",
          "text": [
            " 21%|██        | 82.14285714285722/400 [01:22<04:15,  1.25it/s]"
          ]
        },
        {
          "metadata": {
            "tags": null
          },
          "name": "stdout",
          "output_type": "stream",
          "text": [
            "\n",
            "Test Epoch: 82\tAccuracy: 9/120 (8%)\n",
            "\n",
            "Train Epoch: 83 [0/1298 (0%)]\tLoss: 2.813586\n"
          ]
        },
        {
          "metadata": {
            "tags": null
          },
          "name": "stderr",
          "output_type": "stream",
          "text": [
            " 21%|██        | 83.1428571428572/400 [01:23<04:27,  1.18it/s] "
          ]
        },
        {
          "metadata": {
            "tags": null
          },
          "name": "stdout",
          "output_type": "stream",
          "text": [
            "\n",
            "Test Epoch: 83\tAccuracy: 12/120 (10%)\n",
            "\n",
            "Train Epoch: 84 [0/1298 (0%)]\tLoss: 2.819454\n"
          ]
        },
        {
          "metadata": {
            "tags": null
          },
          "name": "stderr",
          "output_type": "stream",
          "text": [
            " 21%|██        | 84.14285714285717/400 [01:24<04:27,  1.18it/s]"
          ]
        },
        {
          "metadata": {
            "tags": null
          },
          "name": "stdout",
          "output_type": "stream",
          "text": [
            "\n",
            "Test Epoch: 84\tAccuracy: 10/120 (8%)\n",
            "\n",
            "Train Epoch: 85 [0/1298 (0%)]\tLoss: 2.870009\n"
          ]
        },
        {
          "metadata": {
            "tags": null
          },
          "name": "stderr",
          "output_type": "stream",
          "text": [
            " 21%|██▏       | 85.14285714285714/400 [01:25<04:17,  1.22it/s]"
          ]
        },
        {
          "metadata": {
            "tags": null
          },
          "name": "stdout",
          "output_type": "stream",
          "text": [
            "\n",
            "Test Epoch: 85\tAccuracy: 10/120 (8%)\n",
            "\n",
            "Train Epoch: 86 [0/1298 (0%)]\tLoss: 2.768014\n"
          ]
        },
        {
          "metadata": {
            "tags": null
          },
          "name": "stderr",
          "output_type": "stream",
          "text": [
            " 22%|██▏       | 86.14285714285711/400 [01:26<04:16,  1.22it/s]"
          ]
        },
        {
          "metadata": {
            "tags": null
          },
          "name": "stdout",
          "output_type": "stream",
          "text": [
            "\n",
            "Test Epoch: 86\tAccuracy: 10/120 (8%)\n",
            "\n",
            "Train Epoch: 87 [0/1298 (0%)]\tLoss: 2.848683\n"
          ]
        },
        {
          "metadata": {
            "tags": null
          },
          "name": "stderr",
          "output_type": "stream",
          "text": [
            " 22%|██▏       | 86.99999999999994/400 [01:27<04:38,  1.12it/s]"
          ]
        },
        {
          "metadata": {
            "tags": null
          },
          "name": "stdout",
          "output_type": "stream",
          "text": [
            "\n",
            "Test Epoch: 87\tAccuracy: 10/120 (8%)\n",
            "\n"
          ]
        },
        {
          "metadata": {
            "tags": null
          },
          "name": "stderr",
          "output_type": "stream",
          "text": [
            "\r 22%|██▏       | 87.14285714285708/400 [01:27<05:24,  1.04s/it]"
          ]
        },
        {
          "metadata": {
            "tags": null
          },
          "name": "stdout",
          "output_type": "stream",
          "text": [
            "Train Epoch: 88 [0/1298 (0%)]\tLoss: 2.801561\n"
          ]
        },
        {
          "metadata": {
            "tags": null
          },
          "name": "stderr",
          "output_type": "stream",
          "text": [
            " 22%|██▏       | 87.99999999999991/400 [01:28<05:09,  1.01it/s]"
          ]
        },
        {
          "metadata": {
            "tags": null
          },
          "name": "stdout",
          "output_type": "stream",
          "text": [
            "\n",
            "Test Epoch: 88\tAccuracy: 9/120 (8%)\n",
            "\n"
          ]
        },
        {
          "metadata": {
            "tags": null
          },
          "name": "stderr",
          "output_type": "stream",
          "text": [
            " 22%|██▏       | 88.28571428571419/400 [01:29<06:20,  1.22s/it]"
          ]
        },
        {
          "metadata": {
            "tags": null
          },
          "name": "stdout",
          "output_type": "stream",
          "text": [
            "Train Epoch: 89 [0/1298 (0%)]\tLoss: 2.809453\n"
          ]
        },
        {
          "metadata": {
            "tags": null
          },
          "name": "stderr",
          "output_type": "stream",
          "text": [
            " 22%|██▏       | 88.99999999999989/400 [01:30<05:01,  1.03it/s]"
          ]
        },
        {
          "metadata": {
            "tags": null
          },
          "name": "stdout",
          "output_type": "stream",
          "text": [
            "\n",
            "Test Epoch: 89\tAccuracy: 9/120 (8%)\n",
            "\n"
          ]
        },
        {
          "metadata": {
            "tags": null
          },
          "name": "stderr",
          "output_type": "stream",
          "text": [
            "\r 22%|██▏       | 89.14285714285703/400 [01:30<05:47,  1.12s/it]"
          ]
        },
        {
          "metadata": {
            "tags": null
          },
          "name": "stdout",
          "output_type": "stream",
          "text": [
            "Train Epoch: 90 [0/1298 (0%)]\tLoss: 2.831512\n"
          ]
        },
        {
          "metadata": {
            "tags": null
          },
          "name": "stderr",
          "output_type": "stream",
          "text": [
            " 22%|██▏       | 89.99999999999986/400 [01:31<04:48,  1.08it/s]"
          ]
        },
        {
          "metadata": {
            "tags": null
          },
          "name": "stdout",
          "output_type": "stream",
          "text": [
            "\n",
            "Test Epoch: 90\tAccuracy: 8/120 (7%)\n",
            "\n"
          ]
        },
        {
          "metadata": {
            "tags": null
          },
          "name": "stderr",
          "output_type": "stream",
          "text": [
            " 23%|██▎       | 90.28571428571414/400 [01:31<05:58,  1.16s/it]"
          ]
        },
        {
          "metadata": {
            "tags": null
          },
          "name": "stdout",
          "output_type": "stream",
          "text": [
            "Train Epoch: 91 [0/1298 (0%)]\tLoss: 2.802264\n"
          ]
        },
        {
          "metadata": {
            "tags": null
          },
          "name": "stderr",
          "output_type": "stream",
          "text": [
            " 23%|██▎       | 91.14285714285697/400 [01:32<05:11,  1.01s/it]"
          ]
        },
        {
          "metadata": {
            "tags": null
          },
          "name": "stdout",
          "output_type": "stream",
          "text": [
            "\n",
            "Test Epoch: 91\tAccuracy: 9/120 (8%)\n",
            "\n",
            "Train Epoch: 92 [0/1298 (0%)]\tLoss: 2.822715\n"
          ]
        },
        {
          "metadata": {
            "tags": null
          },
          "name": "stderr",
          "output_type": "stream",
          "text": [
            " 23%|██▎       | 92.14285714285694/400 [01:33<04:24,  1.17it/s]"
          ]
        },
        {
          "metadata": {
            "tags": null
          },
          "name": "stdout",
          "output_type": "stream",
          "text": [
            "\n",
            "Test Epoch: 92\tAccuracy: 10/120 (8%)\n",
            "\n",
            "Train Epoch: 93 [0/1298 (0%)]\tLoss: 2.807433\n"
          ]
        },
        {
          "metadata": {
            "tags": null
          },
          "name": "stderr",
          "output_type": "stream",
          "text": [
            " 23%|██▎       | 93.14285714285691/400 [01:34<04:15,  1.20it/s]"
          ]
        },
        {
          "metadata": {
            "tags": null
          },
          "name": "stdout",
          "output_type": "stream",
          "text": [
            "\n",
            "Test Epoch: 93\tAccuracy: 12/120 (10%)\n",
            "\n",
            "Train Epoch: 94 [0/1298 (0%)]\tLoss: 2.780076\n"
          ]
        },
        {
          "metadata": {
            "tags": null
          },
          "name": "stderr",
          "output_type": "stream",
          "text": [
            " 24%|██▎       | 94.14285714285688/400 [01:35<03:51,  1.32it/s]"
          ]
        },
        {
          "metadata": {
            "tags": null
          },
          "name": "stdout",
          "output_type": "stream",
          "text": [
            "\n",
            "Test Epoch: 94\tAccuracy: 10/120 (8%)\n",
            "\n",
            "Train Epoch: 95 [0/1298 (0%)]\tLoss: 2.776577\n"
          ]
        },
        {
          "metadata": {
            "tags": null
          },
          "name": "stderr",
          "output_type": "stream",
          "text": [
            " 24%|██▍       | 95.14285714285685/400 [01:36<03:49,  1.33it/s]"
          ]
        },
        {
          "metadata": {
            "tags": null
          },
          "name": "stdout",
          "output_type": "stream",
          "text": [
            "\n",
            "Test Epoch: 95\tAccuracy: 11/120 (9%)\n",
            "\n",
            "Train Epoch: 96 [0/1298 (0%)]\tLoss: 2.743267\n"
          ]
        },
        {
          "metadata": {
            "tags": null
          },
          "name": "stderr",
          "output_type": "stream",
          "text": [
            " 24%|██▍       | 96.14285714285683/400 [01:37<04:02,  1.25it/s]"
          ]
        },
        {
          "metadata": {
            "tags": null
          },
          "name": "stdout",
          "output_type": "stream",
          "text": [
            "\n",
            "Test Epoch: 96\tAccuracy: 10/120 (8%)\n",
            "\n",
            "Train Epoch: 97 [0/1298 (0%)]\tLoss: 2.787675\n"
          ]
        },
        {
          "metadata": {
            "tags": null
          },
          "name": "stderr",
          "output_type": "stream",
          "text": [
            " 24%|██▍       | 97.1428571428568/400 [01:38<04:08,  1.22it/s] "
          ]
        },
        {
          "metadata": {
            "tags": null
          },
          "name": "stdout",
          "output_type": "stream",
          "text": [
            "\n",
            "Test Epoch: 97\tAccuracy: 9/120 (8%)\n",
            "\n",
            "Train Epoch: 98 [0/1298 (0%)]\tLoss: 2.728525\n"
          ]
        },
        {
          "metadata": {
            "tags": null
          },
          "name": "stderr",
          "output_type": "stream",
          "text": [
            " 25%|██▍       | 98.14285714285677/400 [01:39<04:16,  1.18it/s]"
          ]
        },
        {
          "metadata": {
            "tags": null
          },
          "name": "stdout",
          "output_type": "stream",
          "text": [
            "\n",
            "Test Epoch: 98\tAccuracy: 9/120 (8%)\n",
            "\n",
            "Train Epoch: 99 [0/1298 (0%)]\tLoss: 2.804136\n"
          ]
        },
        {
          "metadata": {
            "tags": null
          },
          "name": "stderr",
          "output_type": "stream",
          "text": [
            " 25%|██▍       | 99.14285714285674/400 [01:40<03:58,  1.26it/s]"
          ]
        },
        {
          "metadata": {
            "tags": null
          },
          "name": "stdout",
          "output_type": "stream",
          "text": [
            "\n",
            "Test Epoch: 99\tAccuracy: 9/120 (8%)\n",
            "\n",
            "Train Epoch: 100 [0/1298 (0%)]\tLoss: 2.789606\n"
          ]
        },
        {
          "metadata": {
            "tags": null
          },
          "name": "stderr",
          "output_type": "stream",
          "text": [
            " 25%|██▌       | 100.14285714285671/400 [01:40<03:54,  1.28it/s]"
          ]
        },
        {
          "metadata": {
            "tags": null
          },
          "name": "stdout",
          "output_type": "stream",
          "text": [
            "\n",
            "Test Epoch: 100\tAccuracy: 10/120 (8%)\n",
            "\n",
            "Train Epoch: 101 [0/1298 (0%)]\tLoss: 2.793658\n"
          ]
        },
        {
          "metadata": {
            "tags": null
          },
          "name": "stderr",
          "output_type": "stream",
          "text": [
            " 25%|██▌       | 101.14285714285668/400 [01:41<03:58,  1.25it/s]"
          ]
        },
        {
          "metadata": {
            "tags": null
          },
          "name": "stdout",
          "output_type": "stream",
          "text": [
            "\n",
            "Test Epoch: 101\tAccuracy: 11/120 (9%)\n",
            "\n",
            "Train Epoch: 102 [0/1298 (0%)]\tLoss: 2.783658\n"
          ]
        },
        {
          "metadata": {
            "tags": null
          },
          "name": "stderr",
          "output_type": "stream",
          "text": [
            " 25%|██▌       | 101.99999999999952/400 [01:42<03:58,  1.25it/s]"
          ]
        },
        {
          "metadata": {
            "tags": null
          },
          "name": "stdout",
          "output_type": "stream",
          "text": [
            "\n",
            "Test Epoch: 102\tAccuracy: 10/120 (8%)\n",
            "\n"
          ]
        },
        {
          "metadata": {
            "tags": null
          },
          "name": "stderr",
          "output_type": "stream",
          "text": [
            "\r 26%|██▌       | 102.14285714285666/400 [01:42<04:45,  1.04it/s]"
          ]
        },
        {
          "metadata": {
            "tags": null
          },
          "name": "stdout",
          "output_type": "stream",
          "text": [
            "Train Epoch: 103 [0/1298 (0%)]\tLoss: 2.854248\n"
          ]
        },
        {
          "metadata": {
            "tags": null
          },
          "name": "stderr",
          "output_type": "stream",
          "text": [
            " 26%|██▌       | 103.14285714285663/400 [01:44<05:10,  1.05s/it]"
          ]
        },
        {
          "metadata": {
            "tags": null
          },
          "name": "stdout",
          "output_type": "stream",
          "text": [
            "\n",
            "Test Epoch: 103\tAccuracy: 9/120 (8%)\n",
            "\n",
            "Train Epoch: 104 [0/1298 (0%)]\tLoss: 2.810389\n"
          ]
        },
        {
          "metadata": {
            "tags": null
          },
          "name": "stderr",
          "output_type": "stream",
          "text": [
            " 26%|██▌       | 103.99999999999946/400 [01:45<04:43,  1.04it/s]"
          ]
        },
        {
          "metadata": {
            "tags": null
          },
          "name": "stdout",
          "output_type": "stream",
          "text": [
            "\n",
            "Test Epoch: 104\tAccuracy: 9/120 (8%)\n",
            "\n"
          ]
        },
        {
          "metadata": {
            "tags": null
          },
          "name": "stderr",
          "output_type": "stream",
          "text": [
            "\r 26%|██▌       | 104.1428571428566/400 [01:45<05:27,  1.11s/it] "
          ]
        },
        {
          "metadata": {
            "tags": null
          },
          "name": "stdout",
          "output_type": "stream",
          "text": [
            "Train Epoch: 105 [0/1298 (0%)]\tLoss: 2.763500\n"
          ]
        },
        {
          "metadata": {
            "tags": null
          },
          "name": "stderr",
          "output_type": "stream",
          "text": [
            " 26%|██▌       | 104.99999999999943/400 [01:46<04:38,  1.06it/s]"
          ]
        },
        {
          "metadata": {
            "tags": null
          },
          "name": "stdout",
          "output_type": "stream",
          "text": [
            "\n",
            "Test Epoch: 105\tAccuracy: 10/120 (8%)\n",
            "\n"
          ]
        },
        {
          "metadata": {
            "tags": null
          },
          "name": "stderr",
          "output_type": "stream",
          "text": [
            "\r 26%|██▋       | 105.14285714285657/400 [01:46<05:14,  1.07s/it]"
          ]
        },
        {
          "metadata": {
            "tags": null
          },
          "name": "stdout",
          "output_type": "stream",
          "text": [
            "Train Epoch: 106 [0/1298 (0%)]\tLoss: 2.742861\n"
          ]
        },
        {
          "metadata": {
            "tags": null
          },
          "name": "stderr",
          "output_type": "stream",
          "text": [
            " 26%|██▋       | 105.9999999999994/400 [01:47<04:46,  1.03it/s] "
          ]
        },
        {
          "metadata": {
            "tags": null
          },
          "name": "stdout",
          "output_type": "stream",
          "text": [
            "\n",
            "Test Epoch: 106\tAccuracy: 10/120 (8%)\n",
            "\n"
          ]
        },
        {
          "metadata": {
            "tags": null
          },
          "name": "stderr",
          "output_type": "stream",
          "text": [
            "\r 27%|██▋       | 106.14285714285654/400 [01:47<05:26,  1.11s/it]"
          ]
        },
        {
          "metadata": {
            "tags": null
          },
          "name": "stdout",
          "output_type": "stream",
          "text": [
            "Train Epoch: 107 [0/1298 (0%)]\tLoss: 2.820040\n"
          ]
        },
        {
          "metadata": {
            "tags": null
          },
          "name": "stderr",
          "output_type": "stream",
          "text": [
            " 27%|██▋       | 107.14285714285651/400 [01:48<04:39,  1.05it/s]"
          ]
        },
        {
          "metadata": {
            "tags": null
          },
          "name": "stdout",
          "output_type": "stream",
          "text": [
            "\n",
            "Test Epoch: 107\tAccuracy: 9/120 (8%)\n",
            "\n",
            "Train Epoch: 108 [0/1298 (0%)]\tLoss: 2.836146\n"
          ]
        },
        {
          "metadata": {
            "tags": null
          },
          "name": "stderr",
          "output_type": "stream",
          "text": [
            " 27%|██▋       | 108.14285714285649/400 [01:49<03:57,  1.23it/s]"
          ]
        },
        {
          "metadata": {
            "tags": null
          },
          "name": "stdout",
          "output_type": "stream",
          "text": [
            "\n",
            "Test Epoch: 108\tAccuracy: 9/120 (8%)\n",
            "\n",
            "Train Epoch: 109 [0/1298 (0%)]\tLoss: 2.744602\n"
          ]
        },
        {
          "metadata": {
            "tags": null
          },
          "name": "stderr",
          "output_type": "stream",
          "text": [
            " 27%|██▋       | 109.14285714285646/400 [01:50<04:03,  1.19it/s]"
          ]
        },
        {
          "metadata": {
            "tags": null
          },
          "name": "stdout",
          "output_type": "stream",
          "text": [
            "\n",
            "Test Epoch: 109\tAccuracy: 9/120 (8%)\n",
            "\n",
            "Train Epoch: 110 [0/1298 (0%)]\tLoss: 2.763895\n"
          ]
        },
        {
          "metadata": {
            "tags": null
          },
          "name": "stderr",
          "output_type": "stream",
          "text": [
            " 28%|██▊       | 110.14285714285643/400 [01:51<03:55,  1.23it/s]"
          ]
        },
        {
          "metadata": {
            "tags": null
          },
          "name": "stdout",
          "output_type": "stream",
          "text": [
            "\n",
            "Test Epoch: 110\tAccuracy: 8/120 (7%)\n",
            "\n",
            "Train Epoch: 111 [0/1298 (0%)]\tLoss: 2.739035\n"
          ]
        },
        {
          "metadata": {
            "tags": null
          },
          "name": "stderr",
          "output_type": "stream",
          "text": [
            " 28%|██▊       | 111.1428571428564/400 [01:52<04:08,  1.16it/s] "
          ]
        },
        {
          "metadata": {
            "tags": null
          },
          "name": "stdout",
          "output_type": "stream",
          "text": [
            "\n",
            "Test Epoch: 111\tAccuracy: 11/120 (9%)\n",
            "\n",
            "Train Epoch: 112 [0/1298 (0%)]\tLoss: 2.788691\n"
          ]
        },
        {
          "metadata": {
            "tags": null
          },
          "name": "stderr",
          "output_type": "stream",
          "text": [
            " 28%|██▊       | 112.14285714285637/400 [01:53<03:51,  1.24it/s]"
          ]
        },
        {
          "metadata": {
            "tags": null
          },
          "name": "stdout",
          "output_type": "stream",
          "text": [
            "\n",
            "Test Epoch: 112\tAccuracy: 10/120 (8%)\n",
            "\n",
            "Train Epoch: 113 [0/1298 (0%)]\tLoss: 2.749336\n"
          ]
        },
        {
          "metadata": {
            "tags": null
          },
          "name": "stderr",
          "output_type": "stream",
          "text": [
            " 28%|██▊       | 113.14285714285634/400 [01:54<04:00,  1.19it/s]"
          ]
        },
        {
          "metadata": {
            "tags": null
          },
          "name": "stdout",
          "output_type": "stream",
          "text": [
            "\n",
            "Test Epoch: 113\tAccuracy: 10/120 (8%)\n",
            "\n",
            "Train Epoch: 114 [0/1298 (0%)]\tLoss: 2.793400\n"
          ]
        },
        {
          "metadata": {
            "tags": null
          },
          "name": "stderr",
          "output_type": "stream",
          "text": [
            " 29%|██▊       | 114.14285714285631/400 [01:55<03:59,  1.19it/s]"
          ]
        },
        {
          "metadata": {
            "tags": null
          },
          "name": "stdout",
          "output_type": "stream",
          "text": [
            "\n",
            "Test Epoch: 114\tAccuracy: 11/120 (9%)\n",
            "\n",
            "Train Epoch: 115 [0/1298 (0%)]\tLoss: 2.809263\n"
          ]
        },
        {
          "metadata": {
            "tags": null
          },
          "name": "stderr",
          "output_type": "stream",
          "text": [
            " 29%|██▉       | 115.14285714285629/400 [01:56<04:01,  1.18it/s]"
          ]
        },
        {
          "metadata": {
            "tags": null
          },
          "name": "stdout",
          "output_type": "stream",
          "text": [
            "\n",
            "Test Epoch: 115\tAccuracy: 10/120 (8%)\n",
            "\n",
            "Train Epoch: 116 [0/1298 (0%)]\tLoss: 2.856264\n"
          ]
        },
        {
          "metadata": {
            "tags": null
          },
          "name": "stderr",
          "output_type": "stream",
          "text": [
            " 29%|██▉       | 116.14285714285626/400 [01:57<03:54,  1.21it/s]"
          ]
        },
        {
          "metadata": {
            "tags": null
          },
          "name": "stdout",
          "output_type": "stream",
          "text": [
            "\n",
            "Test Epoch: 116\tAccuracy: 11/120 (9%)\n",
            "\n",
            "Train Epoch: 117 [0/1298 (0%)]\tLoss: 2.775304\n"
          ]
        },
        {
          "metadata": {
            "tags": null
          },
          "name": "stderr",
          "output_type": "stream",
          "text": [
            " 29%|██▉       | 117.14285714285623/400 [01:58<03:48,  1.24it/s]"
          ]
        },
        {
          "metadata": {
            "tags": null
          },
          "name": "stdout",
          "output_type": "stream",
          "text": [
            "\n",
            "Test Epoch: 117\tAccuracy: 10/120 (8%)\n",
            "\n",
            "Train Epoch: 118 [0/1298 (0%)]\tLoss: 2.789743\n"
          ]
        },
        {
          "metadata": {
            "tags": null
          },
          "name": "stderr",
          "output_type": "stream",
          "text": [
            " 29%|██▉       | 117.99999999999906/400 [01:59<04:25,  1.06it/s]"
          ]
        },
        {
          "metadata": {
            "tags": null
          },
          "name": "stdout",
          "output_type": "stream",
          "text": [
            "\n",
            "Test Epoch: 118\tAccuracy: 10/120 (8%)\n",
            "\n"
          ]
        },
        {
          "metadata": {
            "tags": null
          },
          "name": "stderr",
          "output_type": "stream",
          "text": [
            "\r 30%|██▉       | 118.1428571428562/400 [01:59<05:12,  1.11s/it] "
          ]
        },
        {
          "metadata": {
            "tags": null
          },
          "name": "stdout",
          "output_type": "stream",
          "text": [
            "Train Epoch: 119 [0/1298 (0%)]\tLoss: 2.804134\n"
          ]
        },
        {
          "metadata": {
            "tags": null
          },
          "name": "stderr",
          "output_type": "stream",
          "text": [
            " 30%|██▉       | 118.99999999999903/400 [02:00<04:38,  1.01it/s]"
          ]
        },
        {
          "metadata": {
            "tags": null
          },
          "name": "stdout",
          "output_type": "stream",
          "text": [
            "\n",
            "Test Epoch: 119\tAccuracy: 11/120 (9%)\n",
            "\n"
          ]
        },
        {
          "metadata": {
            "tags": null
          },
          "name": "stderr",
          "output_type": "stream",
          "text": [
            "\r 30%|██▉       | 119.14285714285617/400 [02:00<05:21,  1.15s/it]"
          ]
        },
        {
          "metadata": {
            "tags": null
          },
          "name": "stdout",
          "output_type": "stream",
          "text": [
            "Train Epoch: 120 [0/1298 (0%)]\tLoss: 2.850345\n"
          ]
        },
        {
          "metadata": {
            "tags": null
          },
          "name": "stderr",
          "output_type": "stream",
          "text": [
            " 30%|██▉       | 119.999999999999/400 [02:01<04:36,  1.01it/s]  "
          ]
        },
        {
          "metadata": {
            "tags": null
          },
          "name": "stdout",
          "output_type": "stream",
          "text": [
            "\n",
            "Test Epoch: 120\tAccuracy: 10/120 (8%)\n",
            "\n",
            "Train Epoch: 121 [0/1298 (0%)]\tLoss: 2.737270\n"
          ]
        },
        {
          "metadata": {
            "tags": null
          },
          "name": "stderr",
          "output_type": "stream",
          "text": [
            " 30%|███       | 121.14285714285612/400 [02:03<05:06,  1.10s/it]"
          ]
        },
        {
          "metadata": {
            "tags": null
          },
          "name": "stdout",
          "output_type": "stream",
          "text": [
            "\n",
            "Test Epoch: 121\tAccuracy: 10/120 (8%)\n",
            "\n",
            "Train Epoch: 122 [0/1298 (0%)]\tLoss: 2.767563\n"
          ]
        },
        {
          "metadata": {
            "tags": null
          },
          "name": "stderr",
          "output_type": "stream",
          "text": [
            " 31%|███       | 122.14285714285609/400 [02:04<04:28,  1.03it/s]"
          ]
        },
        {
          "metadata": {
            "tags": null
          },
          "name": "stdout",
          "output_type": "stream",
          "text": [
            "\n",
            "Test Epoch: 122\tAccuracy: 10/120 (8%)\n",
            "\n",
            "Train Epoch: 123 [0/1298 (0%)]\tLoss: 2.781769\n"
          ]
        },
        {
          "metadata": {
            "tags": null
          },
          "name": "stderr",
          "output_type": "stream",
          "text": [
            " 31%|███       | 123.14285714285606/400 [02:05<03:55,  1.18it/s]"
          ]
        },
        {
          "metadata": {
            "tags": null
          },
          "name": "stdout",
          "output_type": "stream",
          "text": [
            "\n",
            "Test Epoch: 123\tAccuracy: 11/120 (9%)\n",
            "\n",
            "Train Epoch: 124 [0/1298 (0%)]\tLoss: 2.780888\n"
          ]
        },
        {
          "metadata": {
            "tags": null
          },
          "name": "stderr",
          "output_type": "stream",
          "text": [
            " 31%|███       | 124.14285714285603/400 [02:06<03:48,  1.21it/s]"
          ]
        },
        {
          "metadata": {
            "tags": null
          },
          "name": "stdout",
          "output_type": "stream",
          "text": [
            "\n",
            "Test Epoch: 124\tAccuracy: 9/120 (8%)\n",
            "\n",
            "Train Epoch: 125 [0/1298 (0%)]\tLoss: 2.808170\n"
          ]
        },
        {
          "metadata": {
            "tags": null
          },
          "name": "stderr",
          "output_type": "stream",
          "text": [
            " 31%|███▏      | 125.142857142856/400 [02:07<03:43,  1.23it/s]  "
          ]
        },
        {
          "metadata": {
            "tags": null
          },
          "name": "stdout",
          "output_type": "stream",
          "text": [
            "\n",
            "Test Epoch: 125\tAccuracy: 11/120 (9%)\n",
            "\n",
            "Train Epoch: 126 [0/1298 (0%)]\tLoss: 2.739712\n"
          ]
        },
        {
          "metadata": {
            "tags": null
          },
          "name": "stderr",
          "output_type": "stream",
          "text": [
            " 32%|███▏      | 126.14285714285597/400 [02:08<03:40,  1.24it/s]"
          ]
        },
        {
          "metadata": {
            "tags": null
          },
          "name": "stdout",
          "output_type": "stream",
          "text": [
            "\n",
            "Test Epoch: 126\tAccuracy: 11/120 (9%)\n",
            "\n",
            "Train Epoch: 127 [0/1298 (0%)]\tLoss: 2.767651\n"
          ]
        },
        {
          "metadata": {
            "tags": null
          },
          "name": "stderr",
          "output_type": "stream",
          "text": [
            " 32%|███▏      | 127.14285714285595/400 [02:08<03:30,  1.30it/s]"
          ]
        },
        {
          "metadata": {
            "tags": null
          },
          "name": "stdout",
          "output_type": "stream",
          "text": [
            "\n",
            "Test Epoch: 127\tAccuracy: 9/120 (8%)\n",
            "\n",
            "Train Epoch: 128 [0/1298 (0%)]\tLoss: 2.737138\n"
          ]
        },
        {
          "metadata": {
            "tags": null
          },
          "name": "stderr",
          "output_type": "stream",
          "text": [
            " 32%|███▏      | 128.14285714285592/400 [02:09<03:40,  1.24it/s]"
          ]
        },
        {
          "metadata": {
            "tags": null
          },
          "name": "stdout",
          "output_type": "stream",
          "text": [
            "\n",
            "Test Epoch: 128\tAccuracy: 10/120 (8%)\n",
            "\n",
            "Train Epoch: 129 [0/1298 (0%)]\tLoss: 2.778229\n"
          ]
        },
        {
          "metadata": {
            "tags": null
          },
          "name": "stderr",
          "output_type": "stream",
          "text": [
            " 32%|███▏      | 129.1428571428559/400 [02:10<03:47,  1.19it/s] "
          ]
        },
        {
          "metadata": {
            "tags": null
          },
          "name": "stdout",
          "output_type": "stream",
          "text": [
            "\n",
            "Test Epoch: 129\tAccuracy: 9/120 (8%)\n",
            "\n",
            "Train Epoch: 130 [0/1298 (0%)]\tLoss: 2.874743\n"
          ]
        },
        {
          "metadata": {
            "tags": null
          },
          "name": "stderr",
          "output_type": "stream",
          "text": [
            " 33%|███▎      | 130.14285714285586/400 [02:11<03:45,  1.20it/s]"
          ]
        },
        {
          "metadata": {
            "tags": null
          },
          "name": "stdout",
          "output_type": "stream",
          "text": [
            "\n",
            "Test Epoch: 130\tAccuracy: 10/120 (8%)\n",
            "\n",
            "Train Epoch: 131 [0/1298 (0%)]\tLoss: 2.772183\n"
          ]
        },
        {
          "metadata": {
            "tags": null
          },
          "name": "stderr",
          "output_type": "stream",
          "text": [
            " 33%|███▎      | 131.14285714285583/400 [02:12<03:51,  1.16it/s]"
          ]
        },
        {
          "metadata": {
            "tags": null
          },
          "name": "stdout",
          "output_type": "stream",
          "text": [
            "\n",
            "Test Epoch: 131\tAccuracy: 11/120 (9%)\n",
            "\n",
            "Train Epoch: 132 [0/1298 (0%)]\tLoss: 2.777150\n"
          ]
        },
        {
          "metadata": {
            "tags": null
          },
          "name": "stderr",
          "output_type": "stream",
          "text": [
            " 33%|███▎      | 132.1428571428558/400 [02:13<03:43,  1.20it/s]"
          ]
        },
        {
          "metadata": {
            "tags": null
          },
          "name": "stdout",
          "output_type": "stream",
          "text": [
            "\n",
            "Test Epoch: 132\tAccuracy: 9/120 (8%)\n",
            "\n",
            "Train Epoch: 133 [0/1298 (0%)]\tLoss: 2.832960\n"
          ]
        },
        {
          "metadata": {
            "tags": null
          },
          "name": "stderr",
          "output_type": "stream",
          "text": [
            " 33%|███▎      | 132.99999999999864/400 [02:14<03:58,  1.12it/s]"
          ]
        },
        {
          "metadata": {
            "tags": null
          },
          "name": "stdout",
          "output_type": "stream",
          "text": [
            "\n",
            "Test Epoch: 133\tAccuracy: 11/120 (9%)\n",
            "\n"
          ]
        },
        {
          "metadata": {
            "tags": null
          },
          "name": "stderr",
          "output_type": "stream",
          "text": [
            "\r 33%|███▎      | 133.14285714285577/400 [02:14<04:53,  1.10s/it]"
          ]
        },
        {
          "metadata": {
            "tags": null
          },
          "name": "stdout",
          "output_type": "stream",
          "text": [
            "Train Epoch: 134 [0/1298 (0%)]\tLoss: 2.860708\n"
          ]
        },
        {
          "metadata": {
            "tags": null
          },
          "name": "stderr",
          "output_type": "stream",
          "text": [
            " 33%|███▎      | 133.9999999999986/400 [02:15<04:05,  1.08it/s] "
          ]
        },
        {
          "metadata": {
            "tags": null
          },
          "name": "stdout",
          "output_type": "stream",
          "text": [
            "\n",
            "Test Epoch: 134\tAccuracy: 10/120 (8%)\n",
            "\n"
          ]
        },
        {
          "metadata": {
            "tags": null
          },
          "name": "stderr",
          "output_type": "stream",
          "text": [
            "\r 34%|███▎      | 134.14285714285575/400 [02:16<04:57,  1.12s/it]"
          ]
        },
        {
          "metadata": {
            "tags": null
          },
          "name": "stdout",
          "output_type": "stream",
          "text": [
            "Train Epoch: 135 [0/1298 (0%)]\tLoss: 2.818252\n"
          ]
        },
        {
          "metadata": {
            "tags": null
          },
          "name": "stderr",
          "output_type": "stream",
          "text": [
            " 34%|███▎      | 134.99999999999858/400 [02:17<04:17,  1.03it/s]"
          ]
        },
        {
          "metadata": {
            "tags": null
          },
          "name": "stdout",
          "output_type": "stream",
          "text": [
            "\n",
            "Test Epoch: 135\tAccuracy: 10/120 (8%)\n",
            "\n"
          ]
        },
        {
          "metadata": {
            "tags": null
          },
          "name": "stderr",
          "output_type": "stream",
          "text": [
            " 34%|███▍      | 135.28571428571286/400 [02:17<05:16,  1.20s/it]"
          ]
        },
        {
          "metadata": {
            "tags": null
          },
          "name": "stdout",
          "output_type": "stream",
          "text": [
            "Train Epoch: 136 [0/1298 (0%)]\tLoss: 2.803473\n"
          ]
        },
        {
          "metadata": {
            "tags": null
          },
          "name": "stderr",
          "output_type": "stream",
          "text": [
            " 34%|███▍      | 135.99999999999855/400 [02:18<04:05,  1.07it/s]"
          ]
        },
        {
          "metadata": {
            "tags": null
          },
          "name": "stdout",
          "output_type": "stream",
          "text": [
            "\n",
            "Test Epoch: 136\tAccuracy: 9/120 (8%)\n",
            "\n"
          ]
        },
        {
          "metadata": {
            "tags": null
          },
          "name": "stderr",
          "output_type": "stream",
          "text": [
            "\r 34%|███▍      | 136.1428571428557/400 [02:18<05:04,  1.15s/it] "
          ]
        },
        {
          "metadata": {
            "tags": null
          },
          "name": "stdout",
          "output_type": "stream",
          "text": [
            "Train Epoch: 137 [0/1298 (0%)]\tLoss: 2.868828\n"
          ]
        },
        {
          "metadata": {
            "tags": null
          },
          "name": "stderr",
          "output_type": "stream",
          "text": [
            " 34%|███▍      | 136.99999999999852/400 [02:19<04:12,  1.04it/s]"
          ]
        },
        {
          "metadata": {
            "tags": null
          },
          "name": "stdout",
          "output_type": "stream",
          "text": [
            "\n",
            "Test Epoch: 137\tAccuracy: 10/120 (8%)\n",
            "\n"
          ]
        },
        {
          "metadata": {
            "tags": null
          },
          "name": "stderr",
          "output_type": "stream",
          "text": [
            " 34%|███▍      | 137.2857142857128/400 [02:19<04:53,  1.12s/it] "
          ]
        },
        {
          "metadata": {
            "tags": null
          },
          "name": "stdout",
          "output_type": "stream",
          "text": [
            "Train Epoch: 138 [0/1298 (0%)]\tLoss: 2.840350\n"
          ]
        },
        {
          "metadata": {
            "tags": null
          },
          "name": "stderr",
          "output_type": "stream",
          "text": [
            " 35%|███▍      | 138.14285714285563/400 [02:20<03:55,  1.11it/s]"
          ]
        },
        {
          "metadata": {
            "tags": null
          },
          "name": "stdout",
          "output_type": "stream",
          "text": [
            "\n",
            "Test Epoch: 138\tAccuracy: 9/120 (8%)\n",
            "\n",
            "Train Epoch: 139 [0/1298 (0%)]\tLoss: 2.818903\n"
          ]
        },
        {
          "metadata": {
            "tags": null
          },
          "name": "stderr",
          "output_type": "stream",
          "text": [
            " 35%|███▍      | 139.1428571428556/400 [02:21<03:29,  1.25it/s]"
          ]
        },
        {
          "metadata": {
            "tags": null
          },
          "name": "stdout",
          "output_type": "stream",
          "text": [
            "\n",
            "Test Epoch: 139\tAccuracy: 9/120 (8%)\n",
            "\n",
            "Train Epoch: 140 [0/1298 (0%)]\tLoss: 2.807192\n"
          ]
        },
        {
          "metadata": {
            "tags": null
          },
          "name": "stderr",
          "output_type": "stream",
          "text": [
            " 35%|███▌      | 140.14285714285558/400 [02:22<03:25,  1.27it/s]"
          ]
        },
        {
          "metadata": {
            "tags": null
          },
          "name": "stdout",
          "output_type": "stream",
          "text": [
            "\n",
            "Test Epoch: 140\tAccuracy: 9/120 (8%)\n",
            "\n",
            "Train Epoch: 141 [0/1298 (0%)]\tLoss: 2.813286\n"
          ]
        },
        {
          "metadata": {
            "tags": null
          },
          "name": "stderr",
          "output_type": "stream",
          "text": [
            " 35%|███▌      | 141.14285714285555/400 [02:23<03:29,  1.24it/s]"
          ]
        },
        {
          "metadata": {
            "tags": null
          },
          "name": "stdout",
          "output_type": "stream",
          "text": [
            "\n",
            "Test Epoch: 141\tAccuracy: 10/120 (8%)\n",
            "\n",
            "Train Epoch: 142 [0/1298 (0%)]\tLoss: 2.774661\n"
          ]
        },
        {
          "metadata": {
            "tags": null
          },
          "name": "stderr",
          "output_type": "stream",
          "text": [
            " 36%|███▌      | 142.14285714285552/400 [02:24<03:28,  1.24it/s]"
          ]
        },
        {
          "metadata": {
            "tags": null
          },
          "name": "stdout",
          "output_type": "stream",
          "text": [
            "\n",
            "Test Epoch: 142\tAccuracy: 11/120 (9%)\n",
            "\n",
            "Train Epoch: 143 [0/1298 (0%)]\tLoss: 2.805566\n"
          ]
        },
        {
          "metadata": {
            "tags": null
          },
          "name": "stderr",
          "output_type": "stream",
          "text": [
            " 36%|███▌      | 143.1428571428555/400 [02:25<03:27,  1.24it/s] "
          ]
        },
        {
          "metadata": {
            "tags": null
          },
          "name": "stdout",
          "output_type": "stream",
          "text": [
            "\n",
            "Test Epoch: 143\tAccuracy: 9/120 (8%)\n",
            "\n",
            "Train Epoch: 144 [0/1298 (0%)]\tLoss: 2.780010\n"
          ]
        },
        {
          "metadata": {
            "tags": null
          },
          "name": "stderr",
          "output_type": "stream",
          "text": [
            " 36%|███▌      | 144.14285714285546/400 [02:26<03:36,  1.18it/s]"
          ]
        },
        {
          "metadata": {
            "tags": null
          },
          "name": "stdout",
          "output_type": "stream",
          "text": [
            "\n",
            "Test Epoch: 144\tAccuracy: 9/120 (8%)\n",
            "\n",
            "Train Epoch: 145 [0/1298 (0%)]\tLoss: 2.842317\n"
          ]
        },
        {
          "metadata": {
            "tags": null
          },
          "name": "stderr",
          "output_type": "stream",
          "text": [
            " 36%|███▋      | 145.14285714285543/400 [02:27<03:35,  1.18it/s]"
          ]
        },
        {
          "metadata": {
            "tags": null
          },
          "name": "stdout",
          "output_type": "stream",
          "text": [
            "\n",
            "Test Epoch: 145\tAccuracy: 8/120 (7%)\n",
            "\n",
            "Train Epoch: 146 [0/1298 (0%)]\tLoss: 2.870188\n"
          ]
        },
        {
          "metadata": {
            "tags": null
          },
          "name": "stderr",
          "output_type": "stream",
          "text": [
            " 37%|███▋      | 146.1428571428554/400 [02:28<03:31,  1.20it/s]"
          ]
        },
        {
          "metadata": {
            "tags": null
          },
          "name": "stdout",
          "output_type": "stream",
          "text": [
            "\n",
            "Test Epoch: 146\tAccuracy: 11/120 (9%)\n",
            "\n",
            "Train Epoch: 147 [0/1298 (0%)]\tLoss: 2.816388\n"
          ]
        },
        {
          "metadata": {
            "tags": null
          },
          "name": "stderr",
          "output_type": "stream",
          "text": [
            " 37%|███▋      | 147.14285714285538/400 [02:29<03:29,  1.21it/s]"
          ]
        },
        {
          "metadata": {
            "tags": null
          },
          "name": "stdout",
          "output_type": "stream",
          "text": [
            "\n",
            "Test Epoch: 147\tAccuracy: 11/120 (9%)\n",
            "\n",
            "Train Epoch: 148 [0/1298 (0%)]\tLoss: 2.808104\n"
          ]
        },
        {
          "metadata": {
            "tags": null
          },
          "name": "stderr",
          "output_type": "stream",
          "text": [
            " 37%|███▋      | 147.9999999999982/400 [02:29<03:11,  1.32it/s] "
          ]
        },
        {
          "metadata": {
            "tags": null
          },
          "name": "stdout",
          "output_type": "stream",
          "text": [
            "\n",
            "Test Epoch: 148\tAccuracy: 11/120 (9%)\n",
            "\n",
            "Train Epoch: 149 [0/1298 (0%)]\tLoss: 2.794366\n"
          ]
        },
        {
          "metadata": {
            "tags": null
          },
          "name": "stderr",
          "output_type": "stream",
          "text": [
            " 37%|███▋      | 148.99999999999818/400 [02:31<03:54,  1.07it/s]"
          ]
        },
        {
          "metadata": {
            "tags": null
          },
          "name": "stdout",
          "output_type": "stream",
          "text": [
            "\n",
            "Test Epoch: 149\tAccuracy: 10/120 (8%)\n",
            "\n"
          ]
        },
        {
          "metadata": {
            "tags": null
          },
          "name": "stderr",
          "output_type": "stream",
          "text": [
            "\r 37%|███▋      | 149.14285714285532/400 [02:31<04:36,  1.10s/it]"
          ]
        },
        {
          "metadata": {
            "tags": null
          },
          "name": "stdout",
          "output_type": "stream",
          "text": [
            "Train Epoch: 150 [0/1298 (0%)]\tLoss: 2.866752\n"
          ]
        },
        {
          "metadata": {
            "tags": null
          },
          "name": "stderr",
          "output_type": "stream",
          "text": [
            " 37%|███▋      | 149.99999999999815/400 [02:32<04:01,  1.03it/s]"
          ]
        },
        {
          "metadata": {
            "tags": null
          },
          "name": "stdout",
          "output_type": "stream",
          "text": [
            "\n",
            "Test Epoch: 150\tAccuracy: 8/120 (7%)\n",
            "\n"
          ]
        },
        {
          "metadata": {
            "tags": null
          },
          "name": "stderr",
          "output_type": "stream",
          "text": [
            "\r 38%|███▊      | 150.1428571428553/400 [02:32<04:31,  1.09s/it] "
          ]
        },
        {
          "metadata": {
            "tags": null
          },
          "name": "stdout",
          "output_type": "stream",
          "text": [
            "Train Epoch: 151 [0/1298 (0%)]\tLoss: 2.729693\n"
          ]
        },
        {
          "metadata": {
            "tags": null
          },
          "name": "stderr",
          "output_type": "stream",
          "text": [
            " 38%|███▊      | 150.99999999999812/400 [02:33<03:57,  1.05it/s]"
          ]
        },
        {
          "metadata": {
            "tags": null
          },
          "name": "stdout",
          "output_type": "stream",
          "text": [
            "\n",
            "Test Epoch: 151\tAccuracy: 9/120 (8%)\n",
            "\n"
          ]
        },
        {
          "metadata": {
            "tags": null
          },
          "name": "stderr",
          "output_type": "stream",
          "text": [
            "\r 38%|███▊      | 151.14285714285526/400 [02:33<04:33,  1.10s/it]"
          ]
        },
        {
          "metadata": {
            "tags": null
          },
          "name": "stdout",
          "output_type": "stream",
          "text": [
            "Train Epoch: 152 [0/1298 (0%)]\tLoss: 2.774296\n"
          ]
        },
        {
          "metadata": {
            "tags": null
          },
          "name": "stderr",
          "output_type": "stream",
          "text": [
            " 38%|███▊      | 151.9999999999981/400 [02:34<04:11,  1.01s/it] "
          ]
        },
        {
          "metadata": {
            "tags": null
          },
          "name": "stdout",
          "output_type": "stream",
          "text": [
            "\n",
            "Test Epoch: 152\tAccuracy: 9/120 (8%)\n",
            "\n"
          ]
        },
        {
          "metadata": {
            "tags": null
          },
          "name": "stderr",
          "output_type": "stream",
          "text": [
            "\r 38%|███▊      | 152.14285714285523/400 [02:34<04:52,  1.18s/it]"
          ]
        },
        {
          "metadata": {
            "tags": null
          },
          "name": "stdout",
          "output_type": "stream",
          "text": [
            "Train Epoch: 153 [0/1298 (0%)]\tLoss: 2.838184\n"
          ]
        },
        {
          "metadata": {
            "tags": null
          },
          "name": "stderr",
          "output_type": "stream",
          "text": [
            " 38%|███▊      | 153.1428571428552/400 [02:35<03:46,  1.09it/s]"
          ]
        },
        {
          "metadata": {
            "tags": null
          },
          "name": "stdout",
          "output_type": "stream",
          "text": [
            "\n",
            "Test Epoch: 153\tAccuracy: 9/120 (8%)\n",
            "\n",
            "Train Epoch: 154 [0/1298 (0%)]\tLoss: 2.824761\n"
          ]
        },
        {
          "metadata": {
            "tags": null
          },
          "name": "stderr",
          "output_type": "stream",
          "text": [
            " 39%|███▊      | 154.14285714285518/400 [02:36<03:28,  1.18it/s]"
          ]
        },
        {
          "metadata": {
            "tags": null
          },
          "name": "stdout",
          "output_type": "stream",
          "text": [
            "\n",
            "Test Epoch: 154\tAccuracy: 10/120 (8%)\n",
            "\n",
            "Train Epoch: 155 [0/1298 (0%)]\tLoss: 2.816355\n"
          ]
        },
        {
          "metadata": {
            "tags": null
          },
          "name": "stderr",
          "output_type": "stream",
          "text": [
            " 39%|███▉      | 155.14285714285515/400 [02:37<03:11,  1.28it/s]"
          ]
        },
        {
          "metadata": {
            "tags": null
          },
          "name": "stdout",
          "output_type": "stream",
          "text": [
            "\n",
            "Test Epoch: 155\tAccuracy: 10/120 (8%)\n",
            "\n",
            "Train Epoch: 156 [0/1298 (0%)]\tLoss: 2.740026\n"
          ]
        },
        {
          "metadata": {
            "tags": null
          },
          "name": "stderr",
          "output_type": "stream",
          "text": [
            " 39%|███▉      | 156.14285714285512/400 [02:38<03:13,  1.26it/s]"
          ]
        },
        {
          "metadata": {
            "tags": null
          },
          "name": "stdout",
          "output_type": "stream",
          "text": [
            "\n",
            "Test Epoch: 156\tAccuracy: 9/120 (8%)\n",
            "\n",
            "Train Epoch: 157 [0/1298 (0%)]\tLoss: 2.760467\n"
          ]
        },
        {
          "metadata": {
            "tags": null
          },
          "name": "stderr",
          "output_type": "stream",
          "text": [
            " 39%|███▉      | 157.1428571428551/400 [02:39<03:07,  1.30it/s] "
          ]
        },
        {
          "metadata": {
            "tags": null
          },
          "name": "stdout",
          "output_type": "stream",
          "text": [
            "\n",
            "Test Epoch: 157\tAccuracy: 9/120 (8%)\n",
            "\n",
            "Train Epoch: 158 [0/1298 (0%)]\tLoss: 2.724601\n"
          ]
        },
        {
          "metadata": {
            "tags": null
          },
          "name": "stderr",
          "output_type": "stream",
          "text": [
            " 40%|███▉      | 158.14285714285506/400 [02:40<03:16,  1.23it/s]"
          ]
        },
        {
          "metadata": {
            "tags": null
          },
          "name": "stdout",
          "output_type": "stream",
          "text": [
            "\n",
            "Test Epoch: 158\tAccuracy: 10/120 (8%)\n",
            "\n",
            "Train Epoch: 159 [0/1298 (0%)]\tLoss: 2.816362\n"
          ]
        },
        {
          "metadata": {
            "tags": null
          },
          "name": "stderr",
          "output_type": "stream",
          "text": [
            " 40%|███▉      | 159.14285714285504/400 [02:41<03:22,  1.19it/s]"
          ]
        },
        {
          "metadata": {
            "tags": null
          },
          "name": "stdout",
          "output_type": "stream",
          "text": [
            "\n",
            "Test Epoch: 159\tAccuracy: 9/120 (8%)\n",
            "\n",
            "Train Epoch: 160 [0/1298 (0%)]\tLoss: 2.865112\n"
          ]
        },
        {
          "metadata": {
            "tags": null
          },
          "name": "stderr",
          "output_type": "stream",
          "text": [
            " 40%|████      | 160.142857142855/400 [02:42<03:14,  1.24it/s] "
          ]
        },
        {
          "metadata": {
            "tags": null
          },
          "name": "stdout",
          "output_type": "stream",
          "text": [
            "\n",
            "Test Epoch: 160\tAccuracy: 11/120 (9%)\n",
            "\n",
            "Train Epoch: 161 [0/1298 (0%)]\tLoss: 2.811246\n"
          ]
        },
        {
          "metadata": {
            "tags": null
          },
          "name": "stderr",
          "output_type": "stream",
          "text": [
            " 40%|████      | 161.14285714285498/400 [02:43<03:10,  1.26it/s]"
          ]
        },
        {
          "metadata": {
            "tags": null
          },
          "name": "stdout",
          "output_type": "stream",
          "text": [
            "\n",
            "Test Epoch: 161\tAccuracy: 10/120 (8%)\n",
            "\n",
            "Train Epoch: 162 [0/1298 (0%)]\tLoss: 2.780875\n"
          ]
        },
        {
          "metadata": {
            "tags": null
          },
          "name": "stderr",
          "output_type": "stream",
          "text": [
            " 41%|████      | 162.14285714285495/400 [02:44<03:17,  1.20it/s]"
          ]
        },
        {
          "metadata": {
            "tags": null
          },
          "name": "stdout",
          "output_type": "stream",
          "text": [
            "\n",
            "Test Epoch: 162\tAccuracy: 11/120 (9%)\n",
            "\n",
            "Train Epoch: 163 [0/1298 (0%)]\tLoss: 2.869329\n"
          ]
        },
        {
          "metadata": {
            "tags": null
          },
          "name": "stderr",
          "output_type": "stream",
          "text": [
            " 41%|████      | 163.14285714285492/400 [02:45<03:06,  1.27it/s]"
          ]
        },
        {
          "metadata": {
            "tags": null
          },
          "name": "stdout",
          "output_type": "stream",
          "text": [
            "\n",
            "Test Epoch: 163\tAccuracy: 11/120 (9%)\n",
            "\n",
            "Train Epoch: 164 [0/1298 (0%)]\tLoss: 2.715922\n"
          ]
        },
        {
          "metadata": {
            "tags": null
          },
          "name": "stderr",
          "output_type": "stream",
          "text": [
            " 41%|████      | 163.99999999999775/400 [02:46<03:35,  1.09it/s]"
          ]
        },
        {
          "metadata": {
            "tags": null
          },
          "name": "stdout",
          "output_type": "stream",
          "text": [
            "\n",
            "Test Epoch: 164\tAccuracy: 11/120 (9%)\n",
            "\n"
          ]
        },
        {
          "metadata": {
            "tags": null
          },
          "name": "stderr",
          "output_type": "stream",
          "text": [
            "\r 41%|████      | 164.1428571428549/400 [02:46<04:22,  1.11s/it] "
          ]
        },
        {
          "metadata": {
            "tags": null
          },
          "name": "stdout",
          "output_type": "stream",
          "text": [
            "Train Epoch: 165 [0/1298 (0%)]\tLoss: 2.769305\n"
          ]
        },
        {
          "metadata": {
            "tags": null
          },
          "name": "stderr",
          "output_type": "stream",
          "text": [
            " 41%|████▏     | 165.14285714285487/400 [02:47<04:13,  1.08s/it]"
          ]
        },
        {
          "metadata": {
            "tags": null
          },
          "name": "stdout",
          "output_type": "stream",
          "text": [
            "\n",
            "Test Epoch: 165\tAccuracy: 10/120 (8%)\n",
            "\n",
            "Train Epoch: 166 [0/1298 (0%)]\tLoss: 2.765674\n"
          ]
        },
        {
          "metadata": {
            "tags": null
          },
          "name": "stderr",
          "output_type": "stream",
          "text": [
            " 41%|████▏     | 165.9999999999977/400 [02:48<03:46,  1.03it/s] "
          ]
        },
        {
          "metadata": {
            "tags": null
          },
          "name": "stdout",
          "output_type": "stream",
          "text": [
            "\n",
            "Test Epoch: 166\tAccuracy: 8/120 (7%)\n",
            "\n"
          ]
        },
        {
          "metadata": {
            "tags": null
          },
          "name": "stderr",
          "output_type": "stream",
          "text": [
            "\r 42%|████▏     | 166.14285714285484/400 [02:48<04:19,  1.11s/it]"
          ]
        },
        {
          "metadata": {
            "tags": null
          },
          "name": "stdout",
          "output_type": "stream",
          "text": [
            "Train Epoch: 167 [0/1298 (0%)]\tLoss: 2.688773\n"
          ]
        },
        {
          "metadata": {
            "tags": null
          },
          "name": "stderr",
          "output_type": "stream",
          "text": [
            " 42%|████▏     | 167.1428571428548/400 [02:50<04:09,  1.07s/it] "
          ]
        },
        {
          "metadata": {
            "tags": null
          },
          "name": "stdout",
          "output_type": "stream",
          "text": [
            "\n",
            "Test Epoch: 167\tAccuracy: 8/120 (7%)\n",
            "\n",
            "Train Epoch: 168 [0/1298 (0%)]\tLoss: 2.766630\n"
          ]
        },
        {
          "metadata": {
            "tags": null
          },
          "name": "stderr",
          "output_type": "stream",
          "text": [
            " 42%|████▏     | 168.14285714285478/400 [02:51<03:47,  1.02it/s]"
          ]
        },
        {
          "metadata": {
            "tags": null
          },
          "name": "stdout",
          "output_type": "stream",
          "text": [
            "\n",
            "Test Epoch: 168\tAccuracy: 8/120 (7%)\n",
            "\n",
            "Train Epoch: 169 [0/1298 (0%)]\tLoss: 2.821696\n"
          ]
        },
        {
          "metadata": {
            "tags": null
          },
          "name": "stderr",
          "output_type": "stream",
          "text": [
            " 42%|████▏     | 169.14285714285475/400 [02:52<03:14,  1.18it/s]"
          ]
        },
        {
          "metadata": {
            "tags": null
          },
          "name": "stdout",
          "output_type": "stream",
          "text": [
            "\n",
            "Test Epoch: 169\tAccuracy: 8/120 (7%)\n",
            "\n",
            "Train Epoch: 170 [0/1298 (0%)]\tLoss: 2.748469\n"
          ]
        },
        {
          "metadata": {
            "tags": null
          },
          "name": "stderr",
          "output_type": "stream",
          "text": [
            " 43%|████▎     | 170.14285714285472/400 [02:53<03:11,  1.20it/s]"
          ]
        },
        {
          "metadata": {
            "tags": null
          },
          "name": "stdout",
          "output_type": "stream",
          "text": [
            "\n",
            "Test Epoch: 170\tAccuracy: 8/120 (7%)\n",
            "\n",
            "Train Epoch: 171 [0/1298 (0%)]\tLoss: 2.763422\n"
          ]
        },
        {
          "metadata": {
            "tags": null
          },
          "name": "stderr",
          "output_type": "stream",
          "text": [
            " 43%|████▎     | 171.1428571428547/400 [02:53<03:10,  1.20it/s] "
          ]
        },
        {
          "metadata": {
            "tags": null
          },
          "name": "stdout",
          "output_type": "stream",
          "text": [
            "\n",
            "Test Epoch: 171\tAccuracy: 8/120 (7%)\n",
            "\n",
            "Train Epoch: 172 [0/1298 (0%)]\tLoss: 2.841834\n"
          ]
        },
        {
          "metadata": {
            "tags": null
          },
          "name": "stderr",
          "output_type": "stream",
          "text": [
            " 43%|████▎     | 172.14285714285467/400 [02:54<03:10,  1.19it/s]"
          ]
        },
        {
          "metadata": {
            "tags": null
          },
          "name": "stdout",
          "output_type": "stream",
          "text": [
            "\n",
            "Test Epoch: 172\tAccuracy: 9/120 (8%)\n",
            "\n",
            "Train Epoch: 173 [0/1298 (0%)]\tLoss: 2.823868\n"
          ]
        },
        {
          "metadata": {
            "tags": null
          },
          "name": "stderr",
          "output_type": "stream",
          "text": [
            " 43%|████▎     | 173.14285714285464/400 [02:55<03:05,  1.22it/s]"
          ]
        },
        {
          "metadata": {
            "tags": null
          },
          "name": "stdout",
          "output_type": "stream",
          "text": [
            "\n",
            "Test Epoch: 173\tAccuracy: 10/120 (8%)\n",
            "\n",
            "Train Epoch: 174 [0/1298 (0%)]\tLoss: 2.777562\n"
          ]
        },
        {
          "metadata": {
            "tags": null
          },
          "name": "stderr",
          "output_type": "stream",
          "text": [
            " 43%|████▎     | 173.99999999999747/400 [02:56<02:55,  1.29it/s]"
          ]
        },
        {
          "metadata": {
            "tags": null
          },
          "name": "stdout",
          "output_type": "stream",
          "text": [
            "\n",
            "Test Epoch: 174\tAccuracy: 9/120 (8%)\n",
            "\n",
            "Train Epoch: 175 [0/1298 (0%)]\tLoss: 2.785059\n"
          ]
        },
        {
          "metadata": {
            "tags": null
          },
          "name": "stderr",
          "output_type": "stream",
          "text": [
            " 44%|████▍     | 175.14285714285458/400 [02:57<03:13,  1.16it/s]"
          ]
        },
        {
          "metadata": {
            "tags": null
          },
          "name": "stdout",
          "output_type": "stream",
          "text": [
            "\n",
            "Test Epoch: 175\tAccuracy: 9/120 (8%)\n",
            "\n",
            "Train Epoch: 176 [0/1298 (0%)]\tLoss: 2.856990\n"
          ]
        },
        {
          "metadata": {
            "tags": null
          },
          "name": "stderr",
          "output_type": "stream",
          "text": [
            " 44%|████▍     | 176.14285714285455/400 [02:58<03:02,  1.23it/s]"
          ]
        },
        {
          "metadata": {
            "tags": null
          },
          "name": "stdout",
          "output_type": "stream",
          "text": [
            "\n",
            "Test Epoch: 176\tAccuracy: 8/120 (7%)\n",
            "\n",
            "Train Epoch: 177 [0/1298 (0%)]\tLoss: 2.771892\n"
          ]
        },
        {
          "metadata": {
            "tags": null
          },
          "name": "stderr",
          "output_type": "stream",
          "text": [
            " 44%|████▍     | 177.14285714285452/400 [02:59<03:07,  1.19it/s]"
          ]
        },
        {
          "metadata": {
            "tags": null
          },
          "name": "stdout",
          "output_type": "stream",
          "text": [
            "\n",
            "Test Epoch: 177\tAccuracy: 9/120 (8%)\n",
            "\n",
            "Train Epoch: 178 [0/1298 (0%)]\tLoss: 2.826204\n"
          ]
        },
        {
          "metadata": {
            "tags": null
          },
          "name": "stderr",
          "output_type": "stream",
          "text": [
            " 45%|████▍     | 178.1428571428545/400 [03:00<03:03,  1.21it/s] "
          ]
        },
        {
          "metadata": {
            "tags": null
          },
          "name": "stdout",
          "output_type": "stream",
          "text": [
            "\n",
            "Test Epoch: 178\tAccuracy: 10/120 (8%)\n",
            "\n",
            "Train Epoch: 179 [0/1298 (0%)]\tLoss: 2.836182\n"
          ]
        },
        {
          "metadata": {
            "tags": null
          },
          "name": "stderr",
          "output_type": "stream",
          "text": [
            " 45%|████▍     | 179.14285714285447/400 [03:01<03:40,  1.00s/it]"
          ]
        },
        {
          "metadata": {
            "tags": null
          },
          "name": "stdout",
          "output_type": "stream",
          "text": [
            "\n",
            "Test Epoch: 179\tAccuracy: 12/120 (10%)\n",
            "\n",
            "Train Epoch: 180 [0/1298 (0%)]\tLoss: 2.808989\n"
          ]
        },
        {
          "metadata": {
            "tags": null
          },
          "name": "stderr",
          "output_type": "stream",
          "text": [
            " 45%|████▌     | 180.14285714285444/400 [03:02<03:52,  1.06s/it]"
          ]
        },
        {
          "metadata": {
            "tags": null
          },
          "name": "stdout",
          "output_type": "stream",
          "text": [
            "\n",
            "Test Epoch: 180\tAccuracy: 10/120 (8%)\n",
            "\n",
            "Train Epoch: 181 [0/1298 (0%)]\tLoss: 2.751189\n"
          ]
        },
        {
          "metadata": {
            "tags": null
          },
          "name": "stderr",
          "output_type": "stream",
          "text": [
            " 45%|████▌     | 180.99999999999727/400 [03:03<03:34,  1.02it/s]"
          ]
        },
        {
          "metadata": {
            "tags": null
          },
          "name": "stdout",
          "output_type": "stream",
          "text": [
            "\n",
            "Test Epoch: 181\tAccuracy: 11/120 (9%)\n",
            "\n"
          ]
        },
        {
          "metadata": {
            "tags": null
          },
          "name": "stderr",
          "output_type": "stream",
          "text": [
            "\r 45%|████▌     | 181.1428571428544/400 [03:04<04:11,  1.15s/it] "
          ]
        },
        {
          "metadata": {
            "tags": null
          },
          "name": "stdout",
          "output_type": "stream",
          "text": [
            "Train Epoch: 182 [0/1298 (0%)]\tLoss: 2.822673\n"
          ]
        },
        {
          "metadata": {
            "tags": null
          },
          "name": "stderr",
          "output_type": "stream",
          "text": [
            " 45%|████▌     | 181.99999999999724/400 [03:05<03:33,  1.02it/s]"
          ]
        },
        {
          "metadata": {
            "tags": null
          },
          "name": "stdout",
          "output_type": "stream",
          "text": [
            "\n",
            "Test Epoch: 182\tAccuracy: 9/120 (8%)\n",
            "\n"
          ]
        },
        {
          "metadata": {
            "tags": null
          },
          "name": "stderr",
          "output_type": "stream",
          "text": [
            " 46%|████▌     | 182.28571428571152/400 [03:05<04:21,  1.20s/it]"
          ]
        },
        {
          "metadata": {
            "tags": null
          },
          "name": "stdout",
          "output_type": "stream",
          "text": [
            "Train Epoch: 183 [0/1298 (0%)]\tLoss: 2.800106\n"
          ]
        },
        {
          "metadata": {
            "tags": null
          },
          "name": "stderr",
          "output_type": "stream",
          "text": [
            " 46%|████▌     | 182.99999999999721/400 [03:06<03:32,  1.02it/s]"
          ]
        },
        {
          "metadata": {
            "tags": null
          },
          "name": "stdout",
          "output_type": "stream",
          "text": [
            "\n",
            "Test Epoch: 183\tAccuracy: 9/120 (8%)\n",
            "\n"
          ]
        },
        {
          "metadata": {
            "tags": null
          },
          "name": "stderr",
          "output_type": "stream",
          "text": [
            " 46%|████▌     | 183.2857142857115/400 [03:06<04:16,  1.18s/it] "
          ]
        },
        {
          "metadata": {
            "tags": null
          },
          "name": "stdout",
          "output_type": "stream",
          "text": [
            "Train Epoch: 184 [0/1298 (0%)]\tLoss: 2.868835\n"
          ]
        },
        {
          "metadata": {
            "tags": null
          },
          "name": "stderr",
          "output_type": "stream",
          "text": [
            " 46%|████▌     | 184.14285714285433/400 [03:07<03:09,  1.14it/s]"
          ]
        },
        {
          "metadata": {
            "tags": null
          },
          "name": "stdout",
          "output_type": "stream",
          "text": [
            "\n",
            "Test Epoch: 184\tAccuracy: 9/120 (8%)\n",
            "\n",
            "Train Epoch: 185 [0/1298 (0%)]\tLoss: 2.874401\n"
          ]
        },
        {
          "metadata": {
            "tags": null
          },
          "name": "stderr",
          "output_type": "stream",
          "text": [
            " 46%|████▋     | 185.1428571428543/400 [03:08<02:50,  1.26it/s] "
          ]
        },
        {
          "metadata": {
            "tags": null
          },
          "name": "stdout",
          "output_type": "stream",
          "text": [
            "\n",
            "Test Epoch: 185\tAccuracy: 8/120 (7%)\n",
            "\n",
            "Train Epoch: 186 [0/1298 (0%)]\tLoss: 2.693565\n"
          ]
        },
        {
          "metadata": {
            "tags": null
          },
          "name": "stderr",
          "output_type": "stream",
          "text": [
            " 47%|████▋     | 186.14285714285427/400 [03:09<02:56,  1.21it/s]"
          ]
        },
        {
          "metadata": {
            "tags": null
          },
          "name": "stdout",
          "output_type": "stream",
          "text": [
            "\n",
            "Test Epoch: 186\tAccuracy: 9/120 (8%)\n",
            "\n",
            "Train Epoch: 187 [0/1298 (0%)]\tLoss: 2.839242\n"
          ]
        },
        {
          "metadata": {
            "tags": null
          },
          "name": "stderr",
          "output_type": "stream",
          "text": [
            " 47%|████▋     | 186.9999999999971/400 [03:10<02:43,  1.30it/s] "
          ]
        },
        {
          "metadata": {
            "tags": null
          },
          "name": "stdout",
          "output_type": "stream",
          "text": [
            "\n",
            "Test Epoch: 187\tAccuracy: 11/120 (9%)\n",
            "\n",
            "Train Epoch: 188 [0/1298 (0%)]\tLoss: 2.715447\n"
          ]
        },
        {
          "metadata": {
            "tags": null
          },
          "name": "stderr",
          "output_type": "stream",
          "text": [
            " 47%|████▋     | 187.99999999999707/400 [03:11<02:45,  1.28it/s]"
          ]
        },
        {
          "metadata": {
            "tags": null
          },
          "name": "stdout",
          "output_type": "stream",
          "text": [
            "\n",
            "Test Epoch: 188\tAccuracy: 11/120 (9%)\n",
            "\n",
            "Train Epoch: 189 [0/1298 (0%)]\tLoss: 2.807349\n"
          ]
        },
        {
          "metadata": {
            "tags": null
          },
          "name": "stderr",
          "output_type": "stream",
          "text": [
            " 47%|████▋     | 189.14285714285418/400 [03:12<02:57,  1.19it/s]"
          ]
        },
        {
          "metadata": {
            "tags": null
          },
          "name": "stdout",
          "output_type": "stream",
          "text": [
            "\n",
            "Test Epoch: 189\tAccuracy: 11/120 (9%)\n",
            "\n",
            "Train Epoch: 190 [0/1298 (0%)]\tLoss: 2.821473\n"
          ]
        },
        {
          "metadata": {
            "tags": null
          },
          "name": "stderr",
          "output_type": "stream",
          "text": [
            " 48%|████▊     | 190.14285714285415/400 [03:13<02:52,  1.22it/s]"
          ]
        },
        {
          "metadata": {
            "tags": null
          },
          "name": "stdout",
          "output_type": "stream",
          "text": [
            "\n",
            "Test Epoch: 190\tAccuracy: 11/120 (9%)\n",
            "\n",
            "Train Epoch: 191 [0/1298 (0%)]\tLoss: 2.802238\n"
          ]
        },
        {
          "metadata": {
            "tags": null
          },
          "name": "stderr",
          "output_type": "stream",
          "text": [
            " 48%|████▊     | 191.14285714285413/400 [03:14<02:50,  1.22it/s]"
          ]
        },
        {
          "metadata": {
            "tags": null
          },
          "name": "stdout",
          "output_type": "stream",
          "text": [
            "\n",
            "Test Epoch: 191\tAccuracy: 9/120 (8%)\n",
            "\n",
            "Train Epoch: 192 [0/1298 (0%)]\tLoss: 2.806569\n"
          ]
        },
        {
          "metadata": {
            "tags": null
          },
          "name": "stderr",
          "output_type": "stream",
          "text": [
            " 48%|████▊     | 192.1428571428541/400 [03:15<02:53,  1.20it/s] "
          ]
        },
        {
          "metadata": {
            "tags": null
          },
          "name": "stdout",
          "output_type": "stream",
          "text": [
            "\n",
            "Test Epoch: 192\tAccuracy: 10/120 (8%)\n",
            "\n",
            "Train Epoch: 193 [0/1298 (0%)]\tLoss: 2.810213\n"
          ]
        },
        {
          "metadata": {
            "tags": null
          },
          "name": "stderr",
          "output_type": "stream",
          "text": [
            " 48%|████▊     | 193.14285714285407/400 [03:15<02:51,  1.21it/s]"
          ]
        },
        {
          "metadata": {
            "tags": null
          },
          "name": "stdout",
          "output_type": "stream",
          "text": [
            "\n",
            "Test Epoch: 193\tAccuracy: 9/120 (8%)\n",
            "\n",
            "Train Epoch: 194 [0/1298 (0%)]\tLoss: 2.811470\n"
          ]
        },
        {
          "metadata": {
            "tags": null
          },
          "name": "stderr",
          "output_type": "stream",
          "text": [
            " 48%|████▊     | 193.9999999999969/400 [03:16<02:34,  1.33it/s] "
          ]
        },
        {
          "metadata": {
            "tags": null
          },
          "name": "stdout",
          "output_type": "stream",
          "text": [
            "\n",
            "Test Epoch: 194\tAccuracy: 8/120 (7%)\n",
            "\n"
          ]
        },
        {
          "metadata": {
            "tags": null
          },
          "name": "stderr",
          "output_type": "stream",
          "text": [
            "\r 49%|████▊     | 194.28571428571118/400 [03:17<03:34,  1.04s/it]"
          ]
        },
        {
          "metadata": {
            "tags": null
          },
          "name": "stdout",
          "output_type": "stream",
          "text": [
            "Train Epoch: 195 [0/1298 (0%)]\tLoss: 2.851456\n"
          ]
        },
        {
          "metadata": {
            "tags": null
          },
          "name": "stderr",
          "output_type": "stream",
          "text": [
            " 49%|████▊     | 194.99999999999687/400 [03:17<03:19,  1.03it/s]"
          ]
        },
        {
          "metadata": {
            "tags": null
          },
          "name": "stdout",
          "output_type": "stream",
          "text": [
            "\n",
            "Test Epoch: 195\tAccuracy: 9/120 (8%)\n",
            "\n"
          ]
        },
        {
          "metadata": {
            "tags": null
          },
          "name": "stderr",
          "output_type": "stream",
          "text": [
            "\r 49%|████▉     | 195.142857142854/400 [03:18<03:44,  1.09s/it]  "
          ]
        },
        {
          "metadata": {
            "tags": null
          },
          "name": "stdout",
          "output_type": "stream",
          "text": [
            "Train Epoch: 196 [0/1298 (0%)]\tLoss: 2.813803\n"
          ]
        },
        {
          "metadata": {
            "tags": null
          },
          "name": "stderr",
          "output_type": "stream",
          "text": [
            " 49%|████▉     | 195.99999999999685/400 [03:19<03:25,  1.01s/it]"
          ]
        },
        {
          "metadata": {
            "tags": null
          },
          "name": "stdout",
          "output_type": "stream",
          "text": [
            "\n",
            "Test Epoch: 196\tAccuracy: 10/120 (8%)\n",
            "\n"
          ]
        },
        {
          "metadata": {
            "tags": null
          },
          "name": "stderr",
          "output_type": "stream",
          "text": [
            "\r 49%|████▉     | 196.14285714285398/400 [03:19<04:07,  1.21s/it]"
          ]
        },
        {
          "metadata": {
            "tags": null
          },
          "name": "stdout",
          "output_type": "stream",
          "text": [
            "Train Epoch: 197 [0/1298 (0%)]\tLoss: 2.854202\n"
          ]
        },
        {
          "metadata": {
            "tags": null
          },
          "name": "stderr",
          "output_type": "stream",
          "text": [
            " 49%|████▉     | 196.99999999999682/400 [03:20<03:17,  1.03it/s]"
          ]
        },
        {
          "metadata": {
            "tags": null
          },
          "name": "stdout",
          "output_type": "stream",
          "text": [
            "\n",
            "Test Epoch: 197\tAccuracy: 9/120 (8%)\n",
            "\n"
          ]
        },
        {
          "metadata": {
            "tags": null
          },
          "name": "stderr",
          "output_type": "stream",
          "text": [
            " 49%|████▉     | 197.2857142857111/400 [03:20<04:04,  1.20s/it] "
          ]
        },
        {
          "metadata": {
            "tags": null
          },
          "name": "stdout",
          "output_type": "stream",
          "text": [
            "Train Epoch: 198 [0/1298 (0%)]\tLoss: 2.847517\n"
          ]
        },
        {
          "metadata": {
            "tags": null
          },
          "name": "stderr",
          "output_type": "stream",
          "text": [
            " 49%|████▉     | 197.9999999999968/400 [03:21<03:16,  1.03it/s]"
          ]
        },
        {
          "metadata": {
            "tags": null
          },
          "name": "stdout",
          "output_type": "stream",
          "text": [
            "\n",
            "Test Epoch: 198\tAccuracy: 10/120 (8%)\n",
            "\n"
          ]
        },
        {
          "metadata": {
            "tags": null
          },
          "name": "stderr",
          "output_type": "stream",
          "text": [
            "\r 50%|████▉     | 198.14285714285393/400 [03:21<03:43,  1.11s/it]"
          ]
        },
        {
          "metadata": {
            "tags": null
          },
          "name": "stdout",
          "output_type": "stream",
          "text": [
            "Train Epoch: 199 [0/1298 (0%)]\tLoss: 2.821500\n"
          ]
        },
        {
          "metadata": {
            "tags": null
          },
          "name": "stderr",
          "output_type": "stream",
          "text": [
            " 50%|████▉     | 199.1428571428539/400 [03:23<03:39,  1.09s/it] "
          ]
        },
        {
          "metadata": {
            "tags": null
          },
          "name": "stdout",
          "output_type": "stream",
          "text": [
            "\n",
            "Test Epoch: 199\tAccuracy: 7/120 (6%)\n",
            "\n",
            "Train Epoch: 200 [0/1298 (0%)]\tLoss: 2.862523\n"
          ]
        },
        {
          "metadata": {
            "tags": null
          },
          "name": "stderr",
          "output_type": "stream",
          "text": [
            " 50%|█████     | 200.14285714285387/400 [03:24<02:53,  1.15it/s]"
          ]
        },
        {
          "metadata": {
            "tags": null
          },
          "name": "stdout",
          "output_type": "stream",
          "text": [
            "\n",
            "Test Epoch: 200\tAccuracy: 11/120 (9%)\n",
            "\n",
            "Train Epoch: 201 [0/1298 (0%)]\tLoss: 2.816786\n"
          ]
        },
        {
          "metadata": {
            "tags": null
          },
          "name": "stderr",
          "output_type": "stream",
          "text": [
            " 50%|█████     | 201.14285714285384/400 [03:25<02:44,  1.21it/s]"
          ]
        },
        {
          "metadata": {
            "tags": null
          },
          "name": "stdout",
          "output_type": "stream",
          "text": [
            "\n",
            "Test Epoch: 201\tAccuracy: 11/120 (9%)\n",
            "\n",
            "Train Epoch: 202 [0/1298 (0%)]\tLoss: 2.800832\n"
          ]
        },
        {
          "metadata": {
            "tags": null
          },
          "name": "stderr",
          "output_type": "stream",
          "text": [
            " 51%|█████     | 202.1428571428538/400 [03:26<02:41,  1.22it/s]"
          ]
        },
        {
          "metadata": {
            "tags": null
          },
          "name": "stdout",
          "output_type": "stream",
          "text": [
            "\n",
            "Test Epoch: 202\tAccuracy: 11/120 (9%)\n",
            "\n",
            "Train Epoch: 203 [0/1298 (0%)]\tLoss: 2.761086\n"
          ]
        },
        {
          "metadata": {
            "tags": null
          },
          "name": "stderr",
          "output_type": "stream",
          "text": [
            " 51%|█████     | 203.14285714285379/400 [03:27<02:45,  1.19it/s]"
          ]
        },
        {
          "metadata": {
            "tags": null
          },
          "name": "stdout",
          "output_type": "stream",
          "text": [
            "\n",
            "Test Epoch: 203\tAccuracy: 11/120 (9%)\n",
            "\n",
            "Train Epoch: 204 [0/1298 (0%)]\tLoss: 2.806332\n"
          ]
        },
        {
          "metadata": {
            "tags": null
          },
          "name": "stderr",
          "output_type": "stream",
          "text": [
            " 51%|█████     | 204.14285714285376/400 [03:27<02:43,  1.20it/s]"
          ]
        },
        {
          "metadata": {
            "tags": null
          },
          "name": "stdout",
          "output_type": "stream",
          "text": [
            "\n",
            "Test Epoch: 204\tAccuracy: 9/120 (8%)\n",
            "\n",
            "Train Epoch: 205 [0/1298 (0%)]\tLoss: 2.825507\n"
          ]
        },
        {
          "metadata": {
            "tags": null
          },
          "name": "stderr",
          "output_type": "stream",
          "text": [
            " 51%|█████▏    | 205.14285714285373/400 [03:28<02:42,  1.20it/s]"
          ]
        },
        {
          "metadata": {
            "tags": null
          },
          "name": "stdout",
          "output_type": "stream",
          "text": [
            "\n",
            "Test Epoch: 205\tAccuracy: 9/120 (8%)\n",
            "\n",
            "Train Epoch: 206 [0/1298 (0%)]\tLoss: 2.827216\n"
          ]
        },
        {
          "metadata": {
            "tags": null
          },
          "name": "stderr",
          "output_type": "stream",
          "text": [
            " 52%|█████▏    | 206.1428571428537/400 [03:29<02:39,  1.22it/s] "
          ]
        },
        {
          "metadata": {
            "tags": null
          },
          "name": "stdout",
          "output_type": "stream",
          "text": [
            "\n",
            "Test Epoch: 206\tAccuracy: 10/120 (8%)\n",
            "\n",
            "Train Epoch: 207 [0/1298 (0%)]\tLoss: 2.789077\n"
          ]
        },
        {
          "metadata": {
            "tags": null
          },
          "name": "stderr",
          "output_type": "stream",
          "text": [
            " 52%|█████▏    | 207.14285714285367/400 [03:30<02:40,  1.20it/s]"
          ]
        },
        {
          "metadata": {
            "tags": null
          },
          "name": "stdout",
          "output_type": "stream",
          "text": [
            "\n",
            "Test Epoch: 207\tAccuracy: 9/120 (8%)\n",
            "\n",
            "Train Epoch: 208 [0/1298 (0%)]\tLoss: 2.755048\n"
          ]
        },
        {
          "metadata": {
            "tags": null
          },
          "name": "stderr",
          "output_type": "stream",
          "text": [
            " 52%|█████▏    | 208.14285714285364/400 [03:31<02:40,  1.19it/s]"
          ]
        },
        {
          "metadata": {
            "tags": null
          },
          "name": "stdout",
          "output_type": "stream",
          "text": [
            "\n",
            "Test Epoch: 208\tAccuracy: 10/120 (8%)\n",
            "\n",
            "Train Epoch: 209 [0/1298 (0%)]\tLoss: 2.824719\n"
          ]
        },
        {
          "metadata": {
            "tags": null
          },
          "name": "stderr",
          "output_type": "stream",
          "text": [
            " 52%|█████▏    | 209.14285714285361/400 [03:32<02:31,  1.26it/s]"
          ]
        },
        {
          "metadata": {
            "tags": null
          },
          "name": "stdout",
          "output_type": "stream",
          "text": [
            "\n",
            "Test Epoch: 209\tAccuracy: 9/120 (8%)\n",
            "\n",
            "Train Epoch: 210 [0/1298 (0%)]\tLoss: 2.755153\n"
          ]
        },
        {
          "metadata": {
            "tags": null
          },
          "name": "stderr",
          "output_type": "stream",
          "text": [
            " 52%|█████▏    | 209.99999999999645/400 [03:33<03:04,  1.03it/s]"
          ]
        },
        {
          "metadata": {
            "tags": null
          },
          "name": "stdout",
          "output_type": "stream",
          "text": [
            "\n",
            "Test Epoch: 210\tAccuracy: 10/120 (8%)\n",
            "\n"
          ]
        },
        {
          "metadata": {
            "tags": null
          },
          "name": "stderr",
          "output_type": "stream",
          "text": [
            "\r 53%|█████▎    | 210.1428571428536/400 [03:33<03:35,  1.13s/it] "
          ]
        },
        {
          "metadata": {
            "tags": null
          },
          "name": "stdout",
          "output_type": "stream",
          "text": [
            "Train Epoch: 211 [0/1298 (0%)]\tLoss: 2.795376\n"
          ]
        },
        {
          "metadata": {
            "tags": null
          },
          "name": "stderr",
          "output_type": "stream",
          "text": [
            " 53%|█████▎    | 210.99999999999642/400 [03:34<03:09,  1.00s/it]"
          ]
        },
        {
          "metadata": {
            "tags": null
          },
          "name": "stdout",
          "output_type": "stream",
          "text": [
            "\n",
            "Test Epoch: 211\tAccuracy: 9/120 (8%)\n",
            "\n"
          ]
        },
        {
          "metadata": {
            "tags": null
          },
          "name": "stderr",
          "output_type": "stream",
          "text": [
            "\r 53%|█████▎    | 211.14285714285356/400 [03:35<03:42,  1.18s/it]"
          ]
        },
        {
          "metadata": {
            "tags": null
          },
          "name": "stdout",
          "output_type": "stream",
          "text": [
            "Train Epoch: 212 [0/1298 (0%)]\tLoss: 2.842148\n"
          ]
        },
        {
          "metadata": {
            "tags": null
          },
          "name": "stderr",
          "output_type": "stream",
          "text": [
            " 53%|█████▎    | 211.9999999999964/400 [03:36<03:04,  1.02it/s]"
          ]
        },
        {
          "metadata": {
            "tags": null
          },
          "name": "stdout",
          "output_type": "stream",
          "text": [
            "\n",
            "Test Epoch: 212\tAccuracy: 9/120 (8%)\n",
            "\n"
          ]
        },
        {
          "metadata": {
            "tags": null
          },
          "name": "stderr",
          "output_type": "stream",
          "text": [
            "\r 53%|█████▎    | 212.14285714285353/400 [03:36<03:31,  1.13s/it]"
          ]
        },
        {
          "metadata": {
            "tags": null
          },
          "name": "stdout",
          "output_type": "stream",
          "text": [
            "Train Epoch: 213 [0/1298 (0%)]\tLoss: 2.788471\n"
          ]
        },
        {
          "metadata": {
            "tags": null
          },
          "name": "stderr",
          "output_type": "stream",
          "text": [
            " 53%|█████▎    | 213.1428571428535/400 [03:37<03:27,  1.11s/it] "
          ]
        },
        {
          "metadata": {
            "tags": null
          },
          "name": "stdout",
          "output_type": "stream",
          "text": [
            "\n",
            "Test Epoch: 213\tAccuracy: 9/120 (8%)\n",
            "\n",
            "Train Epoch: 214 [0/1298 (0%)]\tLoss: 2.804646\n"
          ]
        },
        {
          "metadata": {
            "tags": null
          },
          "name": "stderr",
          "output_type": "stream",
          "text": [
            " 54%|█████▎    | 214.14285714285347/400 [03:38<03:00,  1.03it/s]"
          ]
        },
        {
          "metadata": {
            "tags": null
          },
          "name": "stdout",
          "output_type": "stream",
          "text": [
            "\n",
            "Test Epoch: 214\tAccuracy: 11/120 (9%)\n",
            "\n",
            "Train Epoch: 215 [0/1298 (0%)]\tLoss: 2.856187\n"
          ]
        },
        {
          "metadata": {
            "tags": null
          },
          "name": "stderr",
          "output_type": "stream",
          "text": [
            " 54%|█████▍    | 215.14285714285344/400 [03:39<02:32,  1.21it/s]"
          ]
        },
        {
          "metadata": {
            "tags": null
          },
          "name": "stdout",
          "output_type": "stream",
          "text": [
            "\n",
            "Test Epoch: 215\tAccuracy: 9/120 (8%)\n",
            "\n",
            "Train Epoch: 216 [0/1298 (0%)]\tLoss: 2.814566\n"
          ]
        },
        {
          "metadata": {
            "tags": null
          },
          "name": "stderr",
          "output_type": "stream",
          "text": [
            " 54%|█████▍    | 216.14285714285342/400 [03:40<02:37,  1.16it/s]"
          ]
        },
        {
          "metadata": {
            "tags": null
          },
          "name": "stdout",
          "output_type": "stream",
          "text": [
            "\n",
            "Test Epoch: 216\tAccuracy: 9/120 (8%)\n",
            "\n",
            "Train Epoch: 217 [0/1298 (0%)]\tLoss: 2.844950\n"
          ]
        },
        {
          "metadata": {
            "tags": null
          },
          "name": "stderr",
          "output_type": "stream",
          "text": [
            " 54%|█████▍    | 217.1428571428534/400 [03:41<02:32,  1.20it/s] "
          ]
        },
        {
          "metadata": {
            "tags": null
          },
          "name": "stdout",
          "output_type": "stream",
          "text": [
            "\n",
            "Test Epoch: 217\tAccuracy: 11/120 (9%)\n",
            "\n",
            "Train Epoch: 218 [0/1298 (0%)]\tLoss: 2.840716\n"
          ]
        },
        {
          "output_type": "stream",
          "name": "stderr",
          "text": [
            " 55%|█████▍    | 218.14285714285336/400 [03:42<02:35,  1.17it/s]"
          ]
        },
        {
          "output_type": "stream",
          "name": "stdout",
          "text": [
            "\n",
            "Test Epoch: 218\tAccuracy: 10/120 (8%)\n",
            "\n",
            "Train Epoch: 219 [0/1298 (0%)]\tLoss: 2.843418\n"
          ]
        },
        {
          "output_type": "stream",
          "name": "stderr",
          "text": [
            " 55%|█████▍    | 219.14285714285333/400 [03:43<02:29,  1.21it/s]"
          ]
        },
        {
          "output_type": "stream",
          "name": "stdout",
          "text": [
            "\n",
            "Test Epoch: 219\tAccuracy: 9/120 (8%)\n",
            "\n",
            "Train Epoch: 220 [0/1298 (0%)]\tLoss: 2.820676\n"
          ]
        },
        {
          "output_type": "stream",
          "name": "stderr",
          "text": [
            " 55%|█████▌    | 220.1428571428533/400 [03:44<02:19,  1.29it/s] "
          ]
        },
        {
          "output_type": "stream",
          "name": "stdout",
          "text": [
            "\n",
            "Test Epoch: 220\tAccuracy: 11/120 (9%)\n",
            "\n",
            "Train Epoch: 221 [0/1298 (0%)]\tLoss: 2.770455\n"
          ]
        },
        {
          "output_type": "stream",
          "name": "stderr",
          "text": [
            " 55%|█████▌    | 221.14285714285327/400 [03:45<02:20,  1.27it/s]"
          ]
        },
        {
          "output_type": "stream",
          "name": "stdout",
          "text": [
            "\n",
            "Test Epoch: 221\tAccuracy: 9/120 (8%)\n",
            "\n",
            "Train Epoch: 222 [0/1298 (0%)]\tLoss: 2.769635\n"
          ]
        },
        {
          "output_type": "stream",
          "name": "stderr",
          "text": [
            " 56%|█████▌    | 222.14285714285325/400 [03:46<02:21,  1.26it/s]"
          ]
        },
        {
          "output_type": "stream",
          "name": "stdout",
          "text": [
            "\n",
            "Test Epoch: 222\tAccuracy: 10/120 (8%)\n",
            "\n",
            "Train Epoch: 223 [0/1298 (0%)]\tLoss: 2.728992\n"
          ]
        },
        {
          "output_type": "stream",
          "name": "stderr",
          "text": [
            " 56%|█████▌    | 223.14285714285322/400 [03:47<02:27,  1.20it/s]"
          ]
        },
        {
          "output_type": "stream",
          "name": "stdout",
          "text": [
            "\n",
            "Test Epoch: 223\tAccuracy: 9/120 (8%)\n",
            "\n",
            "Train Epoch: 224 [0/1298 (0%)]\tLoss: 2.747528\n"
          ]
        },
        {
          "output_type": "stream",
          "name": "stderr",
          "text": [
            " 56%|█████▌    | 224.1428571428532/400 [03:48<02:27,  1.19it/s] "
          ]
        },
        {
          "output_type": "stream",
          "name": "stdout",
          "text": [
            "\n",
            "Test Epoch: 224\tAccuracy: 9/120 (8%)\n",
            "\n",
            "Train Epoch: 225 [0/1298 (0%)]\tLoss: 2.873462\n"
          ]
        },
        {
          "output_type": "stream",
          "name": "stderr",
          "text": [
            " 56%|█████▌    | 224.99999999999602/400 [03:49<02:37,  1.11it/s]"
          ]
        },
        {
          "output_type": "stream",
          "name": "stdout",
          "text": [
            "\n",
            "Test Epoch: 225\tAccuracy: 9/120 (8%)\n",
            "\n"
          ]
        },
        {
          "output_type": "stream",
          "name": "stderr",
          "text": [
            "\r 56%|█████▋    | 225.14285714285316/400 [03:49<02:59,  1.03s/it]"
          ]
        },
        {
          "output_type": "stream",
          "name": "stdout",
          "text": [
            "Train Epoch: 226 [0/1298 (0%)]\tLoss: 2.758274\n"
          ]
        },
        {
          "output_type": "stream",
          "name": "stderr",
          "text": [
            " 56%|█████▋    | 225.999999999996/400 [03:50<02:53,  1.00it/s]  "
          ]
        },
        {
          "output_type": "stream",
          "name": "stdout",
          "text": [
            "\n",
            "Test Epoch: 226\tAccuracy: 11/120 (9%)\n",
            "\n"
          ]
        },
        {
          "output_type": "stream",
          "name": "stderr",
          "text": [
            "\r 57%|█████▋    | 226.14285714285313/400 [03:50<03:16,  1.13s/it]"
          ]
        },
        {
          "output_type": "stream",
          "name": "stdout",
          "text": [
            "Train Epoch: 227 [0/1298 (0%)]\tLoss: 2.844476\n"
          ]
        },
        {
          "output_type": "stream",
          "name": "stderr",
          "text": [
            " 57%|█████▋    | 226.99999999999596/400 [03:51<02:54,  1.01s/it]"
          ]
        },
        {
          "output_type": "stream",
          "name": "stdout",
          "text": [
            "\n",
            "Test Epoch: 227\tAccuracy: 10/120 (8%)\n",
            "\n"
          ]
        },
        {
          "output_type": "stream",
          "name": "stderr",
          "text": [
            "\r 57%|█████▋    | 227.1428571428531/400 [03:51<03:15,  1.13s/it] "
          ]
        },
        {
          "output_type": "stream",
          "name": "stdout",
          "text": [
            "Train Epoch: 228 [0/1298 (0%)]\tLoss: 2.749131\n"
          ]
        },
        {
          "output_type": "stream",
          "name": "stderr",
          "text": [
            " 57%|█████▋    | 228.14285714285307/400 [03:53<02:49,  1.01it/s]"
          ]
        },
        {
          "output_type": "stream",
          "name": "stdout",
          "text": [
            "\n",
            "Test Epoch: 228\tAccuracy: 10/120 (8%)\n",
            "\n",
            "Train Epoch: 229 [0/1298 (0%)]\tLoss: 2.807074\n"
          ]
        },
        {
          "output_type": "stream",
          "name": "stderr",
          "text": [
            " 57%|█████▋    | 229.14285714285305/400 [03:54<02:22,  1.20it/s]"
          ]
        },
        {
          "output_type": "stream",
          "name": "stdout",
          "text": [
            "\n",
            "Test Epoch: 229\tAccuracy: 9/120 (8%)\n",
            "\n",
            "Train Epoch: 230 [0/1298 (0%)]\tLoss: 2.767104\n"
          ]
        },
        {
          "output_type": "stream",
          "name": "stderr",
          "text": [
            " 58%|█████▊    | 230.14285714285302/400 [03:54<02:18,  1.22it/s]"
          ]
        },
        {
          "output_type": "stream",
          "name": "stdout",
          "text": [
            "\n",
            "Test Epoch: 230\tAccuracy: 9/120 (8%)\n",
            "\n",
            "Train Epoch: 231 [0/1298 (0%)]\tLoss: 2.801001\n"
          ]
        },
        {
          "output_type": "stream",
          "name": "stderr",
          "text": [
            " 58%|█████▊    | 231.142857142853/400 [03:56<02:37,  1.07it/s]  "
          ]
        },
        {
          "output_type": "stream",
          "name": "stdout",
          "text": [
            "\n",
            "Test Epoch: 231\tAccuracy: 10/120 (8%)\n",
            "\n",
            "Train Epoch: 232 [0/1298 (0%)]\tLoss: 2.759817\n"
          ]
        },
        {
          "output_type": "stream",
          "name": "stderr",
          "text": [
            " 58%|█████▊    | 232.14285714285296/400 [03:56<02:21,  1.18it/s]"
          ]
        },
        {
          "output_type": "stream",
          "name": "stdout",
          "text": [
            "\n",
            "Test Epoch: 232\tAccuracy: 11/120 (9%)\n",
            "\n",
            "Train Epoch: 233 [0/1298 (0%)]\tLoss: 2.779402\n"
          ]
        },
        {
          "output_type": "stream",
          "name": "stderr",
          "text": [
            " 58%|█████▊    | 233.14285714285293/400 [03:57<02:18,  1.20it/s]"
          ]
        },
        {
          "output_type": "stream",
          "name": "stdout",
          "text": [
            "\n",
            "Test Epoch: 233\tAccuracy: 9/120 (8%)\n",
            "\n",
            "Train Epoch: 234 [0/1298 (0%)]\tLoss: 2.763155\n"
          ]
        },
        {
          "output_type": "stream",
          "name": "stderr",
          "text": [
            " 59%|█████▊    | 234.1428571428529/400 [03:58<02:12,  1.25it/s]"
          ]
        },
        {
          "output_type": "stream",
          "name": "stdout",
          "text": [
            "\n",
            "Test Epoch: 234\tAccuracy: 11/120 (9%)\n",
            "\n",
            "Train Epoch: 235 [0/1298 (0%)]\tLoss: 2.794253\n"
          ]
        },
        {
          "output_type": "stream",
          "name": "stderr",
          "text": [
            " 59%|█████▉    | 235.14285714285288/400 [03:59<02:18,  1.19it/s]"
          ]
        },
        {
          "output_type": "stream",
          "name": "stdout",
          "text": [
            "\n",
            "Test Epoch: 235\tAccuracy: 10/120 (8%)\n",
            "\n",
            "Train Epoch: 236 [0/1298 (0%)]\tLoss: 2.800159\n"
          ]
        },
        {
          "output_type": "stream",
          "name": "stderr",
          "text": [
            " 59%|█████▉    | 236.14285714285285/400 [04:00<02:16,  1.20it/s]"
          ]
        },
        {
          "output_type": "stream",
          "name": "stdout",
          "text": [
            "\n",
            "Test Epoch: 236\tAccuracy: 10/120 (8%)\n",
            "\n",
            "Train Epoch: 237 [0/1298 (0%)]\tLoss: 2.752303\n"
          ]
        },
        {
          "output_type": "stream",
          "name": "stderr",
          "text": [
            " 59%|█████▉    | 237.14285714285282/400 [04:01<02:15,  1.20it/s]"
          ]
        },
        {
          "output_type": "stream",
          "name": "stdout",
          "text": [
            "\n",
            "Test Epoch: 237\tAccuracy: 10/120 (8%)\n",
            "\n",
            "Train Epoch: 238 [0/1298 (0%)]\tLoss: 2.810636\n"
          ]
        },
        {
          "output_type": "stream",
          "name": "stderr",
          "text": [
            " 60%|█████▉    | 238.1428571428528/400 [04:02<02:08,  1.26it/s] "
          ]
        },
        {
          "output_type": "stream",
          "name": "stdout",
          "text": [
            "\n",
            "Test Epoch: 238\tAccuracy: 11/120 (9%)\n",
            "\n",
            "Train Epoch: 239 [0/1298 (0%)]\tLoss: 2.716722\n"
          ]
        },
        {
          "output_type": "stream",
          "name": "stderr",
          "text": [
            " 60%|█████▉    | 238.99999999999562/400 [04:03<02:28,  1.08it/s]"
          ]
        },
        {
          "output_type": "stream",
          "name": "stdout",
          "text": [
            "\n",
            "Test Epoch: 239\tAccuracy: 12/120 (10%)\n",
            "\n"
          ]
        },
        {
          "output_type": "stream",
          "name": "stderr",
          "text": [
            " 60%|█████▉    | 239.2857142857099/400 [04:03<03:08,  1.17s/it] "
          ]
        },
        {
          "output_type": "stream",
          "name": "stdout",
          "text": [
            "Train Epoch: 240 [0/1298 (0%)]\tLoss: 2.832443\n"
          ]
        },
        {
          "output_type": "stream",
          "name": "stderr",
          "text": [
            " 60%|█████▉    | 239.9999999999956/400 [04:04<02:42,  1.01s/it] "
          ]
        },
        {
          "output_type": "stream",
          "name": "stdout",
          "text": [
            "\n",
            "Test Epoch: 240\tAccuracy: 10/120 (8%)\n",
            "\n"
          ]
        },
        {
          "output_type": "stream",
          "name": "stderr",
          "text": [
            "\r 60%|██████    | 240.14285714285273/400 [04:05<03:02,  1.14s/it]"
          ]
        },
        {
          "output_type": "stream",
          "name": "stdout",
          "text": [
            "Train Epoch: 241 [0/1298 (0%)]\tLoss: 2.827703\n"
          ]
        },
        {
          "output_type": "stream",
          "name": "stderr",
          "text": [
            " 60%|██████    | 240.99999999999557/400 [04:06<02:37,  1.01it/s]"
          ]
        },
        {
          "output_type": "stream",
          "name": "stdout",
          "text": [
            "\n",
            "Test Epoch: 241\tAccuracy: 10/120 (8%)\n",
            "\n",
            "Train Epoch: 242 [0/1298 (0%)]\tLoss: 2.735692"
          ]
        },
        {
          "output_type": "stream",
          "name": "stderr",
          "text": [
            "\r 60%|██████    | 241.1428571428527/400 [04:06<02:54,  1.10s/it] "
          ]
        },
        {
          "output_type": "stream",
          "name": "stdout",
          "text": [
            "\n"
          ]
        },
        {
          "output_type": "stream",
          "name": "stderr",
          "text": [
            " 61%|██████    | 242.14285714285268/400 [04:07<02:34,  1.02it/s]"
          ]
        },
        {
          "output_type": "stream",
          "name": "stdout",
          "text": [
            "\n",
            "Test Epoch: 242\tAccuracy: 10/120 (8%)\n",
            "\n",
            "Train Epoch: 243 [0/1298 (0%)]\tLoss: 2.784049\n"
          ]
        },
        {
          "output_type": "stream",
          "name": "stderr",
          "text": [
            " 61%|██████    | 243.14285714285265/400 [04:08<02:10,  1.20it/s]"
          ]
        },
        {
          "output_type": "stream",
          "name": "stdout",
          "text": [
            "\n",
            "Test Epoch: 243\tAccuracy: 11/120 (9%)\n",
            "\n",
            "Train Epoch: 244 [0/1298 (0%)]\tLoss: 2.769747\n"
          ]
        },
        {
          "output_type": "stream",
          "name": "stderr",
          "text": [
            " 61%|██████    | 244.14285714285262/400 [04:09<02:10,  1.20it/s]"
          ]
        },
        {
          "output_type": "stream",
          "name": "stdout",
          "text": [
            "\n",
            "Test Epoch: 244\tAccuracy: 9/120 (8%)\n",
            "\n",
            "Train Epoch: 245 [0/1298 (0%)]\tLoss: 2.826588\n"
          ]
        },
        {
          "output_type": "stream",
          "name": "stderr",
          "text": [
            " 61%|██████▏   | 245.1428571428526/400 [04:10<02:09,  1.20it/s] "
          ]
        },
        {
          "output_type": "stream",
          "name": "stdout",
          "text": [
            "\n",
            "Test Epoch: 245\tAccuracy: 8/120 (7%)\n",
            "\n",
            "Train Epoch: 246 [0/1298 (0%)]\tLoss: 2.824140\n"
          ]
        },
        {
          "output_type": "stream",
          "name": "stderr",
          "text": [
            " 61%|██████▏   | 245.99999999999542/400 [04:11<02:02,  1.26it/s]"
          ]
        },
        {
          "output_type": "stream",
          "name": "stdout",
          "text": [
            "\n",
            "Test Epoch: 246\tAccuracy: 8/120 (7%)\n",
            "\n",
            "Train Epoch: 247 [0/1298 (0%)]\tLoss: 2.779038\n"
          ]
        },
        {
          "output_type": "stream",
          "name": "stderr",
          "text": [
            " 62%|██████▏   | 247.14285714285253/400 [04:12<02:13,  1.15it/s]"
          ]
        },
        {
          "output_type": "stream",
          "name": "stdout",
          "text": [
            "\n",
            "Test Epoch: 247\tAccuracy: 9/120 (8%)\n",
            "\n",
            "Train Epoch: 248 [0/1298 (0%)]\tLoss: 2.778864\n"
          ]
        },
        {
          "output_type": "stream",
          "name": "stderr",
          "text": [
            " 62%|██████▏   | 247.99999999999537/400 [04:12<01:58,  1.29it/s]"
          ]
        },
        {
          "output_type": "stream",
          "name": "stdout",
          "text": [
            "\n",
            "Test Epoch: 248\tAccuracy: 9/120 (8%)\n",
            "\n",
            "Train Epoch: 249 [0/1298 (0%)]\tLoss: 2.822007\n"
          ]
        },
        {
          "output_type": "stream",
          "name": "stderr",
          "text": [
            " 62%|██████▏   | 249.14285714285248/400 [04:14<02:02,  1.23it/s]"
          ]
        },
        {
          "output_type": "stream",
          "name": "stdout",
          "text": [
            "\n",
            "Test Epoch: 249\tAccuracy: 8/120 (7%)\n",
            "\n",
            "Train Epoch: 250 [0/1298 (0%)]\tLoss: 2.739247\n"
          ]
        },
        {
          "output_type": "stream",
          "name": "stderr",
          "text": [
            " 63%|██████▎   | 250.14285714285245/400 [04:15<02:10,  1.14it/s]"
          ]
        },
        {
          "output_type": "stream",
          "name": "stdout",
          "text": [
            "\n",
            "Test Epoch: 250\tAccuracy: 9/120 (8%)\n",
            "\n",
            "Train Epoch: 251 [0/1298 (0%)]\tLoss: 2.824209\n"
          ]
        },
        {
          "output_type": "stream",
          "name": "stderr",
          "text": [
            " 63%|██████▎   | 251.14285714285242/400 [04:15<02:04,  1.19it/s]"
          ]
        },
        {
          "output_type": "stream",
          "name": "stdout",
          "text": [
            "\n",
            "Test Epoch: 251\tAccuracy: 10/120 (8%)\n",
            "\n",
            "Train Epoch: 252 [0/1298 (0%)]\tLoss: 2.800748\n"
          ]
        },
        {
          "output_type": "stream",
          "name": "stderr",
          "text": [
            " 63%|██████▎   | 252.1428571428524/400 [04:16<01:59,  1.24it/s] "
          ]
        },
        {
          "output_type": "stream",
          "name": "stdout",
          "text": [
            "\n",
            "Test Epoch: 252\tAccuracy: 10/120 (8%)\n",
            "\n",
            "Train Epoch: 253 [0/1298 (0%)]\tLoss: 2.790110\n"
          ]
        },
        {
          "output_type": "stream",
          "name": "stderr",
          "text": [
            " 63%|██████▎   | 252.99999999999523/400 [04:17<02:09,  1.14it/s]"
          ]
        },
        {
          "output_type": "stream",
          "name": "stdout",
          "text": [
            "\n",
            "Test Epoch: 253\tAccuracy: 10/120 (8%)\n",
            "\n"
          ]
        },
        {
          "output_type": "stream",
          "name": "stderr",
          "text": [
            "\r 63%|██████▎   | 253.14285714285236/400 [04:18<02:35,  1.06s/it]"
          ]
        },
        {
          "output_type": "stream",
          "name": "stdout",
          "text": [
            "Train Epoch: 254 [0/1298 (0%)]\tLoss: 2.767797\n"
          ]
        },
        {
          "output_type": "stream",
          "name": "stderr",
          "text": [
            " 63%|██████▎   | 253.9999999999952/400 [04:19<02:23,  1.02it/s] "
          ]
        },
        {
          "output_type": "stream",
          "name": "stdout",
          "text": [
            "\n",
            "Test Epoch: 254\tAccuracy: 10/120 (8%)\n",
            "\n"
          ]
        },
        {
          "output_type": "stream",
          "name": "stderr",
          "text": [
            " 64%|██████▎   | 254.28571428570947/400 [04:19<02:50,  1.17s/it]"
          ]
        },
        {
          "output_type": "stream",
          "name": "stdout",
          "text": [
            "Train Epoch: 255 [0/1298 (0%)]\tLoss: 2.721459\n"
          ]
        },
        {
          "output_type": "stream",
          "name": "stderr",
          "text": [
            " 64%|██████▍   | 255.1428571428523/400 [04:20<02:42,  1.12s/it] "
          ]
        },
        {
          "output_type": "stream",
          "name": "stdout",
          "text": [
            "\n",
            "Test Epoch: 255\tAccuracy: 10/120 (8%)\n",
            "\n",
            "Train Epoch: 256 [0/1298 (0%)]\tLoss: 2.787906\n"
          ]
        },
        {
          "output_type": "stream",
          "name": "stderr",
          "text": [
            " 64%|██████▍   | 256.1428571428523/400 [04:21<02:37,  1.09s/it] "
          ]
        },
        {
          "output_type": "stream",
          "name": "stdout",
          "text": [
            "\n",
            "Test Epoch: 256\tAccuracy: 10/120 (8%)\n",
            "\n",
            "Train Epoch: 257 [0/1298 (0%)]\tLoss: 2.856805\n"
          ]
        },
        {
          "output_type": "stream",
          "name": "stderr",
          "text": [
            " 64%|██████▍   | 257.14285714285245/400 [04:22<01:59,  1.19it/s]"
          ]
        },
        {
          "output_type": "stream",
          "name": "stdout",
          "text": [
            "\n",
            "Test Epoch: 257\tAccuracy: 9/120 (8%)\n",
            "\n",
            "Train Epoch: 258 [0/1298 (0%)]\tLoss: 2.810977\n"
          ]
        },
        {
          "output_type": "stream",
          "name": "stderr",
          "text": [
            " 65%|██████▍   | 258.1428571428526/400 [04:23<01:59,  1.19it/s]"
          ]
        },
        {
          "output_type": "stream",
          "name": "stdout",
          "text": [
            "\n",
            "Test Epoch: 258\tAccuracy: 8/120 (7%)\n",
            "\n",
            "Train Epoch: 259 [0/1298 (0%)]\tLoss: 2.849666\n"
          ]
        },
        {
          "output_type": "stream",
          "name": "stderr",
          "text": [
            " 65%|██████▍   | 259.1428571428528/400 [04:24<01:58,  1.19it/s]"
          ]
        },
        {
          "output_type": "stream",
          "name": "stdout",
          "text": [
            "\n",
            "Test Epoch: 259\tAccuracy: 8/120 (7%)\n",
            "\n",
            "Train Epoch: 260 [0/1298 (0%)]\tLoss: 2.833860\n"
          ]
        },
        {
          "output_type": "stream",
          "name": "stderr",
          "text": [
            " 65%|██████▌   | 260.14285714285296/400 [04:25<01:59,  1.17it/s]"
          ]
        },
        {
          "output_type": "stream",
          "name": "stdout",
          "text": [
            "\n",
            "Test Epoch: 260\tAccuracy: 10/120 (8%)\n",
            "\n",
            "Train Epoch: 261 [0/1298 (0%)]\tLoss: 2.851327\n"
          ]
        },
        {
          "output_type": "stream",
          "name": "stderr",
          "text": [
            " 65%|██████▌   | 261.14285714285313/400 [04:26<01:47,  1.30it/s]"
          ]
        },
        {
          "output_type": "stream",
          "name": "stdout",
          "text": [
            "\n",
            "Test Epoch: 261\tAccuracy: 9/120 (8%)\n",
            "\n",
            "Train Epoch: 262 [0/1298 (0%)]\tLoss: 2.720150\n"
          ]
        },
        {
          "output_type": "stream",
          "name": "stderr",
          "text": [
            " 66%|██████▌   | 262.1428571428533/400 [04:27<01:55,  1.20it/s]"
          ]
        },
        {
          "output_type": "stream",
          "name": "stdout",
          "text": [
            "\n",
            "Test Epoch: 262\tAccuracy: 8/120 (7%)\n",
            "\n",
            "Train Epoch: 263 [0/1298 (0%)]\tLoss: 2.790794\n"
          ]
        },
        {
          "output_type": "stream",
          "name": "stderr",
          "text": [
            " 66%|██████▌   | 263.1428571428535/400 [04:28<01:55,  1.18it/s] "
          ]
        },
        {
          "output_type": "stream",
          "name": "stdout",
          "text": [
            "\n",
            "Test Epoch: 263\tAccuracy: 10/120 (8%)\n",
            "\n",
            "Train Epoch: 264 [0/1298 (0%)]\tLoss: 2.821778\n"
          ]
        },
        {
          "output_type": "stream",
          "name": "stderr",
          "text": [
            " 66%|██████▌   | 264.14285714285364/400 [04:29<01:52,  1.21it/s]"
          ]
        },
        {
          "output_type": "stream",
          "name": "stdout",
          "text": [
            "\n",
            "Test Epoch: 264\tAccuracy: 10/120 (8%)\n",
            "\n",
            "Train Epoch: 265 [0/1298 (0%)]\tLoss: 2.820330\n"
          ]
        },
        {
          "output_type": "stream",
          "name": "stderr",
          "text": [
            " 66%|██████▋   | 265.1428571428538/400 [04:30<01:50,  1.22it/s]"
          ]
        },
        {
          "output_type": "stream",
          "name": "stdout",
          "text": [
            "\n",
            "Test Epoch: 265\tAccuracy: 10/120 (8%)\n",
            "\n",
            "Train Epoch: 266 [0/1298 (0%)]\tLoss: 2.774362\n"
          ]
        },
        {
          "output_type": "stream",
          "name": "stderr",
          "text": [
            " 67%|██████▋   | 266.142857142854/400 [04:31<01:48,  1.23it/s] "
          ]
        },
        {
          "output_type": "stream",
          "name": "stdout",
          "text": [
            "\n",
            "Test Epoch: 266\tAccuracy: 7/120 (6%)\n",
            "\n",
            "Train Epoch: 267 [0/1298 (0%)]\tLoss: 2.790684\n"
          ]
        },
        {
          "output_type": "stream",
          "name": "stderr",
          "text": [
            " 67%|██████▋   | 266.999999999997/400 [04:32<01:51,  1.19it/s]  "
          ]
        },
        {
          "output_type": "stream",
          "name": "stdout",
          "text": [
            "\n",
            "Test Epoch: 267\tAccuracy: 8/120 (7%)\n",
            "\n"
          ]
        },
        {
          "output_type": "stream",
          "name": "stderr",
          "text": [
            "\r 67%|██████▋   | 267.14285714285415/400 [04:32<02:19,  1.05s/it]"
          ]
        },
        {
          "output_type": "stream",
          "name": "stdout",
          "text": [
            "Train Epoch: 268 [0/1298 (0%)]\tLoss: 2.838536\n"
          ]
        },
        {
          "output_type": "stream",
          "name": "stderr",
          "text": [
            " 67%|██████▋   | 267.99999999999716/400 [04:33<02:08,  1.03it/s]"
          ]
        },
        {
          "output_type": "stream",
          "name": "stdout",
          "text": [
            "\n",
            "Test Epoch: 268\tAccuracy: 9/120 (8%)\n",
            "\n"
          ]
        },
        {
          "output_type": "stream",
          "name": "stderr",
          "text": [
            "\r 67%|██████▋   | 268.1428571428543/400 [04:33<02:24,  1.10s/it] "
          ]
        },
        {
          "output_type": "stream",
          "name": "stdout",
          "text": [
            "Train Epoch: 269 [0/1298 (0%)]\tLoss: 2.732833\n"
          ]
        },
        {
          "output_type": "stream",
          "name": "stderr",
          "text": [
            " 67%|██████▋   | 268.9999999999973/400 [04:34<02:11,  1.00s/it]"
          ]
        },
        {
          "output_type": "stream",
          "name": "stdout",
          "text": [
            "\n",
            "Test Epoch: 269\tAccuracy: 8/120 (7%)\n",
            "\n"
          ]
        },
        {
          "output_type": "stream",
          "name": "stderr",
          "text": [
            "\r 67%|██████▋   | 269.1428571428545/400 [04:34<02:27,  1.13s/it]"
          ]
        },
        {
          "output_type": "stream",
          "name": "stdout",
          "text": [
            "Train Epoch: 270 [0/1298 (0%)]\tLoss: 2.720883\n"
          ]
        },
        {
          "output_type": "stream",
          "name": "stderr",
          "text": [
            " 67%|██████▋   | 269.9999999999975/400 [04:35<02:07,  1.02it/s] "
          ]
        },
        {
          "output_type": "stream",
          "name": "stdout",
          "text": [
            "\n",
            "Test Epoch: 270\tAccuracy: 8/120 (7%)\n",
            "\n",
            "Train Epoch: 271 [0/1298 (0%)]\tLoss: 2.787666"
          ]
        },
        {
          "output_type": "stream",
          "name": "stderr",
          "text": [
            " 68%|██████▊   | 270.28571428571183/400 [04:36<02:32,  1.18s/it]"
          ]
        },
        {
          "output_type": "stream",
          "name": "stdout",
          "text": [
            "\n"
          ]
        },
        {
          "output_type": "stream",
          "name": "stderr",
          "text": [
            " 68%|██████▊   | 271.14285714285484/400 [04:37<01:59,  1.08it/s]"
          ]
        },
        {
          "output_type": "stream",
          "name": "stdout",
          "text": [
            "\n",
            "Test Epoch: 271\tAccuracy: 10/120 (8%)\n",
            "\n",
            "Train Epoch: 272 [0/1298 (0%)]\tLoss: 2.807934\n"
          ]
        },
        {
          "output_type": "stream",
          "name": "stderr",
          "text": [
            " 68%|██████▊   | 272.142857142855/400 [04:38<01:47,  1.18it/s] "
          ]
        },
        {
          "output_type": "stream",
          "name": "stdout",
          "text": [
            "\n",
            "Test Epoch: 272\tAccuracy: 9/120 (8%)\n",
            "\n",
            "Train Epoch: 273 [0/1298 (0%)]\tLoss: 2.804416\n"
          ]
        },
        {
          "output_type": "stream",
          "name": "stderr",
          "text": [
            " 68%|██████▊   | 273.1428571428552/400 [04:38<01:47,  1.18it/s]"
          ]
        },
        {
          "output_type": "stream",
          "name": "stdout",
          "text": [
            "\n",
            "Test Epoch: 273\tAccuracy: 8/120 (7%)\n",
            "\n",
            "Train Epoch: 274 [0/1298 (0%)]\tLoss: 2.802974\n"
          ]
        },
        {
          "output_type": "stream",
          "name": "stderr",
          "text": [
            " 69%|██████▊   | 274.14285714285535/400 [04:39<01:44,  1.21it/s]"
          ]
        },
        {
          "output_type": "stream",
          "name": "stdout",
          "text": [
            "\n",
            "Test Epoch: 274\tAccuracy: 8/120 (7%)\n",
            "\n",
            "Train Epoch: 275 [0/1298 (0%)]\tLoss: 2.827059\n"
          ]
        },
        {
          "output_type": "stream",
          "name": "stderr",
          "text": [
            " 69%|██████▉   | 275.1428571428555/400 [04:40<01:40,  1.24it/s]"
          ]
        },
        {
          "output_type": "stream",
          "name": "stdout",
          "text": [
            "\n",
            "Test Epoch: 275\tAccuracy: 10/120 (8%)\n",
            "\n",
            "Train Epoch: 276 [0/1298 (0%)]\tLoss: 2.743322\n"
          ]
        },
        {
          "output_type": "stream",
          "name": "stderr",
          "text": [
            " 69%|██████▉   | 276.1428571428557/400 [04:41<01:39,  1.24it/s]"
          ]
        },
        {
          "output_type": "stream",
          "name": "stdout",
          "text": [
            "\n",
            "Test Epoch: 276\tAccuracy: 12/120 (10%)\n",
            "\n",
            "Train Epoch: 277 [0/1298 (0%)]\tLoss: 2.801666\n"
          ]
        },
        {
          "output_type": "stream",
          "name": "stderr",
          "text": [
            " 69%|██████▉   | 277.14285714285586/400 [04:42<01:36,  1.27it/s]"
          ]
        },
        {
          "output_type": "stream",
          "name": "stdout",
          "text": [
            "\n",
            "Test Epoch: 277\tAccuracy: 11/120 (9%)\n",
            "\n",
            "Train Epoch: 278 [0/1298 (0%)]\tLoss: 2.707571\n"
          ]
        },
        {
          "output_type": "stream",
          "name": "stderr",
          "text": [
            " 70%|██████▉   | 278.14285714285603/400 [04:43<01:36,  1.26it/s]"
          ]
        },
        {
          "output_type": "stream",
          "name": "stdout",
          "text": [
            "\n",
            "Test Epoch: 278\tAccuracy: 11/120 (9%)\n",
            "\n",
            "Train Epoch: 279 [0/1298 (0%)]\tLoss: 2.789921\n"
          ]
        },
        {
          "output_type": "stream",
          "name": "stderr",
          "text": [
            " 70%|██████▉   | 279.1428571428562/400 [04:44<01:41,  1.19it/s]"
          ]
        },
        {
          "output_type": "stream",
          "name": "stdout",
          "text": [
            "\n",
            "Test Epoch: 279\tAccuracy: 10/120 (8%)\n",
            "\n",
            "Train Epoch: 280 [0/1298 (0%)]\tLoss: 2.806681\n"
          ]
        },
        {
          "output_type": "stream",
          "name": "stderr",
          "text": [
            " 70%|███████   | 280.14285714285637/400 [04:45<01:36,  1.24it/s]"
          ]
        },
        {
          "output_type": "stream",
          "name": "stdout",
          "text": [
            "\n",
            "Test Epoch: 280\tAccuracy: 11/120 (9%)\n",
            "\n",
            "Train Epoch: 281 [0/1298 (0%)]\tLoss: 2.763720\n"
          ]
        },
        {
          "output_type": "stream",
          "name": "stderr",
          "text": [
            " 70%|███████   | 280.9999999999994/400 [04:46<01:39,  1.20it/s] "
          ]
        },
        {
          "output_type": "stream",
          "name": "stdout",
          "text": [
            "\n",
            "Test Epoch: 281\tAccuracy: 11/120 (9%)\n",
            "\n"
          ]
        },
        {
          "output_type": "stream",
          "name": "stderr",
          "text": [
            "\r 70%|███████   | 281.14285714285654/400 [04:46<02:03,  1.04s/it]"
          ]
        },
        {
          "output_type": "stream",
          "name": "stdout",
          "text": [
            "Train Epoch: 282 [0/1298 (0%)]\tLoss: 2.823146\n"
          ]
        },
        {
          "output_type": "stream",
          "name": "stderr",
          "text": [
            " 71%|███████   | 282.1428571428567/400 [04:47<02:04,  1.06s/it] "
          ]
        },
        {
          "output_type": "stream",
          "name": "stdout",
          "text": [
            "\n",
            "Test Epoch: 282\tAccuracy: 11/120 (9%)\n",
            "\n",
            "Train Epoch: 283 [0/1298 (0%)]\tLoss: 2.786010\n"
          ]
        },
        {
          "output_type": "stream",
          "name": "stderr",
          "text": [
            " 71%|███████   | 282.9999999999997/400 [04:48<01:54,  1.03it/s]"
          ]
        },
        {
          "output_type": "stream",
          "name": "stdout",
          "text": [
            "\n",
            "Test Epoch: 283\tAccuracy: 12/120 (10%)\n",
            "\n"
          ]
        },
        {
          "output_type": "stream",
          "name": "stderr",
          "text": [
            "\r 71%|███████   | 283.1428571428569/400 [04:49<02:15,  1.16s/it]"
          ]
        },
        {
          "output_type": "stream",
          "name": "stdout",
          "text": [
            "Train Epoch: 284 [0/1298 (0%)]\tLoss: 2.883799\n"
          ]
        },
        {
          "output_type": "stream",
          "name": "stderr",
          "text": [
            " 71%|███████   | 283.9999999999999/400 [04:50<01:55,  1.00it/s] "
          ]
        },
        {
          "output_type": "stream",
          "name": "stdout",
          "text": [
            "\n",
            "Test Epoch: 284\tAccuracy: 12/120 (10%)\n",
            "\n"
          ]
        },
        {
          "output_type": "stream",
          "name": "stderr",
          "text": [
            "\r 71%|███████   | 284.14285714285705/400 [04:50<02:18,  1.19s/it]"
          ]
        },
        {
          "output_type": "stream",
          "name": "stdout",
          "text": [
            "Train Epoch: 285 [0/1298 (0%)]\tLoss: 2.865108\n"
          ]
        },
        {
          "output_type": "stream",
          "name": "stderr",
          "text": [
            " 71%|███████▏  | 285.1428571428572/400 [04:51<01:42,  1.12it/s]"
          ]
        },
        {
          "output_type": "stream",
          "name": "stdout",
          "text": [
            "\n",
            "Test Epoch: 285\tAccuracy: 10/120 (8%)\n",
            "\n",
            "Train Epoch: 286 [0/1298 (0%)]\tLoss: 2.737639\n"
          ]
        },
        {
          "output_type": "stream",
          "name": "stderr",
          "text": [
            " 72%|███████▏  | 286.1428571428574/400 [04:52<01:37,  1.17it/s]"
          ]
        },
        {
          "output_type": "stream",
          "name": "stdout",
          "text": [
            "\n",
            "Test Epoch: 286\tAccuracy: 9/120 (8%)\n",
            "\n",
            "Train Epoch: 287 [0/1298 (0%)]\tLoss: 2.835979\n"
          ]
        },
        {
          "output_type": "stream",
          "name": "stderr",
          "text": [
            " 72%|███████▏  | 287.0000000000004/400 [04:53<01:27,  1.29it/s] "
          ]
        },
        {
          "output_type": "stream",
          "name": "stdout",
          "text": [
            "\n",
            "Test Epoch: 287\tAccuracy: 11/120 (9%)\n",
            "\n",
            "Train Epoch: 288 [0/1298 (0%)]\tLoss: 2.755097\n"
          ]
        },
        {
          "output_type": "stream",
          "name": "stderr",
          "text": [
            " 72%|███████▏  | 288.14285714285774/400 [04:54<01:36,  1.15it/s]"
          ]
        },
        {
          "output_type": "stream",
          "name": "stdout",
          "text": [
            "\n",
            "Test Epoch: 288\tAccuracy: 8/120 (7%)\n",
            "\n",
            "Train Epoch: 289 [0/1298 (0%)]\tLoss: 2.869570\n"
          ]
        },
        {
          "output_type": "stream",
          "name": "stderr",
          "text": [
            " 72%|███████▏  | 289.1428571428579/400 [04:55<01:30,  1.23it/s]"
          ]
        },
        {
          "output_type": "stream",
          "name": "stdout",
          "text": [
            "\n",
            "Test Epoch: 289\tAccuracy: 8/120 (7%)\n",
            "\n",
            "Train Epoch: 290 [0/1298 (0%)]\tLoss: 2.784354\n"
          ]
        },
        {
          "output_type": "stream",
          "name": "stderr",
          "text": [
            " 73%|███████▎  | 290.1428571428581/400 [04:56<01:37,  1.13it/s]"
          ]
        },
        {
          "output_type": "stream",
          "name": "stdout",
          "text": [
            "\n",
            "Test Epoch: 290\tAccuracy: 10/120 (8%)\n",
            "\n",
            "Train Epoch: 291 [0/1298 (0%)]\tLoss: 2.793375\n"
          ]
        },
        {
          "output_type": "stream",
          "name": "stderr",
          "text": [
            " 73%|███████▎  | 291.14285714285825/400 [04:57<01:27,  1.25it/s]"
          ]
        },
        {
          "output_type": "stream",
          "name": "stdout",
          "text": [
            "\n",
            "Test Epoch: 291\tAccuracy: 11/120 (9%)\n",
            "\n",
            "Train Epoch: 292 [0/1298 (0%)]\tLoss: 2.798450\n"
          ]
        },
        {
          "output_type": "stream",
          "name": "stderr",
          "text": [
            " 73%|███████▎  | 292.1428571428584/400 [04:58<01:28,  1.21it/s]"
          ]
        },
        {
          "output_type": "stream",
          "name": "stdout",
          "text": [
            "\n",
            "Test Epoch: 292\tAccuracy: 10/120 (8%)\n",
            "\n",
            "Train Epoch: 293 [0/1298 (0%)]\tLoss: 2.734323\n"
          ]
        },
        {
          "output_type": "stream",
          "name": "stderr",
          "text": [
            " 73%|███████▎  | 293.1428571428586/400 [04:59<01:29,  1.20it/s]"
          ]
        },
        {
          "output_type": "stream",
          "name": "stdout",
          "text": [
            "\n",
            "Test Epoch: 293\tAccuracy: 10/120 (8%)\n",
            "\n",
            "Train Epoch: 294 [0/1298 (0%)]\tLoss: 2.773610\n"
          ]
        },
        {
          "output_type": "stream",
          "name": "stderr",
          "text": [
            " 74%|███████▎  | 294.14285714285876/400 [04:59<01:25,  1.24it/s]"
          ]
        },
        {
          "output_type": "stream",
          "name": "stdout",
          "text": [
            "\n",
            "Test Epoch: 294\tAccuracy: 11/120 (9%)\n",
            "\n",
            "Train Epoch: 295 [0/1298 (0%)]\tLoss: 2.798503\n"
          ]
        },
        {
          "output_type": "stream",
          "name": "stderr",
          "text": [
            " 74%|███████▍  | 295.00000000000176/400 [05:00<01:24,  1.25it/s]"
          ]
        },
        {
          "output_type": "stream",
          "name": "stdout",
          "text": [
            "\n",
            "Test Epoch: 295\tAccuracy: 10/120 (8%)\n",
            "\n"
          ]
        },
        {
          "output_type": "stream",
          "name": "stderr",
          "text": [
            "\r 74%|███████▍  | 295.14285714285893/400 [05:00<01:40,  1.04it/s]"
          ]
        },
        {
          "output_type": "stream",
          "name": "stdout",
          "text": [
            "Train Epoch: 296 [0/1298 (0%)]\tLoss: 2.768348\n"
          ]
        },
        {
          "output_type": "stream",
          "name": "stderr",
          "text": [
            " 74%|███████▍  | 296.00000000000193/400 [05:01<01:40,  1.04it/s]"
          ]
        },
        {
          "output_type": "stream",
          "name": "stdout",
          "text": [
            "\n",
            "Test Epoch: 296\tAccuracy: 9/120 (8%)\n",
            "\n"
          ]
        },
        {
          "output_type": "stream",
          "name": "stderr",
          "text": [
            " 74%|███████▍  | 296.28571428571627/400 [05:02<02:00,  1.16s/it]"
          ]
        },
        {
          "output_type": "stream",
          "name": "stdout",
          "text": [
            "Train Epoch: 297 [0/1298 (0%)]\tLoss: 2.782933\n"
          ]
        },
        {
          "output_type": "stream",
          "name": "stderr",
          "text": [
            " 74%|███████▍  | 297.14285714285927/400 [05:03<01:52,  1.09s/it]"
          ]
        },
        {
          "output_type": "stream",
          "name": "stdout",
          "text": [
            "\n",
            "Test Epoch: 297\tAccuracy: 7/120 (6%)\n",
            "\n",
            "Train Epoch: 298 [0/1298 (0%)]\tLoss: 2.766947\n"
          ]
        },
        {
          "output_type": "stream",
          "name": "stderr",
          "text": [
            " 75%|███████▍  | 298.14285714285944/400 [05:04<01:49,  1.08s/it]"
          ]
        },
        {
          "output_type": "stream",
          "name": "stdout",
          "text": [
            "\n",
            "Test Epoch: 298\tAccuracy: 9/120 (8%)\n",
            "\n",
            "Train Epoch: 299 [0/1298 (0%)]\tLoss: 2.800839\n"
          ]
        },
        {
          "output_type": "stream",
          "name": "stderr",
          "text": [
            " 75%|███████▍  | 299.1428571428596/400 [05:05<01:39,  1.01it/s] "
          ]
        },
        {
          "output_type": "stream",
          "name": "stdout",
          "text": [
            "\n",
            "Test Epoch: 299\tAccuracy: 8/120 (7%)\n",
            "\n",
            "Train Epoch: 300 [0/1298 (0%)]\tLoss: 2.819086\n"
          ]
        },
        {
          "output_type": "stream",
          "name": "stderr",
          "text": [
            " 75%|███████▌  | 300.1428571428598/400 [05:06<01:20,  1.25it/s]"
          ]
        },
        {
          "output_type": "stream",
          "name": "stdout",
          "text": [
            "\n",
            "Test Epoch: 300\tAccuracy: 10/120 (8%)\n",
            "\n",
            "Train Epoch: 301 [0/1298 (0%)]\tLoss: 2.710649\n"
          ]
        },
        {
          "output_type": "stream",
          "name": "stderr",
          "text": [
            " 75%|███████▌  | 301.14285714285995/400 [05:07<01:24,  1.16it/s]"
          ]
        },
        {
          "output_type": "stream",
          "name": "stdout",
          "text": [
            "\n",
            "Test Epoch: 301\tAccuracy: 9/120 (8%)\n",
            "\n",
            "Train Epoch: 302 [0/1298 (0%)]\tLoss: 2.819759\n"
          ]
        },
        {
          "output_type": "stream",
          "name": "stderr",
          "text": [
            " 76%|███████▌  | 302.1428571428601/400 [05:08<01:25,  1.15it/s]"
          ]
        },
        {
          "output_type": "stream",
          "name": "stdout",
          "text": [
            "\n",
            "Test Epoch: 302\tAccuracy: 10/120 (8%)\n",
            "\n",
            "Train Epoch: 303 [0/1298 (0%)]\tLoss: 2.838996\n"
          ]
        },
        {
          "output_type": "stream",
          "name": "stderr",
          "text": [
            " 76%|███████▌  | 303.1428571428603/400 [05:09<01:16,  1.27it/s]"
          ]
        },
        {
          "output_type": "stream",
          "name": "stdout",
          "text": [
            "\n",
            "Test Epoch: 303\tAccuracy: 10/120 (8%)\n",
            "\n",
            "Train Epoch: 304 [0/1298 (0%)]\tLoss: 2.745384\n"
          ]
        },
        {
          "output_type": "stream",
          "name": "stderr",
          "text": [
            " 76%|███████▌  | 304.14285714286046/400 [05:10<01:14,  1.28it/s]"
          ]
        },
        {
          "output_type": "stream",
          "name": "stdout",
          "text": [
            "\n",
            "Test Epoch: 304\tAccuracy: 10/120 (8%)\n",
            "\n",
            "Train Epoch: 305 [0/1298 (0%)]\tLoss: 2.753803\n"
          ]
        },
        {
          "output_type": "stream",
          "name": "stderr",
          "text": [
            " 76%|███████▋  | 305.14285714286063/400 [05:11<01:14,  1.27it/s]"
          ]
        },
        {
          "output_type": "stream",
          "name": "stdout",
          "text": [
            "\n",
            "Test Epoch: 305\tAccuracy: 8/120 (7%)\n",
            "\n",
            "Train Epoch: 306 [0/1298 (0%)]\tLoss: 2.828516\n"
          ]
        },
        {
          "output_type": "stream",
          "name": "stderr",
          "text": [
            " 77%|███████▋  | 306.1428571428608/400 [05:12<01:19,  1.19it/s]"
          ]
        },
        {
          "output_type": "stream",
          "name": "stdout",
          "text": [
            "\n",
            "Test Epoch: 306\tAccuracy: 8/120 (7%)\n",
            "\n",
            "Train Epoch: 307 [0/1298 (0%)]\tLoss: 2.701952\n"
          ]
        },
        {
          "output_type": "stream",
          "name": "stderr",
          "text": [
            " 77%|███████▋  | 307.142857142861/400 [05:13<01:14,  1.24it/s] "
          ]
        },
        {
          "output_type": "stream",
          "name": "stdout",
          "text": [
            "\n",
            "Test Epoch: 307\tAccuracy: 9/120 (8%)\n",
            "\n",
            "Train Epoch: 308 [0/1298 (0%)]\tLoss: 2.691819\n"
          ]
        },
        {
          "output_type": "stream",
          "name": "stderr",
          "text": [
            " 77%|███████▋  | 308.14285714286115/400 [05:14<01:14,  1.23it/s]"
          ]
        },
        {
          "output_type": "stream",
          "name": "stdout",
          "text": [
            "\n",
            "Test Epoch: 308\tAccuracy: 9/120 (8%)\n",
            "\n",
            "Train Epoch: 309 [0/1298 (0%)]\tLoss: 2.743811\n"
          ]
        },
        {
          "output_type": "stream",
          "name": "stderr",
          "text": [
            " 77%|███████▋  | 309.1428571428613/400 [05:15<01:13,  1.23it/s]"
          ]
        },
        {
          "output_type": "stream",
          "name": "stdout",
          "text": [
            "\n",
            "Test Epoch: 309\tAccuracy: 9/120 (8%)\n",
            "\n",
            "Train Epoch: 310 [0/1298 (0%)]\tLoss: 2.779570\n"
          ]
        },
        {
          "output_type": "stream",
          "name": "stderr",
          "text": [
            " 78%|███████▊  | 310.1428571428615/400 [05:16<01:34,  1.05s/it]"
          ]
        },
        {
          "output_type": "stream",
          "name": "stdout",
          "text": [
            "\n",
            "Test Epoch: 310\tAccuracy: 9/120 (8%)\n",
            "\n",
            "Train Epoch: 311 [0/1298 (0%)]\tLoss: 2.767415\n"
          ]
        },
        {
          "output_type": "stream",
          "name": "stderr",
          "text": [
            " 78%|███████▊  | 311.0000000000045/400 [05:17<01:28,  1.01it/s] "
          ]
        },
        {
          "output_type": "stream",
          "name": "stdout",
          "text": [
            "\n",
            "Test Epoch: 311\tAccuracy: 9/120 (8%)\n",
            "\n"
          ]
        },
        {
          "output_type": "stream",
          "name": "stderr",
          "text": [
            " 78%|███████▊  | 311.2857142857188/400 [05:17<01:46,  1.20s/it] "
          ]
        },
        {
          "output_type": "stream",
          "name": "stdout",
          "text": [
            "Train Epoch: 312 [0/1298 (0%)]\tLoss: 2.811985\n"
          ]
        },
        {
          "output_type": "stream",
          "name": "stderr",
          "text": [
            " 78%|███████▊  | 312.00000000000466/400 [05:18<01:28,  1.00s/it]"
          ]
        },
        {
          "output_type": "stream",
          "name": "stdout",
          "text": [
            "\n",
            "Test Epoch: 312\tAccuracy: 7/120 (6%)\n",
            "\n"
          ]
        },
        {
          "output_type": "stream",
          "name": "stderr",
          "text": [
            "\r 78%|███████▊  | 312.1428571428618/400 [05:18<01:40,  1.14s/it] "
          ]
        },
        {
          "output_type": "stream",
          "name": "stdout",
          "text": [
            "Train Epoch: 313 [0/1298 (0%)]\tLoss: 2.783766\n"
          ]
        },
        {
          "output_type": "stream",
          "name": "stderr",
          "text": [
            " 78%|███████▊  | 313.142857142862/400 [05:19<01:21,  1.06it/s] "
          ]
        },
        {
          "output_type": "stream",
          "name": "stdout",
          "text": [
            "\n",
            "Test Epoch: 313\tAccuracy: 7/120 (6%)\n",
            "\n",
            "Train Epoch: 314 [0/1298 (0%)]\tLoss: 2.786858\n"
          ]
        },
        {
          "output_type": "stream",
          "name": "stderr",
          "text": [
            " 79%|███████▊  | 314.000000000005/400 [05:20<01:10,  1.22it/s]  "
          ]
        },
        {
          "output_type": "stream",
          "name": "stdout",
          "text": [
            "\n",
            "Test Epoch: 314\tAccuracy: 9/120 (8%)\n",
            "\n",
            "Train Epoch: 315 [0/1298 (0%)]\tLoss: 2.801606\n"
          ]
        },
        {
          "output_type": "stream",
          "name": "stderr",
          "text": [
            " 79%|███████▉  | 315.14285714286234/400 [05:21<01:10,  1.20it/s]"
          ]
        },
        {
          "output_type": "stream",
          "name": "stdout",
          "text": [
            "\n",
            "Test Epoch: 315\tAccuracy: 10/120 (8%)\n",
            "\n",
            "Train Epoch: 316 [0/1298 (0%)]\tLoss: 2.792723\n"
          ]
        },
        {
          "output_type": "stream",
          "name": "stderr",
          "text": [
            " 79%|███████▉  | 316.1428571428625/400 [05:22<01:08,  1.22it/s]"
          ]
        },
        {
          "output_type": "stream",
          "name": "stdout",
          "text": [
            "\n",
            "Test Epoch: 316\tAccuracy: 9/120 (8%)\n",
            "\n",
            "Train Epoch: 317 [0/1298 (0%)]\tLoss: 2.776038\n"
          ]
        },
        {
          "output_type": "stream",
          "name": "stderr",
          "text": [
            " 79%|███████▉  | 317.1428571428627/400 [05:23<01:08,  1.21it/s]"
          ]
        },
        {
          "output_type": "stream",
          "name": "stdout",
          "text": [
            "\n",
            "Test Epoch: 317\tAccuracy: 9/120 (8%)\n",
            "\n",
            "Train Epoch: 318 [0/1298 (0%)]\tLoss: 2.832155\n"
          ]
        },
        {
          "output_type": "stream",
          "name": "stderr",
          "text": [
            " 80%|███████▉  | 318.14285714286285/400 [05:24<01:04,  1.27it/s]"
          ]
        },
        {
          "output_type": "stream",
          "name": "stdout",
          "text": [
            "\n",
            "Test Epoch: 318\tAccuracy: 9/120 (8%)\n",
            "\n",
            "Train Epoch: 319 [0/1298 (0%)]\tLoss: 2.770024\n"
          ]
        },
        {
          "output_type": "stream",
          "name": "stderr",
          "text": [
            " 80%|███████▉  | 319.142857142863/400 [05:25<01:06,  1.22it/s] "
          ]
        },
        {
          "output_type": "stream",
          "name": "stdout",
          "text": [
            "\n",
            "Test Epoch: 319\tAccuracy: 12/120 (10%)\n",
            "\n",
            "Train Epoch: 320 [0/1298 (0%)]\tLoss: 2.795893\n"
          ]
        },
        {
          "output_type": "stream",
          "name": "stderr",
          "text": [
            " 80%|████████  | 320.1428571428632/400 [05:26<01:04,  1.23it/s]"
          ]
        },
        {
          "output_type": "stream",
          "name": "stdout",
          "text": [
            "\n",
            "Test Epoch: 320\tAccuracy: 12/120 (10%)\n",
            "\n",
            "Train Epoch: 321 [0/1298 (0%)]\tLoss: 2.798452\n"
          ]
        },
        {
          "output_type": "stream",
          "name": "stderr",
          "text": [
            " 80%|████████  | 321.14285714286336/400 [05:27<01:09,  1.14it/s]"
          ]
        },
        {
          "output_type": "stream",
          "name": "stdout",
          "text": [
            "\n",
            "Test Epoch: 321\tAccuracy: 11/120 (9%)\n",
            "\n",
            "Train Epoch: 322 [0/1298 (0%)]\tLoss: 2.845351\n"
          ]
        },
        {
          "output_type": "stream",
          "name": "stderr",
          "text": [
            " 81%|████████  | 322.14285714286353/400 [05:28<01:05,  1.18it/s]"
          ]
        },
        {
          "output_type": "stream",
          "name": "stdout",
          "text": [
            "\n",
            "Test Epoch: 322\tAccuracy: 10/120 (8%)\n",
            "\n",
            "Train Epoch: 323 [0/1298 (0%)]\tLoss: 2.789550\n"
          ]
        },
        {
          "output_type": "stream",
          "name": "stderr",
          "text": [
            " 81%|████████  | 323.1428571428637/400 [05:29<01:03,  1.20it/s]"
          ]
        },
        {
          "output_type": "stream",
          "name": "stdout",
          "text": [
            "\n",
            "Test Epoch: 323\tAccuracy: 10/120 (8%)\n",
            "\n",
            "Train Epoch: 324 [0/1298 (0%)]\tLoss: 2.818044\n"
          ]
        },
        {
          "output_type": "stream",
          "name": "stderr",
          "text": [
            " 81%|████████  | 324.1428571428639/400 [05:30<01:19,  1.05s/it]"
          ]
        },
        {
          "output_type": "stream",
          "name": "stdout",
          "text": [
            "\n",
            "Test Epoch: 324\tAccuracy: 9/120 (8%)\n",
            "\n",
            "Train Epoch: 325 [0/1298 (0%)]\tLoss: 2.749459\n"
          ]
        },
        {
          "output_type": "stream",
          "name": "stderr",
          "text": [
            " 81%|████████▏ | 325.14285714286405/400 [05:31<01:22,  1.10s/it]"
          ]
        },
        {
          "output_type": "stream",
          "name": "stdout",
          "text": [
            "\n",
            "Test Epoch: 325\tAccuracy: 11/120 (9%)\n",
            "\n",
            "Train Epoch: 326 [0/1298 (0%)]\tLoss: 2.771423\n"
          ]
        },
        {
          "output_type": "stream",
          "name": "stderr",
          "text": [
            " 82%|████████▏ | 326.00000000000705/400 [05:32<01:13,  1.01it/s]"
          ]
        },
        {
          "output_type": "stream",
          "name": "stdout",
          "text": [
            "\n",
            "Test Epoch: 326\tAccuracy: 10/120 (8%)\n",
            "\n"
          ]
        },
        {
          "output_type": "stream",
          "name": "stderr",
          "text": [
            "\r 82%|████████▏ | 326.1428571428642/400 [05:33<01:27,  1.19s/it] "
          ]
        },
        {
          "output_type": "stream",
          "name": "stdout",
          "text": [
            "Train Epoch: 327 [0/1298 (0%)]\tLoss: 2.863027\n"
          ]
        },
        {
          "output_type": "stream",
          "name": "stderr",
          "text": [
            " 82%|████████▏ | 327.1428571428644/400 [05:34<01:09,  1.05it/s]"
          ]
        },
        {
          "output_type": "stream",
          "name": "stdout",
          "text": [
            "\n",
            "Test Epoch: 327\tAccuracy: 8/120 (7%)\n",
            "\n",
            "Train Epoch: 328 [0/1298 (0%)]\tLoss: 2.722601\n"
          ]
        },
        {
          "output_type": "stream",
          "name": "stderr",
          "text": [
            " 82%|████████▏ | 328.14285714286456/400 [05:35<00:59,  1.21it/s]"
          ]
        },
        {
          "output_type": "stream",
          "name": "stdout",
          "text": [
            "\n",
            "Test Epoch: 328\tAccuracy: 9/120 (8%)\n",
            "\n",
            "Train Epoch: 329 [0/1298 (0%)]\tLoss: 2.744835\n"
          ]
        },
        {
          "output_type": "stream",
          "name": "stderr",
          "text": [
            " 82%|████████▏ | 329.1428571428647/400 [05:36<00:58,  1.22it/s]"
          ]
        },
        {
          "output_type": "stream",
          "name": "stdout",
          "text": [
            "\n",
            "Test Epoch: 329\tAccuracy: 9/120 (8%)\n",
            "\n",
            "Train Epoch: 330 [0/1298 (0%)]\tLoss: 2.750651\n"
          ]
        },
        {
          "output_type": "stream",
          "name": "stderr",
          "text": [
            " 83%|████████▎ | 330.1428571428649/400 [05:37<00:54,  1.28it/s]"
          ]
        },
        {
          "output_type": "stream",
          "name": "stdout",
          "text": [
            "\n",
            "Test Epoch: 330\tAccuracy: 9/120 (8%)\n",
            "\n",
            "Train Epoch: 331 [0/1298 (0%)]\tLoss: 2.718865\n"
          ]
        },
        {
          "output_type": "stream",
          "name": "stderr",
          "text": [
            " 83%|████████▎ | 331.14285714286507/400 [05:38<00:57,  1.19it/s]"
          ]
        },
        {
          "output_type": "stream",
          "name": "stdout",
          "text": [
            "\n",
            "Test Epoch: 331\tAccuracy: 9/120 (8%)\n",
            "\n",
            "Train Epoch: 332 [0/1298 (0%)]\tLoss: 2.801081\n"
          ]
        },
        {
          "output_type": "stream",
          "name": "stderr",
          "text": [
            " 83%|████████▎ | 332.14285714286524/400 [05:39<00:55,  1.22it/s]"
          ]
        },
        {
          "output_type": "stream",
          "name": "stdout",
          "text": [
            "\n",
            "Test Epoch: 332\tAccuracy: 9/120 (8%)\n",
            "\n",
            "Train Epoch: 333 [0/1298 (0%)]\tLoss: 2.832261\n"
          ]
        },
        {
          "output_type": "stream",
          "name": "stderr",
          "text": [
            " 83%|████████▎ | 333.1428571428654/400 [05:39<00:55,  1.20it/s]"
          ]
        },
        {
          "output_type": "stream",
          "name": "stdout",
          "text": [
            "\n",
            "Test Epoch: 333\tAccuracy: 11/120 (9%)\n",
            "\n",
            "Train Epoch: 334 [0/1298 (0%)]\tLoss: 2.768867\n"
          ]
        },
        {
          "output_type": "stream",
          "name": "stderr",
          "text": [
            " 84%|████████▎ | 334.1428571428656/400 [05:40<00:55,  1.18it/s]"
          ]
        },
        {
          "output_type": "stream",
          "name": "stdout",
          "text": [
            "\n",
            "Test Epoch: 334\tAccuracy: 10/120 (8%)\n",
            "\n",
            "Train Epoch: 335 [0/1298 (0%)]\tLoss: 2.787970\n"
          ]
        },
        {
          "output_type": "stream",
          "name": "stderr",
          "text": [
            " 84%|████████▍ | 335.14285714286575/400 [05:41<00:52,  1.23it/s]"
          ]
        },
        {
          "output_type": "stream",
          "name": "stdout",
          "text": [
            "\n",
            "Test Epoch: 335\tAccuracy: 11/120 (9%)\n",
            "\n",
            "Train Epoch: 336 [0/1298 (0%)]\tLoss: 2.739209\n"
          ]
        },
        {
          "output_type": "stream",
          "name": "stderr",
          "text": [
            " 84%|████████▍ | 336.1428571428659/400 [05:42<00:51,  1.25it/s]"
          ]
        },
        {
          "output_type": "stream",
          "name": "stdout",
          "text": [
            "\n",
            "Test Epoch: 336\tAccuracy: 11/120 (9%)\n",
            "\n",
            "Train Epoch: 337 [0/1298 (0%)]\tLoss: 2.688838\n"
          ]
        },
        {
          "output_type": "stream",
          "name": "stderr",
          "text": [
            " 84%|████████▍ | 337.1428571428661/400 [05:43<00:51,  1.22it/s]"
          ]
        },
        {
          "output_type": "stream",
          "name": "stdout",
          "text": [
            "\n",
            "Test Epoch: 337\tAccuracy: 8/120 (7%)\n",
            "\n",
            "Train Epoch: 338 [0/1298 (0%)]\tLoss: 2.801831\n"
          ]
        },
        {
          "output_type": "stream",
          "name": "stderr",
          "text": [
            " 85%|████████▍ | 338.0000000000091/400 [05:44<00:55,  1.11it/s] "
          ]
        },
        {
          "output_type": "stream",
          "name": "stdout",
          "text": [
            "\n",
            "Test Epoch: 338\tAccuracy: 10/120 (8%)\n",
            "\n"
          ]
        },
        {
          "output_type": "stream",
          "name": "stderr",
          "text": [
            " 85%|████████▍ | 338.28571428572343/400 [05:45<01:08,  1.11s/it]"
          ]
        },
        {
          "output_type": "stream",
          "name": "stdout",
          "text": [
            "Train Epoch: 339 [0/1298 (0%)]\tLoss: 2.782459\n"
          ]
        },
        {
          "output_type": "stream",
          "name": "stderr",
          "text": [
            " 85%|████████▍ | 339.00000000000927/400 [05:45<00:59,  1.03it/s]"
          ]
        },
        {
          "output_type": "stream",
          "name": "stdout",
          "text": [
            "\n",
            "Test Epoch: 339\tAccuracy: 10/120 (8%)\n",
            "\n",
            "Train Epoch: 340 [0/1298 (0%)]\tLoss: 2.760912\n"
          ]
        },
        {
          "output_type": "stream",
          "name": "stderr",
          "text": [
            " 85%|████████▌ | 340.00000000000944/400 [05:47<01:00,  1.00s/it]"
          ]
        },
        {
          "output_type": "stream",
          "name": "stdout",
          "text": [
            "\n",
            "Test Epoch: 340\tAccuracy: 9/120 (8%)\n",
            "\n"
          ]
        },
        {
          "output_type": "stream",
          "name": "stderr",
          "text": [
            "\r 85%|████████▌ | 340.1428571428666/400 [05:47<01:07,  1.13s/it] "
          ]
        },
        {
          "output_type": "stream",
          "name": "stdout",
          "text": [
            "Train Epoch: 341 [0/1298 (0%)]\tLoss: 2.834423\n"
          ]
        },
        {
          "output_type": "stream",
          "name": "stderr",
          "text": [
            " 85%|████████▌ | 341.1428571428668/400 [05:48<01:03,  1.08s/it]"
          ]
        },
        {
          "output_type": "stream",
          "name": "stdout",
          "text": [
            "\n",
            "Test Epoch: 341\tAccuracy: 9/120 (8%)\n",
            "\n",
            "Train Epoch: 342 [0/1298 (0%)]\tLoss: 2.804856\n"
          ]
        },
        {
          "output_type": "stream",
          "name": "stderr",
          "text": [
            " 86%|████████▌ | 342.0000000000098/400 [05:49<00:47,  1.21it/s] "
          ]
        },
        {
          "output_type": "stream",
          "name": "stdout",
          "text": [
            "\n",
            "Test Epoch: 342\tAccuracy: 8/120 (7%)\n",
            "\n",
            "Train Epoch: 343 [0/1298 (0%)]\tLoss: 2.833343\n"
          ]
        },
        {
          "output_type": "stream",
          "name": "stderr",
          "text": [
            " 86%|████████▌ | 343.1428571428671/400 [05:50<00:49,  1.16it/s]"
          ]
        },
        {
          "output_type": "stream",
          "name": "stdout",
          "text": [
            "\n",
            "Test Epoch: 343\tAccuracy: 10/120 (8%)\n",
            "\n",
            "Train Epoch: 344 [0/1298 (0%)]\tLoss: 2.834162\n"
          ]
        },
        {
          "output_type": "stream",
          "name": "stderr",
          "text": [
            " 86%|████████▌ | 344.1428571428673/400 [05:51<00:47,  1.17it/s]"
          ]
        },
        {
          "output_type": "stream",
          "name": "stdout",
          "text": [
            "\n",
            "Test Epoch: 344\tAccuracy: 9/120 (8%)\n",
            "\n",
            "Train Epoch: 345 [0/1298 (0%)]\tLoss: 2.812551\n"
          ]
        },
        {
          "output_type": "stream",
          "name": "stderr",
          "text": [
            " 86%|████████▋ | 345.14285714286746/400 [05:52<00:46,  1.18it/s]"
          ]
        },
        {
          "output_type": "stream",
          "name": "stdout",
          "text": [
            "\n",
            "Test Epoch: 345\tAccuracy: 8/120 (7%)\n",
            "\n",
            "Train Epoch: 346 [0/1298 (0%)]\tLoss: 2.801038\n"
          ]
        },
        {
          "output_type": "stream",
          "name": "stderr",
          "text": [
            " 87%|████████▋ | 346.1428571428676/400 [05:53<00:41,  1.30it/s]"
          ]
        },
        {
          "output_type": "stream",
          "name": "stdout",
          "text": [
            "\n",
            "Test Epoch: 346\tAccuracy: 9/120 (8%)\n",
            "\n",
            "Train Epoch: 347 [0/1298 (0%)]\tLoss: 2.746746\n"
          ]
        },
        {
          "output_type": "stream",
          "name": "stderr",
          "text": [
            " 87%|████████▋ | 347.1428571428678/400 [05:54<00:42,  1.25it/s]"
          ]
        },
        {
          "output_type": "stream",
          "name": "stdout",
          "text": [
            "\n",
            "Test Epoch: 347\tAccuracy: 10/120 (8%)\n",
            "\n",
            "Train Epoch: 348 [0/1298 (0%)]\tLoss: 2.830501\n"
          ]
        },
        {
          "output_type": "stream",
          "name": "stderr",
          "text": [
            " 87%|████████▋ | 348.14285714286797/400 [05:55<00:43,  1.18it/s]"
          ]
        },
        {
          "output_type": "stream",
          "name": "stdout",
          "text": [
            "\n",
            "Test Epoch: 348\tAccuracy: 11/120 (9%)\n",
            "\n",
            "Train Epoch: 349 [0/1298 (0%)]\tLoss: 2.718600\n"
          ]
        },
        {
          "output_type": "stream",
          "name": "stderr",
          "text": [
            " 87%|████████▋ | 349.14285714286814/400 [05:56<00:43,  1.16it/s]"
          ]
        },
        {
          "output_type": "stream",
          "name": "stdout",
          "text": [
            "\n",
            "Test Epoch: 349\tAccuracy: 11/120 (9%)\n",
            "\n",
            "Train Epoch: 350 [0/1298 (0%)]\tLoss: 2.840938\n"
          ]
        },
        {
          "output_type": "stream",
          "name": "stderr",
          "text": [
            " 88%|████████▊ | 350.1428571428683/400 [05:57<00:41,  1.20it/s]"
          ]
        },
        {
          "output_type": "stream",
          "name": "stdout",
          "text": [
            "\n",
            "Test Epoch: 350\tAccuracy: 11/120 (9%)\n",
            "\n",
            "Train Epoch: 351 [0/1298 (0%)]\tLoss: 2.775216\n"
          ]
        },
        {
          "output_type": "stream",
          "name": "stderr",
          "text": [
            " 88%|████████▊ | 351.1428571428685/400 [05:58<00:40,  1.21it/s]"
          ]
        },
        {
          "output_type": "stream",
          "name": "stdout",
          "text": [
            "\n",
            "Test Epoch: 351\tAccuracy: 11/120 (9%)\n",
            "\n",
            "Train Epoch: 352 [0/1298 (0%)]\tLoss: 2.799401\n"
          ]
        },
        {
          "output_type": "stream",
          "name": "stderr",
          "text": [
            " 88%|████████▊ | 352.0000000000115/400 [05:59<00:43,  1.10it/s] "
          ]
        },
        {
          "output_type": "stream",
          "name": "stdout",
          "text": [
            "\n",
            "Test Epoch: 352\tAccuracy: 10/120 (8%)\n",
            "\n"
          ]
        },
        {
          "output_type": "stream",
          "name": "stderr",
          "text": [
            "\r 88%|████████▊ | 352.14285714286865/400 [05:59<00:49,  1.04s/it]"
          ]
        },
        {
          "output_type": "stream",
          "name": "stdout",
          "text": [
            "Train Epoch: 353 [0/1298 (0%)]\tLoss: 2.671658\n"
          ]
        },
        {
          "output_type": "stream",
          "name": "stderr",
          "text": [
            " 88%|████████▊ | 353.00000000001165/400 [06:00<00:47,  1.00s/it]"
          ]
        },
        {
          "output_type": "stream",
          "name": "stdout",
          "text": [
            "\n",
            "Test Epoch: 353\tAccuracy: 9/120 (8%)\n",
            "\n"
          ]
        },
        {
          "output_type": "stream",
          "name": "stderr",
          "text": [
            "\r 88%|████████▊ | 353.1428571428688/400 [06:00<00:52,  1.11s/it] "
          ]
        },
        {
          "output_type": "stream",
          "name": "stdout",
          "text": [
            "Train Epoch: 354 [0/1298 (0%)]\tLoss: 2.764770\n"
          ]
        },
        {
          "output_type": "stream",
          "name": "stderr",
          "text": [
            " 89%|████████▊ | 354.0000000000118/400 [06:01<00:46,  1.01s/it]"
          ]
        },
        {
          "output_type": "stream",
          "name": "stdout",
          "text": [
            "\n",
            "Test Epoch: 354\tAccuracy: 11/120 (9%)\n",
            "\n"
          ]
        },
        {
          "output_type": "stream",
          "name": "stderr",
          "text": [
            "\r 89%|████████▊ | 354.142857142869/400 [06:01<00:54,  1.18s/it] "
          ]
        },
        {
          "output_type": "stream",
          "name": "stdout",
          "text": [
            "Train Epoch: 355 [0/1298 (0%)]\tLoss: 2.831470\n"
          ]
        },
        {
          "output_type": "stream",
          "name": "stderr",
          "text": [
            " 89%|████████▉ | 355.14285714286916/400 [06:03<00:47,  1.05s/it]"
          ]
        },
        {
          "output_type": "stream",
          "name": "stdout",
          "text": [
            "\n",
            "Test Epoch: 355\tAccuracy: 10/120 (8%)\n",
            "\n",
            "Train Epoch: 356 [0/1298 (0%)]\tLoss: 2.813506\n"
          ]
        },
        {
          "output_type": "stream",
          "name": "stderr",
          "text": [
            " 89%|████████▉ | 356.14285714286933/400 [06:03<00:37,  1.16it/s]"
          ]
        },
        {
          "output_type": "stream",
          "name": "stdout",
          "text": [
            "\n",
            "Test Epoch: 356\tAccuracy: 9/120 (8%)\n",
            "\n",
            "Train Epoch: 357 [0/1298 (0%)]\tLoss: 2.838956\n"
          ]
        },
        {
          "output_type": "stream",
          "name": "stderr",
          "text": [
            " 89%|████████▉ | 357.1428571428695/400 [06:04<00:35,  1.21it/s]"
          ]
        },
        {
          "output_type": "stream",
          "name": "stdout",
          "text": [
            "\n",
            "Test Epoch: 357\tAccuracy: 11/120 (9%)\n",
            "\n",
            "Train Epoch: 358 [0/1298 (0%)]\tLoss: 2.835567\n"
          ]
        },
        {
          "output_type": "stream",
          "name": "stderr",
          "text": [
            " 90%|████████▉ | 358.1428571428697/400 [06:05<00:36,  1.16it/s] "
          ]
        },
        {
          "output_type": "stream",
          "name": "stdout",
          "text": [
            "\n",
            "Test Epoch: 358\tAccuracy: 9/120 (8%)\n",
            "\n",
            "Train Epoch: 359 [0/1298 (0%)]\tLoss: 2.810668\n"
          ]
        },
        {
          "output_type": "stream",
          "name": "stderr",
          "text": [
            " 90%|████████▉ | 359.14285714286984/400 [06:06<00:32,  1.26it/s]"
          ]
        },
        {
          "output_type": "stream",
          "name": "stdout",
          "text": [
            "\n",
            "Test Epoch: 359\tAccuracy: 9/120 (8%)\n",
            "\n",
            "Train Epoch: 360 [0/1298 (0%)]\tLoss: 2.709794\n"
          ]
        },
        {
          "output_type": "stream",
          "name": "stderr",
          "text": [
            " 90%|█████████ | 360.14285714287/400 [06:07<00:31,  1.25it/s]  "
          ]
        },
        {
          "output_type": "stream",
          "name": "stdout",
          "text": [
            "\n",
            "Test Epoch: 360\tAccuracy: 9/120 (8%)\n",
            "\n",
            "Train Epoch: 361 [0/1298 (0%)]\tLoss: 2.727399\n"
          ]
        },
        {
          "output_type": "stream",
          "name": "stderr",
          "text": [
            " 90%|█████████ | 361.1428571428702/400 [06:08<00:32,  1.19it/s]"
          ]
        },
        {
          "output_type": "stream",
          "name": "stdout",
          "text": [
            "\n",
            "Test Epoch: 361\tAccuracy: 10/120 (8%)\n",
            "\n",
            "Train Epoch: 362 [0/1298 (0%)]\tLoss: 2.727047\n"
          ]
        },
        {
          "output_type": "stream",
          "name": "stderr",
          "text": [
            " 91%|█████████ | 362.14285714287035/400 [06:09<00:31,  1.22it/s]"
          ]
        },
        {
          "output_type": "stream",
          "name": "stdout",
          "text": [
            "\n",
            "Test Epoch: 362\tAccuracy: 10/120 (8%)\n",
            "\n",
            "Train Epoch: 363 [0/1298 (0%)]\tLoss: 2.800942\n"
          ]
        },
        {
          "output_type": "stream",
          "name": "stderr",
          "text": [
            " 91%|█████████ | 363.1428571428705/400 [06:10<00:30,  1.21it/s]"
          ]
        },
        {
          "output_type": "stream",
          "name": "stdout",
          "text": [
            "\n",
            "Test Epoch: 363\tAccuracy: 11/120 (9%)\n",
            "\n",
            "Train Epoch: 364 [0/1298 (0%)]\tLoss: 2.737826\n"
          ]
        },
        {
          "output_type": "stream",
          "name": "stderr",
          "text": [
            " 91%|█████████ | 364.1428571428707/400 [06:11<00:30,  1.18it/s]"
          ]
        },
        {
          "output_type": "stream",
          "name": "stdout",
          "text": [
            "\n",
            "Test Epoch: 364\tAccuracy: 12/120 (10%)\n",
            "\n",
            "Train Epoch: 365 [0/1298 (0%)]\tLoss: 2.776477\n"
          ]
        },
        {
          "output_type": "stream",
          "name": "stderr",
          "text": [
            " 91%|█████████▏| 365.0000000000137/400 [06:12<00:26,  1.30it/s] "
          ]
        },
        {
          "output_type": "stream",
          "name": "stdout",
          "text": [
            "\n",
            "Test Epoch: 365\tAccuracy: 10/120 (8%)\n",
            "\n",
            "Train Epoch: 366 [0/1298 (0%)]\tLoss: 2.813006\n"
          ]
        },
        {
          "output_type": "stream",
          "name": "stderr",
          "text": [
            " 92%|█████████▏| 366.00000000001387/400 [06:13<00:29,  1.14it/s]"
          ]
        },
        {
          "output_type": "stream",
          "name": "stdout",
          "text": [
            "\n",
            "Test Epoch: 366\tAccuracy: 10/120 (8%)\n",
            "\n"
          ]
        },
        {
          "output_type": "stream",
          "name": "stderr",
          "text": [
            "\r 92%|█████████▏| 366.14285714287104/400 [06:13<00:34,  1.02s/it]"
          ]
        },
        {
          "output_type": "stream",
          "name": "stdout",
          "text": [
            "Train Epoch: 367 [0/1298 (0%)]\tLoss: 2.715629\n"
          ]
        },
        {
          "output_type": "stream",
          "name": "stderr",
          "text": [
            " 92%|█████████▏| 367.00000000001404/400 [06:14<00:32,  1.03it/s]"
          ]
        },
        {
          "output_type": "stream",
          "name": "stdout",
          "text": [
            "\n",
            "Test Epoch: 367\tAccuracy: 9/120 (8%)\n",
            "\n"
          ]
        },
        {
          "output_type": "stream",
          "name": "stderr",
          "text": [
            "\r 92%|█████████▏| 367.1428571428712/400 [06:14<00:36,  1.11s/it] "
          ]
        },
        {
          "output_type": "stream",
          "name": "stdout",
          "text": [
            "Train Epoch: 368 [0/1298 (0%)]\tLoss: 2.809606\n"
          ]
        },
        {
          "output_type": "stream",
          "name": "stderr",
          "text": [
            " 92%|█████████▏| 368.0000000000142/400 [06:15<00:32,  1.03s/it]"
          ]
        },
        {
          "output_type": "stream",
          "name": "stdout",
          "text": [
            "\n",
            "Test Epoch: 368\tAccuracy: 10/120 (8%)\n",
            "\n"
          ]
        },
        {
          "output_type": "stream",
          "name": "stderr",
          "text": [
            "\r 92%|█████████▏| 368.1428571428714/400 [06:16<00:38,  1.20s/it]"
          ]
        },
        {
          "output_type": "stream",
          "name": "stdout",
          "text": [
            "Train Epoch: 369 [0/1298 (0%)]\tLoss: 2.808874\n"
          ]
        },
        {
          "output_type": "stream",
          "name": "stderr",
          "text": [
            " 92%|█████████▏| 369.0000000000144/400 [06:17<00:29,  1.05it/s] "
          ]
        },
        {
          "output_type": "stream",
          "name": "stdout",
          "text": [
            "\n",
            "Test Epoch: 369\tAccuracy: 9/120 (8%)\n",
            "\n"
          ]
        },
        {
          "output_type": "stream",
          "name": "stderr",
          "text": [
            " 92%|█████████▏| 369.2857142857287/400 [06:17<00:34,  1.11s/it] "
          ]
        },
        {
          "output_type": "stream",
          "name": "stdout",
          "text": [
            "Train Epoch: 370 [0/1298 (0%)]\tLoss: 2.821331\n"
          ]
        },
        {
          "output_type": "stream",
          "name": "stderr",
          "text": [
            " 93%|█████████▎| 370.1428571428717/400 [06:18<00:24,  1.21it/s]"
          ]
        },
        {
          "output_type": "stream",
          "name": "stdout",
          "text": [
            "\n",
            "Test Epoch: 370\tAccuracy: 8/120 (7%)\n",
            "\n",
            "Train Epoch: 371 [0/1298 (0%)]\tLoss: 2.737877\n"
          ]
        },
        {
          "output_type": "stream",
          "name": "stderr",
          "text": [
            " 93%|█████████▎| 371.1428571428719/400 [06:19<00:24,  1.19it/s]"
          ]
        },
        {
          "output_type": "stream",
          "name": "stdout",
          "text": [
            "\n",
            "Test Epoch: 371\tAccuracy: 10/120 (8%)\n",
            "\n",
            "Train Epoch: 372 [0/1298 (0%)]\tLoss: 2.821232\n"
          ]
        },
        {
          "output_type": "stream",
          "name": "stderr",
          "text": [
            " 93%|█████████▎| 372.14285714287206/400 [06:20<00:22,  1.23it/s]"
          ]
        },
        {
          "output_type": "stream",
          "name": "stdout",
          "text": [
            "\n",
            "Test Epoch: 372\tAccuracy: 10/120 (8%)\n",
            "\n",
            "Train Epoch: 373 [0/1298 (0%)]\tLoss: 2.744300\n"
          ]
        },
        {
          "output_type": "stream",
          "name": "stderr",
          "text": [
            " 93%|█████████▎| 373.14285714287223/400 [06:21<00:23,  1.16it/s]"
          ]
        },
        {
          "output_type": "stream",
          "name": "stdout",
          "text": [
            "\n",
            "Test Epoch: 373\tAccuracy: 9/120 (8%)\n",
            "\n",
            "Train Epoch: 374 [0/1298 (0%)]\tLoss: 2.843601\n"
          ]
        },
        {
          "output_type": "stream",
          "name": "stderr",
          "text": [
            " 94%|█████████▎| 374.1428571428724/400 [06:22<00:22,  1.16it/s]"
          ]
        },
        {
          "output_type": "stream",
          "name": "stdout",
          "text": [
            "\n",
            "Test Epoch: 374\tAccuracy: 10/120 (8%)\n",
            "\n",
            "Train Epoch: 375 [0/1298 (0%)]\tLoss: 2.844102\n"
          ]
        },
        {
          "output_type": "stream",
          "name": "stderr",
          "text": [
            " 94%|█████████▍| 375.1428571428726/400 [06:23<00:20,  1.19it/s] "
          ]
        },
        {
          "output_type": "stream",
          "name": "stdout",
          "text": [
            "\n",
            "Test Epoch: 375\tAccuracy: 9/120 (8%)\n",
            "\n",
            "Train Epoch: 376 [0/1298 (0%)]\tLoss: 2.891484\n"
          ]
        },
        {
          "output_type": "stream",
          "name": "stderr",
          "text": [
            " 94%|█████████▍| 376.14285714287274/400 [06:24<00:20,  1.17it/s]"
          ]
        },
        {
          "output_type": "stream",
          "name": "stdout",
          "text": [
            "\n",
            "Test Epoch: 376\tAccuracy: 10/120 (8%)\n",
            "\n",
            "Train Epoch: 377 [0/1298 (0%)]\tLoss: 2.815096\n"
          ]
        },
        {
          "output_type": "stream",
          "name": "stderr",
          "text": [
            " 94%|█████████▍| 377.1428571428729/400 [06:25<00:18,  1.23it/s]"
          ]
        },
        {
          "output_type": "stream",
          "name": "stdout",
          "text": [
            "\n",
            "Test Epoch: 377\tAccuracy: 8/120 (7%)\n",
            "\n",
            "Train Epoch: 378 [0/1298 (0%)]\tLoss: 2.777534\n"
          ]
        },
        {
          "output_type": "stream",
          "name": "stderr",
          "text": [
            " 95%|█████████▍| 378.1428571428731/400 [06:25<00:17,  1.27it/s]"
          ]
        },
        {
          "output_type": "stream",
          "name": "stdout",
          "text": [
            "\n",
            "Test Epoch: 378\tAccuracy: 8/120 (7%)\n",
            "\n",
            "Train Epoch: 379 [0/1298 (0%)]\tLoss: 2.759116\n"
          ]
        },
        {
          "output_type": "stream",
          "name": "stderr",
          "text": [
            " 95%|█████████▍| 379.0000000000161/400 [06:26<00:16,  1.31it/s] "
          ]
        },
        {
          "output_type": "stream",
          "name": "stdout",
          "text": [
            "\n",
            "Test Epoch: 379\tAccuracy: 10/120 (8%)\n",
            "\n",
            "Train Epoch: 380 [0/1298 (0%)]\tLoss: 2.774485\n"
          ]
        },
        {
          "output_type": "stream",
          "name": "stderr",
          "text": [
            " 95%|█████████▌| 380.00000000001626/400 [06:27<00:17,  1.17it/s]"
          ]
        },
        {
          "output_type": "stream",
          "name": "stdout",
          "text": [
            "\n",
            "Test Epoch: 380\tAccuracy: 10/120 (8%)\n",
            "\n"
          ]
        },
        {
          "output_type": "stream",
          "name": "stderr",
          "text": [
            "\r 95%|█████████▌| 380.1428571428734/400 [06:27<00:19,  1.01it/s] "
          ]
        },
        {
          "output_type": "stream",
          "name": "stdout",
          "text": [
            "Train Epoch: 381 [0/1298 (0%)]\tLoss: 2.716147\n"
          ]
        },
        {
          "output_type": "stream",
          "name": "stderr",
          "text": [
            " 95%|█████████▌| 381.0000000000164/400 [06:28<00:18,  1.05it/s]"
          ]
        },
        {
          "output_type": "stream",
          "name": "stdout",
          "text": [
            "\n",
            "Test Epoch: 381\tAccuracy: 9/120 (8%)\n",
            "\n"
          ]
        },
        {
          "output_type": "stream",
          "name": "stderr",
          "text": [
            "\r 95%|█████████▌| 381.1428571428736/400 [06:29<00:20,  1.07s/it]"
          ]
        },
        {
          "output_type": "stream",
          "name": "stdout",
          "text": [
            "Train Epoch: 382 [0/1298 (0%)]\tLoss: 2.728226\n"
          ]
        },
        {
          "output_type": "stream",
          "name": "stderr",
          "text": [
            " 96%|█████████▌| 382.0000000000166/400 [06:30<00:18,  1.02s/it] "
          ]
        },
        {
          "output_type": "stream",
          "name": "stdout",
          "text": [
            "\n",
            "Test Epoch: 382\tAccuracy: 8/120 (7%)\n",
            "\n"
          ]
        },
        {
          "output_type": "stream",
          "name": "stderr",
          "text": [
            "\r 96%|█████████▌| 382.14285714287377/400 [06:30<00:20,  1.14s/it]"
          ]
        },
        {
          "output_type": "stream",
          "name": "stdout",
          "text": [
            "Train Epoch: 383 [0/1298 (0%)]\tLoss: 2.786596\n"
          ]
        },
        {
          "output_type": "stream",
          "name": "stderr",
          "text": [
            " 96%|█████████▌| 383.00000000001677/400 [06:31<00:17,  1.00s/it]"
          ]
        },
        {
          "output_type": "stream",
          "name": "stdout",
          "text": [
            "\n",
            "Test Epoch: 383\tAccuracy: 9/120 (8%)\n",
            "\n"
          ]
        },
        {
          "output_type": "stream",
          "name": "stderr",
          "text": [
            "\r 96%|█████████▌| 383.14285714287394/400 [06:31<00:19,  1.17s/it]"
          ]
        },
        {
          "output_type": "stream",
          "name": "stdout",
          "text": [
            "Train Epoch: 384 [0/1298 (0%)]\tLoss: 2.806700\n"
          ]
        },
        {
          "output_type": "stream",
          "name": "stderr",
          "text": [
            " 96%|█████████▌| 384.1428571428741/400 [06:32<00:13,  1.15it/s]"
          ]
        },
        {
          "output_type": "stream",
          "name": "stdout",
          "text": [
            "\n",
            "Test Epoch: 384\tAccuracy: 8/120 (7%)\n",
            "\n",
            "Train Epoch: 385 [0/1298 (0%)]\tLoss: 2.817760\n"
          ]
        },
        {
          "output_type": "stream",
          "name": "stderr",
          "text": [
            " 96%|█████████▋| 385.1428571428743/400 [06:33<00:11,  1.26it/s]"
          ]
        },
        {
          "output_type": "stream",
          "name": "stdout",
          "text": [
            "\n",
            "Test Epoch: 385\tAccuracy: 9/120 (8%)\n",
            "\n",
            "Train Epoch: 386 [0/1298 (0%)]\tLoss: 2.762851\n"
          ]
        },
        {
          "output_type": "stream",
          "name": "stderr",
          "text": [
            " 97%|█████████▋| 386.14285714287445/400 [06:34<00:11,  1.18it/s]"
          ]
        },
        {
          "output_type": "stream",
          "name": "stdout",
          "text": [
            "\n",
            "Test Epoch: 386\tAccuracy: 8/120 (7%)\n",
            "\n",
            "Train Epoch: 387 [0/1298 (0%)]\tLoss: 2.850165\n"
          ]
        },
        {
          "output_type": "stream",
          "name": "stderr",
          "text": [
            " 97%|█████████▋| 387.1428571428746/400 [06:35<00:10,  1.25it/s]"
          ]
        },
        {
          "output_type": "stream",
          "name": "stdout",
          "text": [
            "\n",
            "Test Epoch: 387\tAccuracy: 9/120 (8%)\n",
            "\n",
            "Train Epoch: 388 [0/1298 (0%)]\tLoss: 2.731159\n"
          ]
        },
        {
          "output_type": "stream",
          "name": "stderr",
          "text": [
            " 97%|█████████▋| 388.1428571428748/400 [06:36<00:09,  1.21it/s]"
          ]
        },
        {
          "output_type": "stream",
          "name": "stdout",
          "text": [
            "\n",
            "Test Epoch: 388\tAccuracy: 9/120 (8%)\n",
            "\n",
            "Train Epoch: 389 [0/1298 (0%)]\tLoss: 2.726722\n"
          ]
        },
        {
          "output_type": "stream",
          "name": "stderr",
          "text": [
            " 97%|█████████▋| 389.14285714287496/400 [06:37<00:09,  1.20it/s]"
          ]
        },
        {
          "output_type": "stream",
          "name": "stdout",
          "text": [
            "\n",
            "Test Epoch: 389\tAccuracy: 8/120 (7%)\n",
            "\n",
            "Train Epoch: 390 [0/1298 (0%)]\tLoss: 2.844963\n"
          ]
        },
        {
          "output_type": "stream",
          "name": "stderr",
          "text": [
            " 98%|█████████▊| 390.14285714287513/400 [06:38<00:08,  1.19it/s]"
          ]
        },
        {
          "output_type": "stream",
          "name": "stdout",
          "text": [
            "\n",
            "Test Epoch: 390\tAccuracy: 10/120 (8%)\n",
            "\n",
            "Train Epoch: 391 [0/1298 (0%)]\tLoss: 2.852717\n"
          ]
        },
        {
          "output_type": "stream",
          "name": "stderr",
          "text": [
            " 98%|█████████▊| 391.1428571428753/400 [06:39<00:07,  1.23it/s]"
          ]
        },
        {
          "output_type": "stream",
          "name": "stdout",
          "text": [
            "\n",
            "Test Epoch: 391\tAccuracy: 11/120 (9%)\n",
            "\n",
            "Train Epoch: 392 [0/1298 (0%)]\tLoss: 2.796532\n"
          ]
        },
        {
          "output_type": "stream",
          "name": "stderr",
          "text": [
            " 98%|█████████▊| 392.14285714287547/400 [06:40<00:06,  1.21it/s]"
          ]
        },
        {
          "output_type": "stream",
          "name": "stdout",
          "text": [
            "\n",
            "Test Epoch: 392\tAccuracy: 9/120 (8%)\n",
            "\n",
            "Train Epoch: 393 [0/1298 (0%)]\tLoss: 2.748422\n"
          ]
        },
        {
          "output_type": "stream",
          "name": "stderr",
          "text": [
            " 98%|█████████▊| 393.14285714287564/400 [06:41<00:05,  1.18it/s]"
          ]
        },
        {
          "output_type": "stream",
          "name": "stdout",
          "text": [
            "\n",
            "Test Epoch: 393\tAccuracy: 8/120 (7%)\n",
            "\n",
            "Train Epoch: 394 [0/1298 (0%)]\tLoss: 2.765270\n"
          ]
        },
        {
          "output_type": "stream",
          "name": "stderr",
          "text": [
            " 99%|█████████▊| 394.1428571428758/400 [06:42<00:04,  1.20it/s]"
          ]
        },
        {
          "output_type": "stream",
          "name": "stdout",
          "text": [
            "\n",
            "Test Epoch: 394\tAccuracy: 7/120 (6%)\n",
            "\n",
            "Train Epoch: 395 [0/1298 (0%)]\tLoss: 2.809378\n"
          ]
        },
        {
          "output_type": "stream",
          "name": "stderr",
          "text": [
            " 99%|█████████▉| 395.0000000000188/400 [06:43<00:04,  1.02it/s]"
          ]
        },
        {
          "output_type": "stream",
          "name": "stdout",
          "text": [
            "\n",
            "Test Epoch: 395\tAccuracy: 8/120 (7%)\n",
            "\n"
          ]
        },
        {
          "output_type": "stream",
          "name": "stderr",
          "text": [
            "\r 99%|█████████▉| 395.142857142876/400 [06:43<00:05,  1.09s/it] "
          ]
        },
        {
          "output_type": "stream",
          "name": "stdout",
          "text": [
            "Train Epoch: 396 [0/1298 (0%)]\tLoss: 2.691870\n"
          ]
        },
        {
          "output_type": "stream",
          "name": "stderr",
          "text": [
            " 99%|█████████▉| 396.000000000019/400 [06:44<00:03,  1.00it/s]  "
          ]
        },
        {
          "output_type": "stream",
          "name": "stdout",
          "text": [
            "\n",
            "Test Epoch: 396\tAccuracy: 9/120 (8%)\n",
            "\n"
          ]
        },
        {
          "output_type": "stream",
          "name": "stderr",
          "text": [
            "\r 99%|█████████▉| 396.14285714287615/400 [06:44<00:04,  1.19s/it]"
          ]
        },
        {
          "output_type": "stream",
          "name": "stdout",
          "text": [
            "Train Epoch: 397 [0/1298 (0%)]\tLoss: 2.836324\n"
          ]
        },
        {
          "output_type": "stream",
          "name": "stderr",
          "text": [
            " 99%|█████████▉| 397.1428571428763/400 [06:45<00:03,  1.11s/it] "
          ]
        },
        {
          "output_type": "stream",
          "name": "stdout",
          "text": [
            "\n",
            "Test Epoch: 397\tAccuracy: 8/120 (7%)\n",
            "\n",
            "Train Epoch: 398 [0/1298 (0%)]\tLoss: 2.763149\n"
          ]
        },
        {
          "output_type": "stream",
          "name": "stderr",
          "text": [
            "100%|█████████▉| 398.1428571428765/400 [06:47<00:01,  1.04it/s]"
          ]
        },
        {
          "output_type": "stream",
          "name": "stdout",
          "text": [
            "\n",
            "Test Epoch: 398\tAccuracy: 10/120 (8%)\n",
            "\n",
            "Train Epoch: 399 [0/1298 (0%)]\tLoss: 2.814079\n"
          ]
        },
        {
          "output_type": "stream",
          "name": "stderr",
          "text": [
            "100%|█████████▉| 399.14285714287666/400 [06:48<00:00,  1.16it/s]"
          ]
        },
        {
          "output_type": "stream",
          "name": "stdout",
          "text": [
            "\n",
            "Test Epoch: 399\tAccuracy: 11/120 (9%)\n",
            "\n",
            "Train Epoch: 400 [0/1298 (0%)]\tLoss: 2.861721\n"
          ]
        },
        {
          "output_type": "stream",
          "name": "stderr",
          "text": [
            "100%|█████████▉| 399.71428571430533/400 [06:48<00:00,  1.08s/it]/usr/local/lib/python3.10/dist-packages/tqdm/std.py:639: TqdmWarning: clamping frac to range [0, 1]\n",
            "  full_bar = Bar(frac,\n",
            "100%|██████████| 400.00000000001967/400 [06:48<00:00,  1.02s/it]"
          ]
        },
        {
          "output_type": "stream",
          "name": "stdout",
          "text": [
            "\n",
            "Test Epoch: 400\tAccuracy: 10/120 (8%)\n",
            "\n"
          ]
        },
        {
          "output_type": "stream",
          "name": "stderr",
          "text": [
            "\n"
          ]
        }
      ],
      "source": [
        "log_interval = 20\n",
        "n_epoch = 400\n",
        "\n",
        "pbar_update = 1 / (len(train_loader) + len(test_loader))\n",
        "losses = []\n",
        "\n",
        "# The transform needs to live on the same device as the model and the data.\n",
        "transform = transform.to(device)\n",
        "with tqdm(total=n_epoch) as pbar:\n",
        "    for epoch in range(1, n_epoch + 1):\n",
        "        train(model, epoch, log_interval)\n",
        "        test(model, epoch)\n",
        "        scheduler.step()\n",
        "\n",
        "# Let's plot the training loss versus the number of iteration.\n",
        "# plt.plot(losses);\n",
        "# plt.title(\"training loss\");"
      ]
    },
    {
      "cell_type": "markdown",
      "metadata": {
        "id": "wLyNpPK6EvkM"
      },
      "source": [
        "The network should be more than 65% accurate on the test set after 2\n",
        "epochs, and 85% after 21 epochs. Let’s look at the last words in the\n",
        "train set, and see how the model did on it.\n",
        "\n",
        "\n"
      ]
    },
    {
      "cell_type": "code",
      "execution_count": 31,
      "metadata": {
        "id": "QU1VsnFCEKEC"
      },
      "outputs": [],
      "source": [
        "def accuracy(data_loader):\n",
        "\n",
        "  sum_acc = 0\n",
        "\n",
        "  for batch_idx, (data, target) in enumerate(data_loader):\n",
        "\n",
        "          num_correct_preds = 0\n",
        "          num_wrong_preds = 0\n",
        "\n",
        "\n",
        "          data = data.to(device)\n",
        "          targets = target.to(device)\n",
        "\n",
        "          data = data.to(device)\n",
        "          # apply transform and model on whole batch directly on device\n",
        "          data = transform(data)\n",
        "          output = model(data)\n",
        "\n",
        "          # print(f'model output: {output}')\n",
        "          preds = get_likely_index(output)\n",
        "          # pred_labels = index_to_label(tensor.squeeze())\n",
        "          # print(f'model prediction: {preds}')\n",
        "          # print(f'class label: {targets}')\n",
        "\n",
        "          for (pred, target) in zip(preds, targets):\n",
        "            if pred == target:\n",
        "              num_correct_preds += 1\n",
        "            else:\n",
        "              num_wrong_preds += 1\n",
        "\n",
        "\n",
        "          num_samples = len(preds)\n",
        "\n",
        "          acc = num_correct_preds / num_samples\n",
        "          sum_acc += acc\n",
        "\n",
        "          # print(f'accuracy: {acc}')\n",
        "\n",
        "  num_batches = batch_idx + 1\n",
        "  acc_avg = sum_acc / num_batches\n",
        "\n",
        "  return acc_avg"
      ]
    },
    {
      "cell_type": "code",
      "execution_count": 34,
      "metadata": {
        "colab": {
          "base_uri": "https://localhost:8080/"
        },
        "id": "ERPqO3djJYRV",
        "outputId": "6ab313ab-eb85-4daf-8102-8f4476125728"
      },
      "outputs": [
        {
          "output_type": "stream",
          "name": "stdout",
          "text": [
            "train acc: 0.16695601851851852 \n",
            " test acc: 0.08333333333333333\n"
          ]
        }
      ],
      "source": [
        "train_acc = accuracy(train_loader)\n",
        "test_acc = accuracy(test_loader)\n",
        "\n",
        "print(f'train acc: {train_acc} \\n test acc: {test_acc}')"
      ]
    },
    {
      "cell_type": "code",
      "source": [],
      "metadata": {
        "id": "XEBM7XcCnJnD"
      },
      "execution_count": 32,
      "outputs": []
    }
  ],
  "metadata": {
    "accelerator": "GPU",
    "colab": {
      "provenance": [],
      "include_colab_link": true
    },
    "kernelspec": {
      "display_name": "Python 3",
      "name": "python3"
    },
    "language_info": {
      "codemirror_mode": {
        "name": "ipython",
        "version": 3
      },
      "file_extension": ".py",
      "mimetype": "text/x-python",
      "name": "python",
      "nbconvert_exporter": "python",
      "pygments_lexer": "ipython3",
      "version": "3.10.9"
    }
  },
  "nbformat": 4,
  "nbformat_minor": 0
}